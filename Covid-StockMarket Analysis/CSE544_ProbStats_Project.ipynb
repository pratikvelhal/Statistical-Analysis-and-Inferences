{
  "nbformat": 4,
  "nbformat_minor": 0,
  "metadata": {
    "colab": {
      "name": "CSE544_ProbStats_Project.ipynb",
      "provenance": [],
      "collapsed_sections": []
    },
    "kernelspec": {
      "name": "python3",
      "display_name": "Python 3"
    }
  },
  "cells": [
    {
      "cell_type": "code",
      "metadata": {
        "id": "0h_dwkUt_suQ",
        "colab_type": "code",
        "outputId": "9056bd52-20df-4dd5-f366-ccd538a64333",
        "colab": {
          "base_uri": "https://localhost:8080/",
          "height": 120
        }
      },
      "source": [
        "#https://drive.google.com/drive/folders/1932DHC9OX9VSbB8V2k8VG9uh9ly7qKdT?usp=sharing\n",
        "from google.colab import drive\n",
        "drive.mount('/content/drive')"
      ],
      "execution_count": 1,
      "outputs": [
        {
          "output_type": "stream",
          "text": [
            "Go to this URL in a browser: https://accounts.google.com/o/oauth2/auth?client_id=947318989803-6bn6qk8qdgf4n4g3pfee6491hc0brc4i.apps.googleusercontent.com&redirect_uri=urn%3aietf%3awg%3aoauth%3a2.0%3aoob&response_type=code&scope=email%20https%3a%2f%2fwww.googleapis.com%2fauth%2fdocs.test%20https%3a%2f%2fwww.googleapis.com%2fauth%2fdrive%20https%3a%2f%2fwww.googleapis.com%2fauth%2fdrive.photos.readonly%20https%3a%2f%2fwww.googleapis.com%2fauth%2fpeopleapi.readonly\n",
            "\n",
            "Enter your authorization code:\n",
            "··········\n",
            "Mounted at /content/drive\n"
          ],
          "name": "stdout"
        }
      ]
    },
    {
      "cell_type": "code",
      "metadata": {
        "id": "NNC3QwyI4koa",
        "colab_type": "code",
        "outputId": "61601ec6-67eb-403b-ef19-447e27304f84",
        "colab": {
          "base_uri": "https://localhost:8080/",
          "height": 70
        }
      },
      "source": [
        "#Imports\n",
        "import pandas as pd\n",
        "import numpy as np\n",
        "import matplotlib.pyplot as plt\n",
        "import seaborn as sns\n",
        "import math\n",
        "import scipy\n",
        "import plotly.graph_objects as go\n",
        "from datetime import datetime\n",
        "from sklearn.preprocessing import StandardScaler\n",
        "from scipy.stats import poisson\n",
        "from scipy.stats import geom\n",
        "from scipy.stats import binom\n",
        "import random\n",
        "import copy\n",
        "from scipy import stats\n",
        "import statistics\n",
        "from scipy.stats import gamma"
      ],
      "execution_count": 2,
      "outputs": [
        {
          "output_type": "stream",
          "text": [
            "/usr/local/lib/python3.6/dist-packages/statsmodels/tools/_testing.py:19: FutureWarning: pandas.util.testing is deprecated. Use the functions in the public API at pandas.testing instead.\n",
            "  import pandas.util.testing as tm\n"
          ],
          "name": "stderr"
        }
      ]
    },
    {
      "cell_type": "markdown",
      "metadata": {
        "id": "7CnW_8l-Ry8U",
        "colab_type": "text"
      },
      "source": [
        "## **1. Loading and Cleaning Data**\n",
        "---\n",
        "\n",
        "In this section, we load, clean, and sanitize our data\n",
        "\n",
        "---"
      ]
    },
    {
      "cell_type": "markdown",
      "metadata": {
        "id": "ibfdEk_V5SCM",
        "colab_type": "text"
      },
      "source": [
        " Loading Covid Data"
      ]
    },
    {
      "cell_type": "code",
      "metadata": {
        "id": "SMekKuIh48Na",
        "colab_type": "code",
        "colab": {}
      },
      "source": [
        "usCovidDaily = pd.read_csv(\"/content/drive/My Drive/CSE544_Project_Submission/us_covid19_daily.csv\")\n",
        "usCovidStatesDaily = pd.read_csv(\"/content/drive/My Drive/CSE544_Project_Submission/us_states_covid19_daily.csv\")"
      ],
      "execution_count": 0,
      "outputs": []
    },
    {
      "cell_type": "markdown",
      "metadata": {
        "id": "h2U6wAFn5aqr",
        "colab_type": "text"
      },
      "source": [
        "Loading X - Stock Indices Data"
      ]
    },
    {
      "cell_type": "code",
      "metadata": {
        "id": "9IYUvQEV5YwK",
        "colab_type": "code",
        "colab": {}
      },
      "source": [
        "dowjones = pd.read_csv(\"/content/drive/My Drive/CSE544_Project_Submission/dowjones.csv\")\n",
        "nasdaq = pd.read_csv(\"/content/drive/My Drive/CSE544_Project_Submission/nasdaq.csv\")\n",
        "snp500 = pd.read_csv(\"/content/drive/My Drive/CSE544_Project_Submission/snp500.csv\")"
      ],
      "execution_count": 0,
      "outputs": []
    },
    {
      "cell_type": "markdown",
      "metadata": {
        "id": "jHl4ayqH5zvt",
        "colab_type": "text"
      },
      "source": [
        "**Sanitizing Data and Outlier Detection**"
      ]
    },
    {
      "cell_type": "markdown",
      "metadata": {
        "id": "oFRe-2EdUaHQ",
        "colab_type": "text"
      },
      "source": [
        "Sanitizing Covid Data"
      ]
    },
    {
      "cell_type": "code",
      "metadata": {
        "id": "7iiiWUAT6ANW",
        "colab_type": "code",
        "outputId": "ad14155f-294e-45ae-c48f-fe807ff5856e",
        "colab": {
          "base_uri": "https://localhost:8080/",
          "height": 300
        }
      },
      "source": [
        "usCovidStatesDaily.head()"
      ],
      "execution_count": 5,
      "outputs": [
        {
          "output_type": "execute_result",
          "data": {
            "text/html": [
              "<div>\n",
              "<style scoped>\n",
              "    .dataframe tbody tr th:only-of-type {\n",
              "        vertical-align: middle;\n",
              "    }\n",
              "\n",
              "    .dataframe tbody tr th {\n",
              "        vertical-align: top;\n",
              "    }\n",
              "\n",
              "    .dataframe thead th {\n",
              "        text-align: right;\n",
              "    }\n",
              "</style>\n",
              "<table border=\"1\" class=\"dataframe\">\n",
              "  <thead>\n",
              "    <tr style=\"text-align: right;\">\n",
              "      <th></th>\n",
              "      <th>date</th>\n",
              "      <th>state</th>\n",
              "      <th>positive</th>\n",
              "      <th>negative</th>\n",
              "      <th>pending</th>\n",
              "      <th>hospitalizedCurrently</th>\n",
              "      <th>hospitalizedCumulative</th>\n",
              "      <th>inIcuCurrently</th>\n",
              "      <th>inIcuCumulative</th>\n",
              "      <th>onVentilatorCurrently</th>\n",
              "      <th>onVentilatorCumulative</th>\n",
              "      <th>recovered</th>\n",
              "      <th>dataQualityGrade</th>\n",
              "      <th>lastUpdateEt</th>\n",
              "      <th>hash</th>\n",
              "      <th>dateChecked</th>\n",
              "      <th>death</th>\n",
              "      <th>hospitalized</th>\n",
              "      <th>total</th>\n",
              "      <th>totalTestResults</th>\n",
              "      <th>posNeg</th>\n",
              "      <th>fips</th>\n",
              "      <th>deathIncrease</th>\n",
              "      <th>hospitalizedIncrease</th>\n",
              "      <th>negativeIncrease</th>\n",
              "      <th>positiveIncrease</th>\n",
              "      <th>totalTestResultsIncrease</th>\n",
              "    </tr>\n",
              "  </thead>\n",
              "  <tbody>\n",
              "    <tr>\n",
              "      <th>0</th>\n",
              "      <td>20200509</td>\n",
              "      <td>AK</td>\n",
              "      <td>378.0</td>\n",
              "      <td>26071.0</td>\n",
              "      <td>NaN</td>\n",
              "      <td>8.0</td>\n",
              "      <td>NaN</td>\n",
              "      <td>NaN</td>\n",
              "      <td>NaN</td>\n",
              "      <td>NaN</td>\n",
              "      <td>NaN</td>\n",
              "      <td>318.0</td>\n",
              "      <td>C</td>\n",
              "      <td>5/9/2020 00:00</td>\n",
              "      <td>81730ed56f3a546adb227bf046219933797f9cbb</td>\n",
              "      <td>2020-05-09T20:00:00Z</td>\n",
              "      <td>10.0</td>\n",
              "      <td>NaN</td>\n",
              "      <td>26449</td>\n",
              "      <td>26449</td>\n",
              "      <td>26449</td>\n",
              "      <td>2</td>\n",
              "      <td>0.0</td>\n",
              "      <td>0.0</td>\n",
              "      <td>975.0</td>\n",
              "      <td>1.0</td>\n",
              "      <td>976.0</td>\n",
              "    </tr>\n",
              "    <tr>\n",
              "      <th>1</th>\n",
              "      <td>20200509</td>\n",
              "      <td>AL</td>\n",
              "      <td>9567.0</td>\n",
              "      <td>115927.0</td>\n",
              "      <td>NaN</td>\n",
              "      <td>NaN</td>\n",
              "      <td>1228.0</td>\n",
              "      <td>NaN</td>\n",
              "      <td>459.0</td>\n",
              "      <td>NaN</td>\n",
              "      <td>272.0</td>\n",
              "      <td>NaN</td>\n",
              "      <td>B</td>\n",
              "      <td>5/9/2020 00:00</td>\n",
              "      <td>7c1a5067467c6ce495a787917ddccae550e81335</td>\n",
              "      <td>2020-05-09T20:00:00Z</td>\n",
              "      <td>388.0</td>\n",
              "      <td>1228.0</td>\n",
              "      <td>125494</td>\n",
              "      <td>125494</td>\n",
              "      <td>125494</td>\n",
              "      <td>1</td>\n",
              "      <td>13.0</td>\n",
              "      <td>21.0</td>\n",
              "      <td>5034.0</td>\n",
              "      <td>346.0</td>\n",
              "      <td>5380.0</td>\n",
              "    </tr>\n",
              "    <tr>\n",
              "      <th>2</th>\n",
              "      <td>20200509</td>\n",
              "      <td>AR</td>\n",
              "      <td>3747.0</td>\n",
              "      <td>61781.0</td>\n",
              "      <td>NaN</td>\n",
              "      <td>64.0</td>\n",
              "      <td>471.0</td>\n",
              "      <td>NaN</td>\n",
              "      <td>NaN</td>\n",
              "      <td>14.0</td>\n",
              "      <td>96.0</td>\n",
              "      <td>2968.0</td>\n",
              "      <td>B</td>\n",
              "      <td>5/9/2020 10:15</td>\n",
              "      <td>64db20aa3b59b76ce6735254a2bb4e60fe5ecede</td>\n",
              "      <td>2020-05-09T20:00:00Z</td>\n",
              "      <td>88.0</td>\n",
              "      <td>471.0</td>\n",
              "      <td>65528</td>\n",
              "      <td>65528</td>\n",
              "      <td>65528</td>\n",
              "      <td>5</td>\n",
              "      <td>0.0</td>\n",
              "      <td>5.0</td>\n",
              "      <td>1481.0</td>\n",
              "      <td>53.0</td>\n",
              "      <td>1534.0</td>\n",
              "    </tr>\n",
              "    <tr>\n",
              "      <th>3</th>\n",
              "      <td>20200509</td>\n",
              "      <td>AS</td>\n",
              "      <td>0.0</td>\n",
              "      <td>83.0</td>\n",
              "      <td>NaN</td>\n",
              "      <td>NaN</td>\n",
              "      <td>NaN</td>\n",
              "      <td>NaN</td>\n",
              "      <td>NaN</td>\n",
              "      <td>NaN</td>\n",
              "      <td>NaN</td>\n",
              "      <td>NaN</td>\n",
              "      <td>D</td>\n",
              "      <td>5/3/2020 00:00</td>\n",
              "      <td>b6693293693460b7260be24906ab0d08dd930dfc</td>\n",
              "      <td>2020-05-09T20:00:00Z</td>\n",
              "      <td>0.0</td>\n",
              "      <td>NaN</td>\n",
              "      <td>83</td>\n",
              "      <td>83</td>\n",
              "      <td>83</td>\n",
              "      <td>60</td>\n",
              "      <td>0.0</td>\n",
              "      <td>0.0</td>\n",
              "      <td>0.0</td>\n",
              "      <td>0.0</td>\n",
              "      <td>0.0</td>\n",
              "    </tr>\n",
              "    <tr>\n",
              "      <th>4</th>\n",
              "      <td>20200509</td>\n",
              "      <td>AZ</td>\n",
              "      <td>10960.0</td>\n",
              "      <td>117980.0</td>\n",
              "      <td>NaN</td>\n",
              "      <td>739.0</td>\n",
              "      <td>1514.0</td>\n",
              "      <td>296.0</td>\n",
              "      <td>NaN</td>\n",
              "      <td>186.0</td>\n",
              "      <td>NaN</td>\n",
              "      <td>2684.0</td>\n",
              "      <td>A+</td>\n",
              "      <td>5/9/2020 00:00</td>\n",
              "      <td>e83f3a1b741065e7de9a2cc289d06e77bbc2c72f</td>\n",
              "      <td>2020-05-09T20:00:00Z</td>\n",
              "      <td>532.0</td>\n",
              "      <td>1514.0</td>\n",
              "      <td>128940</td>\n",
              "      <td>128940</td>\n",
              "      <td>128940</td>\n",
              "      <td>4</td>\n",
              "      <td>15.0</td>\n",
              "      <td>32.0</td>\n",
              "      <td>8599.0</td>\n",
              "      <td>434.0</td>\n",
              "      <td>9033.0</td>\n",
              "    </tr>\n",
              "  </tbody>\n",
              "</table>\n",
              "</div>"
            ],
            "text/plain": [
              "       date state  ...  positiveIncrease  totalTestResultsIncrease\n",
              "0  20200509    AK  ...               1.0                     976.0\n",
              "1  20200509    AL  ...             346.0                    5380.0\n",
              "2  20200509    AR  ...              53.0                    1534.0\n",
              "3  20200509    AS  ...               0.0                       0.0\n",
              "4  20200509    AZ  ...             434.0                    9033.0\n",
              "\n",
              "[5 rows x 27 columns]"
            ]
          },
          "metadata": {
            "tags": []
          },
          "execution_count": 5
        }
      ]
    },
    {
      "cell_type": "markdown",
      "metadata": {
        "id": "Djrv9REJ_hvy",
        "colab_type": "text"
      },
      "source": [
        "Keeping only 48 contigous US states"
      ]
    },
    {
      "cell_type": "code",
      "metadata": {
        "id": "uNGmCAO_6c5Y",
        "colab_type": "code",
        "outputId": "5b2d4e32-4a37-4906-b582-367312dcee71",
        "colab": {
          "base_uri": "https://localhost:8080/",
          "height": 150
        }
      },
      "source": [
        "statesToRemove = ['AK', 'HI', 'AS', 'GU', 'MP', 'PR', 'VI', 'DC']\n",
        "usCovidStatesDaily = usCovidStatesDaily[~usCovidStatesDaily.state.isin(statesToRemove)]\n",
        "#usCovidStatesDaily.shape\n",
        "usCovidStatesDaily.columns #check columns present"
      ],
      "execution_count": 6,
      "outputs": [
        {
          "output_type": "execute_result",
          "data": {
            "text/plain": [
              "Index(['date', 'state', 'positive', 'negative', 'pending',\n",
              "       'hospitalizedCurrently', 'hospitalizedCumulative', 'inIcuCurrently',\n",
              "       'inIcuCumulative', 'onVentilatorCurrently', 'onVentilatorCumulative',\n",
              "       'recovered', 'dataQualityGrade', 'lastUpdateEt', 'hash', 'dateChecked',\n",
              "       'death', 'hospitalized', 'total', 'totalTestResults', 'posNeg', 'fips',\n",
              "       'deathIncrease', 'hospitalizedIncrease', 'negativeIncrease',\n",
              "       'positiveIncrease', 'totalTestResultsIncrease'],\n",
              "      dtype='object')"
            ]
          },
          "metadata": {
            "tags": []
          },
          "execution_count": 6
        }
      ]
    },
    {
      "cell_type": "markdown",
      "metadata": {
        "id": "cM8b-VqlBxo0",
        "colab_type": "text"
      },
      "source": [
        "Maintaining only columns of Interest"
      ]
    },
    {
      "cell_type": "code",
      "metadata": {
        "id": "g_IyP7eSBw5u",
        "colab_type": "code",
        "outputId": "ce499fca-2bbc-40fd-f8f7-076a129e84d2",
        "colab": {
          "base_uri": "https://localhost:8080/",
          "height": 117
        }
      },
      "source": [
        "usCovidStatesDaily = usCovidStatesDaily[['date', 'state', 'positive', 'negative', 'hospitalizedCurrently', 'hospitalizedCumulative', 'inIcuCurrently','inIcuCumulative','onVentilatorCurrently','onVentilatorCumulative','recovered', 'death', 'deathIncrease', 'hospitalizedIncrease', 'negativeIncrease', 'positiveIncrease','totalTestResults','totalTestResultsIncrease']]\n",
        "usCovidStatesDaily.columns"
      ],
      "execution_count": 7,
      "outputs": [
        {
          "output_type": "execute_result",
          "data": {
            "text/plain": [
              "Index(['date', 'state', 'positive', 'negative', 'hospitalizedCurrently',\n",
              "       'hospitalizedCumulative', 'inIcuCurrently', 'inIcuCumulative',\n",
              "       'onVentilatorCurrently', 'onVentilatorCumulative', 'recovered', 'death',\n",
              "       'deathIncrease', 'hospitalizedIncrease', 'negativeIncrease',\n",
              "       'positiveIncrease', 'totalTestResults', 'totalTestResultsIncrease'],\n",
              "      dtype='object')"
            ]
          },
          "metadata": {
            "tags": []
          },
          "execution_count": 7
        }
      ]
    },
    {
      "cell_type": "markdown",
      "metadata": {
        "id": "ViR3N0Q5P5wi",
        "colab_type": "text"
      },
      "source": [
        "Outlier Analysis using Tukey's rule"
      ]
    },
    {
      "cell_type": "code",
      "metadata": {
        "id": "s9krbfIxdo74",
        "colab_type": "code",
        "outputId": "8e02a754-fa62-438d-c67d-700bb095c3d5",
        "colab": {
          "base_uri": "https://localhost:8080/",
          "height": 67
        }
      },
      "source": [
        "#Finding IQR for each state and then removing outliers using Tukey's rule\n",
        "\n",
        "def RemoveOutliers(statedf,tempdf):\n",
        "  #sns.boxplot(x=statedf['positiveIncrease'])\n",
        "  usCovidStatesDailyQ1 = statedf.quantile(0.25) #left quantile\n",
        "  usCovidStatesDailyQ3 = statedf.quantile(0.75) #right quantile\n",
        "  IQR = usCovidStatesDailyQ3 - usCovidStatesDailyQ1  \n",
        "  statedf = statedf[~((statedf < (usCovidStatesDailyQ1 - 5 * IQR)) | (statedf > (usCovidStatesDailyQ3 + 5 * IQR))).any(axis=1)] #filtering on iqr using tukey's rule\n",
        "  tempdf = pd.concat([tempdf,statedf])\n",
        "  return tempdf\n",
        "\n",
        "tempdf = usCovidStatesDaily.copy()\n",
        "tempdf.drop(tempdf.index, inplace=True)\n",
        "print(\"Number of data rows before removing outliers:\",usCovidStatesDaily.shape[0])\n",
        "usStates = usCovidStatesDaily['state'].unique()\n",
        "for i in range(0,len(usStates)):\n",
        "    state = usStates[i] \n",
        "    statedata = usCovidStatesDaily[usCovidStatesDaily['state']==state]\n",
        "    tempdf = RemoveOutliers(statedata,tempdf) #remove outliers from state and merge back with master dataframe\n",
        "print(\"Number of data rows after removing outliers:\",tempdf.shape[0])\n",
        "print(\"Total outliers removed:\",usCovidStatesDaily.shape[0]-tempdf.shape[0] )\n",
        "usCovidStatesDaily = tempdf"
      ],
      "execution_count": 8,
      "outputs": [
        {
          "output_type": "stream",
          "text": [
            "Number of data rows before removing outliers: 3187\n",
            "Number of data rows after removing outliers: 3021\n",
            "Total outliers removed: 166\n"
          ],
          "name": "stdout"
        }
      ]
    },
    {
      "cell_type": "markdown",
      "metadata": {
        "id": "o-bFG-JT0w59",
        "colab_type": "text"
      },
      "source": [
        "Check if datatypes of all columns are correct"
      ]
    },
    {
      "cell_type": "code",
      "metadata": {
        "id": "uvi1rlQh0qvv",
        "colab_type": "code",
        "outputId": "a7988cbe-cd36-474d-abca-d09e4e8aa081",
        "colab": {
          "base_uri": "https://localhost:8080/",
          "height": 334
        }
      },
      "source": [
        "usCovidStatesDaily.dtypes"
      ],
      "execution_count": 9,
      "outputs": [
        {
          "output_type": "execute_result",
          "data": {
            "text/plain": [
              "date                          int64\n",
              "state                        object\n",
              "positive                    float64\n",
              "negative                    float64\n",
              "hospitalizedCurrently       float64\n",
              "hospitalizedCumulative      float64\n",
              "inIcuCurrently              float64\n",
              "inIcuCumulative             float64\n",
              "onVentilatorCurrently       float64\n",
              "onVentilatorCumulative      float64\n",
              "recovered                   float64\n",
              "death                       float64\n",
              "deathIncrease               float64\n",
              "hospitalizedIncrease        float64\n",
              "negativeIncrease            float64\n",
              "positiveIncrease            float64\n",
              "totalTestResults              int64\n",
              "totalTestResultsIncrease    float64\n",
              "dtype: object"
            ]
          },
          "metadata": {
            "tags": []
          },
          "execution_count": 9
        }
      ]
    },
    {
      "cell_type": "code",
      "metadata": {
        "id": "jeltHxTLXrV5",
        "colab_type": "code",
        "colab": {}
      },
      "source": [
        "#Converting date to a datetime object\n",
        "usCovidStatesDaily[\"date\"] = pd.to_datetime(usCovidStatesDaily[\"date\"], format='%Y%m%d')"
      ],
      "execution_count": 0,
      "outputs": []
    },
    {
      "cell_type": "markdown",
      "metadata": {
        "id": "3M1UHKF8_1cj",
        "colab_type": "text"
      },
      "source": [
        "Replacing NaN's with 0 as we will be dealing with numeric data"
      ]
    },
    {
      "cell_type": "code",
      "metadata": {
        "id": "a5sYQPODAWAD",
        "colab_type": "code",
        "outputId": "9f37601a-bed6-47ac-99aa-03f443cfce8a",
        "colab": {
          "base_uri": "https://localhost:8080/",
          "height": 686
        }
      },
      "source": [
        "print(usCovidStatesDaily.isna().any())\n",
        "usCovidStatesDaily = usCovidStatesDaily.fillna(0.0) #replace NaNs with 0\n",
        "print(\"\\nAfter cleaning:\")\n",
        "print(usCovidStatesDaily.isna().any())"
      ],
      "execution_count": 11,
      "outputs": [
        {
          "output_type": "stream",
          "text": [
            "date                        False\n",
            "state                       False\n",
            "positive                    False\n",
            "negative                     True\n",
            "hospitalizedCurrently        True\n",
            "hospitalizedCumulative       True\n",
            "inIcuCurrently               True\n",
            "inIcuCumulative              True\n",
            "onVentilatorCurrently        True\n",
            "onVentilatorCumulative       True\n",
            "recovered                    True\n",
            "death                        True\n",
            "deathIncrease                True\n",
            "hospitalizedIncrease         True\n",
            "negativeIncrease             True\n",
            "positiveIncrease             True\n",
            "totalTestResults            False\n",
            "totalTestResultsIncrease     True\n",
            "dtype: bool\n",
            "\n",
            "After cleaning:\n",
            "date                        False\n",
            "state                       False\n",
            "positive                    False\n",
            "negative                    False\n",
            "hospitalizedCurrently       False\n",
            "hospitalizedCumulative      False\n",
            "inIcuCurrently              False\n",
            "inIcuCumulative             False\n",
            "onVentilatorCurrently       False\n",
            "onVentilatorCumulative      False\n",
            "recovered                   False\n",
            "death                       False\n",
            "deathIncrease               False\n",
            "hospitalizedIncrease        False\n",
            "negativeIncrease            False\n",
            "positiveIncrease            False\n",
            "totalTestResults            False\n",
            "totalTestResultsIncrease    False\n",
            "dtype: bool\n"
          ],
          "name": "stdout"
        }
      ]
    },
    {
      "cell_type": "markdown",
      "metadata": {
        "id": "c75lO2Jh7XgW",
        "colab_type": "text"
      },
      "source": [
        "Consider a time frame from first february till 30th April for consistency"
      ]
    },
    {
      "cell_type": "code",
      "metadata": {
        "id": "YGWBp3q47WVP",
        "colab_type": "code",
        "colab": {}
      },
      "source": [
        "start_date = '2020-01-31'\n",
        "end_date = '2020-05-01'\n",
        "usCovidStatesDaily = usCovidStatesDaily[(usCovidStatesDaily['date'] > start_date ) & (usCovidStatesDaily['date'] < end_date)] #Filter on range of dates\n",
        "usCovidStatesDaily = usCovidStatesDaily.sort_values(['date'],ascending=True).reset_index(drop=True) #Sort by date"
      ],
      "execution_count": 0,
      "outputs": []
    },
    {
      "cell_type": "markdown",
      "metadata": {
        "id": "L3GGLMLiGwL8",
        "colab_type": "text"
      },
      "source": [
        "Aggregate Data for states and store seperately"
      ]
    },
    {
      "cell_type": "code",
      "metadata": {
        "id": "p8-NyXz7F8iV",
        "colab_type": "code",
        "colab": {}
      },
      "source": [
        "usCovidDaily = usCovidStatesDaily.groupby('date').agg({'positive' : 'sum', 'negative' : 'sum', 'hospitalizedCurrently' : 'sum', 'hospitalizedCumulative' : 'sum', 'recovered' : 'sum', 'death' : 'sum', 'deathIncrease' : 'sum', 'hospitalizedIncrease' : 'sum', 'negativeIncrease' : 'sum', 'positiveIncrease' : 'sum'})\n",
        "usCovidDaily = usCovidDaily.reset_index()"
      ],
      "execution_count": 0,
      "outputs": []
    },
    {
      "cell_type": "markdown",
      "metadata": {
        "id": "u14T_L5RUicA",
        "colab_type": "text"
      },
      "source": [
        "**Sanitizing X Dataset**"
      ]
    },
    {
      "cell_type": "markdown",
      "metadata": {
        "id": "NLBju3VSVHoQ",
        "colab_type": "text"
      },
      "source": [
        "Checking for NaN values"
      ]
    },
    {
      "cell_type": "code",
      "metadata": {
        "id": "MAQVj9JPUmp7",
        "colab_type": "code",
        "outputId": "01ad26f9-9325-4715-f6dd-3d9828df2d79",
        "colab": {
          "base_uri": "https://localhost:8080/",
          "height": 196
        }
      },
      "source": [
        "dowjones.head()"
      ],
      "execution_count": 14,
      "outputs": [
        {
          "output_type": "execute_result",
          "data": {
            "text/html": [
              "<div>\n",
              "<style scoped>\n",
              "    .dataframe tbody tr th:only-of-type {\n",
              "        vertical-align: middle;\n",
              "    }\n",
              "\n",
              "    .dataframe tbody tr th {\n",
              "        vertical-align: top;\n",
              "    }\n",
              "\n",
              "    .dataframe thead th {\n",
              "        text-align: right;\n",
              "    }\n",
              "</style>\n",
              "<table border=\"1\" class=\"dataframe\">\n",
              "  <thead>\n",
              "    <tr style=\"text-align: right;\">\n",
              "      <th></th>\n",
              "      <th>Date</th>\n",
              "      <th>High</th>\n",
              "      <th>Low</th>\n",
              "      <th>Open</th>\n",
              "      <th>Close</th>\n",
              "      <th>Volume</th>\n",
              "      <th>Adj Close</th>\n",
              "    </tr>\n",
              "  </thead>\n",
              "  <tbody>\n",
              "    <tr>\n",
              "      <th>0</th>\n",
              "      <td>2019-04-22</td>\n",
              "      <td>26553.050781</td>\n",
              "      <td>26458.609375</td>\n",
              "      <td>26510.769531</td>\n",
              "      <td>26511.050781</td>\n",
              "      <td>232570000</td>\n",
              "      <td>26511.050781</td>\n",
              "    </tr>\n",
              "    <tr>\n",
              "      <th>1</th>\n",
              "      <td>2019-04-23</td>\n",
              "      <td>26695.960938</td>\n",
              "      <td>26503.560547</td>\n",
              "      <td>26513.830078</td>\n",
              "      <td>26656.390625</td>\n",
              "      <td>311690000</td>\n",
              "      <td>26656.390625</td>\n",
              "    </tr>\n",
              "    <tr>\n",
              "      <th>2</th>\n",
              "      <td>2019-04-24</td>\n",
              "      <td>26680.580078</td>\n",
              "      <td>26582.859375</td>\n",
              "      <td>26652.560547</td>\n",
              "      <td>26597.050781</td>\n",
              "      <td>283370000</td>\n",
              "      <td>26597.050781</td>\n",
              "    </tr>\n",
              "    <tr>\n",
              "      <th>3</th>\n",
              "      <td>2019-04-25</td>\n",
              "      <td>26536.480469</td>\n",
              "      <td>26310.279297</td>\n",
              "      <td>26426.369141</td>\n",
              "      <td>26462.080078</td>\n",
              "      <td>296730000</td>\n",
              "      <td>26462.080078</td>\n",
              "    </tr>\n",
              "    <tr>\n",
              "      <th>4</th>\n",
              "      <td>2019-04-26</td>\n",
              "      <td>26543.560547</td>\n",
              "      <td>26392.550781</td>\n",
              "      <td>26454.619141</td>\n",
              "      <td>26543.330078</td>\n",
              "      <td>317290000</td>\n",
              "      <td>26543.330078</td>\n",
              "    </tr>\n",
              "  </tbody>\n",
              "</table>\n",
              "</div>"
            ],
            "text/plain": [
              "         Date          High  ...     Volume     Adj Close\n",
              "0  2019-04-22  26553.050781  ...  232570000  26511.050781\n",
              "1  2019-04-23  26695.960938  ...  311690000  26656.390625\n",
              "2  2019-04-24  26680.580078  ...  283370000  26597.050781\n",
              "3  2019-04-25  26536.480469  ...  296730000  26462.080078\n",
              "4  2019-04-26  26543.560547  ...  317290000  26543.330078\n",
              "\n",
              "[5 rows x 7 columns]"
            ]
          },
          "metadata": {
            "tags": []
          },
          "execution_count": 14
        }
      ]
    },
    {
      "cell_type": "code",
      "metadata": {
        "id": "dbK9XExrUr11",
        "colab_type": "code",
        "outputId": "28e0dcde-f9d9-4bdf-de2d-3901f241450a",
        "colab": {
          "base_uri": "https://localhost:8080/",
          "height": 150
        }
      },
      "source": [
        "dowjones.isna().any() #Check for NaN values"
      ],
      "execution_count": 15,
      "outputs": [
        {
          "output_type": "execute_result",
          "data": {
            "text/plain": [
              "Date         False\n",
              "High         False\n",
              "Low          False\n",
              "Open         False\n",
              "Close        False\n",
              "Volume       False\n",
              "Adj Close    False\n",
              "dtype: bool"
            ]
          },
          "metadata": {
            "tags": []
          },
          "execution_count": 15
        }
      ]
    },
    {
      "cell_type": "code",
      "metadata": {
        "id": "6gJ_OixNUxun",
        "colab_type": "code",
        "outputId": "d9d66878-5189-48eb-9774-edd22b2be8d6",
        "colab": {
          "base_uri": "https://localhost:8080/",
          "height": 196
        }
      },
      "source": [
        "nasdaq.head()"
      ],
      "execution_count": 16,
      "outputs": [
        {
          "output_type": "execute_result",
          "data": {
            "text/html": [
              "<div>\n",
              "<style scoped>\n",
              "    .dataframe tbody tr th:only-of-type {\n",
              "        vertical-align: middle;\n",
              "    }\n",
              "\n",
              "    .dataframe tbody tr th {\n",
              "        vertical-align: top;\n",
              "    }\n",
              "\n",
              "    .dataframe thead th {\n",
              "        text-align: right;\n",
              "    }\n",
              "</style>\n",
              "<table border=\"1\" class=\"dataframe\">\n",
              "  <thead>\n",
              "    <tr style=\"text-align: right;\">\n",
              "      <th></th>\n",
              "      <th>Date</th>\n",
              "      <th>High</th>\n",
              "      <th>Low</th>\n",
              "      <th>Open</th>\n",
              "      <th>Close</th>\n",
              "      <th>Volume</th>\n",
              "      <th>Adj Close</th>\n",
              "    </tr>\n",
              "  </thead>\n",
              "  <tbody>\n",
              "    <tr>\n",
              "      <th>0</th>\n",
              "      <td>2019-04-22</td>\n",
              "      <td>7746.75</td>\n",
              "      <td>7669.75</td>\n",
              "      <td>7715.25</td>\n",
              "      <td>7734.75</td>\n",
              "      <td>393586.0</td>\n",
              "      <td>7734.75</td>\n",
              "    </tr>\n",
              "    <tr>\n",
              "      <th>1</th>\n",
              "      <td>2019-04-23</td>\n",
              "      <td>7843.75</td>\n",
              "      <td>7724.50</td>\n",
              "      <td>7738.00</td>\n",
              "      <td>7838.00</td>\n",
              "      <td>253668.0</td>\n",
              "      <td>7838.00</td>\n",
              "    </tr>\n",
              "    <tr>\n",
              "      <th>2</th>\n",
              "      <td>2019-04-24</td>\n",
              "      <td>7852.75</td>\n",
              "      <td>7802.25</td>\n",
              "      <td>7833.50</td>\n",
              "      <td>7847.75</td>\n",
              "      <td>427149.0</td>\n",
              "      <td>7847.75</td>\n",
              "    </tr>\n",
              "    <tr>\n",
              "      <th>3</th>\n",
              "      <td>2019-04-25</td>\n",
              "      <td>7879.50</td>\n",
              "      <td>7792.00</td>\n",
              "      <td>7855.25</td>\n",
              "      <td>7798.50</td>\n",
              "      <td>387633.0</td>\n",
              "      <td>7798.50</td>\n",
              "    </tr>\n",
              "    <tr>\n",
              "      <th>4</th>\n",
              "      <td>2019-04-26</td>\n",
              "      <td>7845.50</td>\n",
              "      <td>7755.50</td>\n",
              "      <td>7799.25</td>\n",
              "      <td>7840.25</td>\n",
              "      <td>488329.0</td>\n",
              "      <td>7840.25</td>\n",
              "    </tr>\n",
              "  </tbody>\n",
              "</table>\n",
              "</div>"
            ],
            "text/plain": [
              "         Date     High      Low     Open    Close    Volume  Adj Close\n",
              "0  2019-04-22  7746.75  7669.75  7715.25  7734.75  393586.0    7734.75\n",
              "1  2019-04-23  7843.75  7724.50  7738.00  7838.00  253668.0    7838.00\n",
              "2  2019-04-24  7852.75  7802.25  7833.50  7847.75  427149.0    7847.75\n",
              "3  2019-04-25  7879.50  7792.00  7855.25  7798.50  387633.0    7798.50\n",
              "4  2019-04-26  7845.50  7755.50  7799.25  7840.25  488329.0    7840.25"
            ]
          },
          "metadata": {
            "tags": []
          },
          "execution_count": 16
        }
      ]
    },
    {
      "cell_type": "code",
      "metadata": {
        "id": "hpmy1EU9U5s9",
        "colab_type": "code",
        "outputId": "e87eecd7-c50a-4d65-f475-9afe9a501567",
        "colab": {
          "base_uri": "https://localhost:8080/",
          "height": 150
        }
      },
      "source": [
        "nasdaq.isna().any()"
      ],
      "execution_count": 17,
      "outputs": [
        {
          "output_type": "execute_result",
          "data": {
            "text/plain": [
              "Date         False\n",
              "High         False\n",
              "Low          False\n",
              "Open         False\n",
              "Close        False\n",
              "Volume       False\n",
              "Adj Close    False\n",
              "dtype: bool"
            ]
          },
          "metadata": {
            "tags": []
          },
          "execution_count": 17
        }
      ]
    },
    {
      "cell_type": "code",
      "metadata": {
        "id": "S57imY-uU8k3",
        "colab_type": "code",
        "outputId": "878c0b83-22aa-4841-a58a-0b8be2ee7736",
        "colab": {
          "base_uri": "https://localhost:8080/",
          "height": 196
        }
      },
      "source": [
        "snp500.head()"
      ],
      "execution_count": 18,
      "outputs": [
        {
          "output_type": "execute_result",
          "data": {
            "text/html": [
              "<div>\n",
              "<style scoped>\n",
              "    .dataframe tbody tr th:only-of-type {\n",
              "        vertical-align: middle;\n",
              "    }\n",
              "\n",
              "    .dataframe tbody tr th {\n",
              "        vertical-align: top;\n",
              "    }\n",
              "\n",
              "    .dataframe thead th {\n",
              "        text-align: right;\n",
              "    }\n",
              "</style>\n",
              "<table border=\"1\" class=\"dataframe\">\n",
              "  <thead>\n",
              "    <tr style=\"text-align: right;\">\n",
              "      <th></th>\n",
              "      <th>Date</th>\n",
              "      <th>High</th>\n",
              "      <th>Low</th>\n",
              "      <th>Open</th>\n",
              "      <th>Close</th>\n",
              "      <th>Volume</th>\n",
              "      <th>Adj Close</th>\n",
              "    </tr>\n",
              "  </thead>\n",
              "  <tbody>\n",
              "    <tr>\n",
              "      <th>0</th>\n",
              "      <td>2019-04-22</td>\n",
              "      <td>2909.510010</td>\n",
              "      <td>2896.350098</td>\n",
              "      <td>2898.780029</td>\n",
              "      <td>2907.969971</td>\n",
              "      <td>2997950000</td>\n",
              "      <td>2907.969971</td>\n",
              "    </tr>\n",
              "    <tr>\n",
              "      <th>1</th>\n",
              "      <td>2019-04-23</td>\n",
              "      <td>2936.310059</td>\n",
              "      <td>2908.530029</td>\n",
              "      <td>2909.989990</td>\n",
              "      <td>2933.679932</td>\n",
              "      <td>3635030000</td>\n",
              "      <td>2933.679932</td>\n",
              "    </tr>\n",
              "    <tr>\n",
              "      <th>2</th>\n",
              "      <td>2019-04-24</td>\n",
              "      <td>2936.830078</td>\n",
              "      <td>2926.050049</td>\n",
              "      <td>2934.000000</td>\n",
              "      <td>2927.250000</td>\n",
              "      <td>3448960000</td>\n",
              "      <td>2927.250000</td>\n",
              "    </tr>\n",
              "    <tr>\n",
              "      <th>3</th>\n",
              "      <td>2019-04-25</td>\n",
              "      <td>2933.100098</td>\n",
              "      <td>2912.840088</td>\n",
              "      <td>2928.989990</td>\n",
              "      <td>2926.169922</td>\n",
              "      <td>3425280000</td>\n",
              "      <td>2926.169922</td>\n",
              "    </tr>\n",
              "    <tr>\n",
              "      <th>4</th>\n",
              "      <td>2019-04-26</td>\n",
              "      <td>2939.879883</td>\n",
              "      <td>2917.560059</td>\n",
              "      <td>2925.810059</td>\n",
              "      <td>2939.879883</td>\n",
              "      <td>3248500000</td>\n",
              "      <td>2939.879883</td>\n",
              "    </tr>\n",
              "  </tbody>\n",
              "</table>\n",
              "</div>"
            ],
            "text/plain": [
              "         Date         High          Low  ...        Close      Volume    Adj Close\n",
              "0  2019-04-22  2909.510010  2896.350098  ...  2907.969971  2997950000  2907.969971\n",
              "1  2019-04-23  2936.310059  2908.530029  ...  2933.679932  3635030000  2933.679932\n",
              "2  2019-04-24  2936.830078  2926.050049  ...  2927.250000  3448960000  2927.250000\n",
              "3  2019-04-25  2933.100098  2912.840088  ...  2926.169922  3425280000  2926.169922\n",
              "4  2019-04-26  2939.879883  2917.560059  ...  2939.879883  3248500000  2939.879883\n",
              "\n",
              "[5 rows x 7 columns]"
            ]
          },
          "metadata": {
            "tags": []
          },
          "execution_count": 18
        }
      ]
    },
    {
      "cell_type": "code",
      "metadata": {
        "id": "z5G5ugF_U9_d",
        "colab_type": "code",
        "outputId": "e181be2f-f2d0-4c84-cbdb-3bdc31d9a6bc",
        "colab": {
          "base_uri": "https://localhost:8080/",
          "height": 150
        }
      },
      "source": [
        "snp500.isna().any()"
      ],
      "execution_count": 19,
      "outputs": [
        {
          "output_type": "execute_result",
          "data": {
            "text/plain": [
              "Date         False\n",
              "High         False\n",
              "Low          False\n",
              "Open         False\n",
              "Close        False\n",
              "Volume       False\n",
              "Adj Close    False\n",
              "dtype: bool"
            ]
          },
          "metadata": {
            "tags": []
          },
          "execution_count": 19
        }
      ]
    },
    {
      "cell_type": "markdown",
      "metadata": {
        "id": "jGe1t0Iv-L91",
        "colab_type": "text"
      },
      "source": [
        "Applying Tukey's rule to remove outliers"
      ]
    },
    {
      "cell_type": "code",
      "metadata": {
        "id": "1beCd5uIV6u_",
        "colab_type": "code",
        "colab": {}
      },
      "source": [
        "def getIQR(df):\n",
        "  dfQ1 = df.quantile(0.25)\n",
        "  dfQ3 = df.quantile(0.75)\n",
        "  IQR = dfQ3 - dfQ1\n",
        "  return dfQ1, dfQ3, IQR"
      ],
      "execution_count": 0,
      "outputs": []
    },
    {
      "cell_type": "code",
      "metadata": {
        "id": "mZZwQDi0WerE",
        "colab_type": "code",
        "outputId": "146cea4f-1e25-442f-f44f-6680ac02a223",
        "colab": {
          "base_uri": "https://localhost:8080/",
          "height": 33
        }
      },
      "source": [
        "oldshape = dowjones.shape[0]\n",
        "dowjonesQ1, dowjonesQ3, dowjonesIQR = getIQR(dowjones)\n",
        "dowjones = dowjones[~((dowjones < (dowjonesQ1 - 5 * dowjonesIQR)) |(dowjones > (dowjonesQ3 + 5 * dowjonesIQR))).any(axis=1)] #Applying tukey's rule\n",
        "newshape = dowjones.shape[0]\n",
        "print(\"Percentage outliers removed for DowJones:\",(oldshape-newshape)*100/oldshape)"
      ],
      "execution_count": 21,
      "outputs": [
        {
          "output_type": "stream",
          "text": [
            "Percentage outliers removed for DowJones: 2.380952380952381\n"
          ],
          "name": "stdout"
        }
      ]
    },
    {
      "cell_type": "code",
      "metadata": {
        "id": "qNJ5dl4OYV-X",
        "colab_type": "code",
        "outputId": "38590889-3aef-4479-bff4-959bc667c347",
        "colab": {
          "base_uri": "https://localhost:8080/",
          "height": 33
        }
      },
      "source": [
        "oldshape = nasdaq.shape[0]\n",
        "nasdaqQ1, nasdaqQ3, nasdaqIQR = getIQR(nasdaq)\n",
        "nasdaq = nasdaq[~((nasdaq < (nasdaqQ1 - 5 * nasdaqIQR)) |(nasdaq > (nasdaqQ3 + 5 * nasdaqIQR))).any(axis=1)] #Applying tukey's rule\n",
        "newshape = nasdaq.shape[0]\n",
        "print(\"Percentage outliers removed for NasDaq:\",(oldshape-newshape)*100/oldshape)"
      ],
      "execution_count": 22,
      "outputs": [
        {
          "output_type": "stream",
          "text": [
            "Percentage outliers removed for NasDaq: 7.526881720430108\n"
          ],
          "name": "stdout"
        }
      ]
    },
    {
      "cell_type": "code",
      "metadata": {
        "id": "M1EChopMY1sl",
        "colab_type": "code",
        "outputId": "254fc9f0-c5d2-4d61-b428-624f8c01a20b",
        "colab": {
          "base_uri": "https://localhost:8080/",
          "height": 33
        }
      },
      "source": [
        "oldshape = snp500.shape[0]\n",
        "snp500Q1, snp500Q3, snp500IQR = getIQR(snp500)\n",
        "snp500 = snp500[~((snp500 < (snp500Q1 - 5 * snp500IQR)) |(snp500 > (snp500Q3 + 5 * snp500IQR))).any(axis=1)] #Applying tukey's rule\n",
        "newshape = snp500.shape[0]\n",
        "print(\"Percentage of outliers removed for Snp500:\",(oldshape-newshape)*100/oldshape)"
      ],
      "execution_count": 23,
      "outputs": [
        {
          "output_type": "stream",
          "text": [
            "Percentage of outliers removed for Snp500: 3.1746031746031744\n"
          ],
          "name": "stdout"
        }
      ]
    },
    {
      "cell_type": "code",
      "metadata": {
        "id": "UgPz-XLTdvqX",
        "colab_type": "code",
        "outputId": "590c73f9-8107-4b5e-f282-fd984a7f512c",
        "colab": {
          "base_uri": "https://localhost:8080/",
          "height": 196
        }
      },
      "source": [
        "dowjones = dowjones.rename(columns={'Date' : 'date'}) #santizing data\n",
        "dowjones['date'] = pd.to_datetime(dowjones['date'])\n",
        "dowjones.head()"
      ],
      "execution_count": 24,
      "outputs": [
        {
          "output_type": "execute_result",
          "data": {
            "text/html": [
              "<div>\n",
              "<style scoped>\n",
              "    .dataframe tbody tr th:only-of-type {\n",
              "        vertical-align: middle;\n",
              "    }\n",
              "\n",
              "    .dataframe tbody tr th {\n",
              "        vertical-align: top;\n",
              "    }\n",
              "\n",
              "    .dataframe thead th {\n",
              "        text-align: right;\n",
              "    }\n",
              "</style>\n",
              "<table border=\"1\" class=\"dataframe\">\n",
              "  <thead>\n",
              "    <tr style=\"text-align: right;\">\n",
              "      <th></th>\n",
              "      <th>date</th>\n",
              "      <th>High</th>\n",
              "      <th>Low</th>\n",
              "      <th>Open</th>\n",
              "      <th>Close</th>\n",
              "      <th>Volume</th>\n",
              "      <th>Adj Close</th>\n",
              "    </tr>\n",
              "  </thead>\n",
              "  <tbody>\n",
              "    <tr>\n",
              "      <th>0</th>\n",
              "      <td>2019-04-22</td>\n",
              "      <td>26553.050781</td>\n",
              "      <td>26458.609375</td>\n",
              "      <td>26510.769531</td>\n",
              "      <td>26511.050781</td>\n",
              "      <td>232570000</td>\n",
              "      <td>26511.050781</td>\n",
              "    </tr>\n",
              "    <tr>\n",
              "      <th>1</th>\n",
              "      <td>2019-04-23</td>\n",
              "      <td>26695.960938</td>\n",
              "      <td>26503.560547</td>\n",
              "      <td>26513.830078</td>\n",
              "      <td>26656.390625</td>\n",
              "      <td>311690000</td>\n",
              "      <td>26656.390625</td>\n",
              "    </tr>\n",
              "    <tr>\n",
              "      <th>2</th>\n",
              "      <td>2019-04-24</td>\n",
              "      <td>26680.580078</td>\n",
              "      <td>26582.859375</td>\n",
              "      <td>26652.560547</td>\n",
              "      <td>26597.050781</td>\n",
              "      <td>283370000</td>\n",
              "      <td>26597.050781</td>\n",
              "    </tr>\n",
              "    <tr>\n",
              "      <th>3</th>\n",
              "      <td>2019-04-25</td>\n",
              "      <td>26536.480469</td>\n",
              "      <td>26310.279297</td>\n",
              "      <td>26426.369141</td>\n",
              "      <td>26462.080078</td>\n",
              "      <td>296730000</td>\n",
              "      <td>26462.080078</td>\n",
              "    </tr>\n",
              "    <tr>\n",
              "      <th>4</th>\n",
              "      <td>2019-04-26</td>\n",
              "      <td>26543.560547</td>\n",
              "      <td>26392.550781</td>\n",
              "      <td>26454.619141</td>\n",
              "      <td>26543.330078</td>\n",
              "      <td>317290000</td>\n",
              "      <td>26543.330078</td>\n",
              "    </tr>\n",
              "  </tbody>\n",
              "</table>\n",
              "</div>"
            ],
            "text/plain": [
              "        date          High           Low  ...         Close     Volume     Adj Close\n",
              "0 2019-04-22  26553.050781  26458.609375  ...  26511.050781  232570000  26511.050781\n",
              "1 2019-04-23  26695.960938  26503.560547  ...  26656.390625  311690000  26656.390625\n",
              "2 2019-04-24  26680.580078  26582.859375  ...  26597.050781  283370000  26597.050781\n",
              "3 2019-04-25  26536.480469  26310.279297  ...  26462.080078  296730000  26462.080078\n",
              "4 2019-04-26  26543.560547  26392.550781  ...  26543.330078  317290000  26543.330078\n",
              "\n",
              "[5 rows x 7 columns]"
            ]
          },
          "metadata": {
            "tags": []
          },
          "execution_count": 24
        }
      ]
    },
    {
      "cell_type": "code",
      "metadata": {
        "id": "XsW8aks7epAq",
        "colab_type": "code",
        "outputId": "8ec1c846-df8f-4f37-8e28-f9fcb2a8f79c",
        "colab": {
          "base_uri": "https://localhost:8080/",
          "height": 196
        }
      },
      "source": [
        "nasdaq = nasdaq.rename(columns={'Date' : 'date'})   #santizing data\n",
        "nasdaq['date'] = pd.to_datetime(nasdaq['date'])\n",
        "nasdaq.head()"
      ],
      "execution_count": 25,
      "outputs": [
        {
          "output_type": "execute_result",
          "data": {
            "text/html": [
              "<div>\n",
              "<style scoped>\n",
              "    .dataframe tbody tr th:only-of-type {\n",
              "        vertical-align: middle;\n",
              "    }\n",
              "\n",
              "    .dataframe tbody tr th {\n",
              "        vertical-align: top;\n",
              "    }\n",
              "\n",
              "    .dataframe thead th {\n",
              "        text-align: right;\n",
              "    }\n",
              "</style>\n",
              "<table border=\"1\" class=\"dataframe\">\n",
              "  <thead>\n",
              "    <tr style=\"text-align: right;\">\n",
              "      <th></th>\n",
              "      <th>date</th>\n",
              "      <th>High</th>\n",
              "      <th>Low</th>\n",
              "      <th>Open</th>\n",
              "      <th>Close</th>\n",
              "      <th>Volume</th>\n",
              "      <th>Adj Close</th>\n",
              "    </tr>\n",
              "  </thead>\n",
              "  <tbody>\n",
              "    <tr>\n",
              "      <th>0</th>\n",
              "      <td>2019-04-22</td>\n",
              "      <td>7746.75</td>\n",
              "      <td>7669.75</td>\n",
              "      <td>7715.25</td>\n",
              "      <td>7734.75</td>\n",
              "      <td>393586.0</td>\n",
              "      <td>7734.75</td>\n",
              "    </tr>\n",
              "    <tr>\n",
              "      <th>1</th>\n",
              "      <td>2019-04-23</td>\n",
              "      <td>7843.75</td>\n",
              "      <td>7724.50</td>\n",
              "      <td>7738.00</td>\n",
              "      <td>7838.00</td>\n",
              "      <td>253668.0</td>\n",
              "      <td>7838.00</td>\n",
              "    </tr>\n",
              "    <tr>\n",
              "      <th>2</th>\n",
              "      <td>2019-04-24</td>\n",
              "      <td>7852.75</td>\n",
              "      <td>7802.25</td>\n",
              "      <td>7833.50</td>\n",
              "      <td>7847.75</td>\n",
              "      <td>427149.0</td>\n",
              "      <td>7847.75</td>\n",
              "    </tr>\n",
              "    <tr>\n",
              "      <th>3</th>\n",
              "      <td>2019-04-25</td>\n",
              "      <td>7879.50</td>\n",
              "      <td>7792.00</td>\n",
              "      <td>7855.25</td>\n",
              "      <td>7798.50</td>\n",
              "      <td>387633.0</td>\n",
              "      <td>7798.50</td>\n",
              "    </tr>\n",
              "    <tr>\n",
              "      <th>4</th>\n",
              "      <td>2019-04-26</td>\n",
              "      <td>7845.50</td>\n",
              "      <td>7755.50</td>\n",
              "      <td>7799.25</td>\n",
              "      <td>7840.25</td>\n",
              "      <td>488329.0</td>\n",
              "      <td>7840.25</td>\n",
              "    </tr>\n",
              "  </tbody>\n",
              "</table>\n",
              "</div>"
            ],
            "text/plain": [
              "        date     High      Low     Open    Close    Volume  Adj Close\n",
              "0 2019-04-22  7746.75  7669.75  7715.25  7734.75  393586.0    7734.75\n",
              "1 2019-04-23  7843.75  7724.50  7738.00  7838.00  253668.0    7838.00\n",
              "2 2019-04-24  7852.75  7802.25  7833.50  7847.75  427149.0    7847.75\n",
              "3 2019-04-25  7879.50  7792.00  7855.25  7798.50  387633.0    7798.50\n",
              "4 2019-04-26  7845.50  7755.50  7799.25  7840.25  488329.0    7840.25"
            ]
          },
          "metadata": {
            "tags": []
          },
          "execution_count": 25
        }
      ]
    },
    {
      "cell_type": "code",
      "metadata": {
        "id": "hqaDFsppfoaj",
        "colab_type": "code",
        "outputId": "5689b043-169d-4a85-be60-234bc9ef1390",
        "colab": {
          "base_uri": "https://localhost:8080/",
          "height": 196
        }
      },
      "source": [
        "snp500 = snp500.rename(columns={'Date' : 'date'}) #santizing data\n",
        "snp500['date'] = pd.to_datetime(snp500['date'])\n",
        "snp500.head()"
      ],
      "execution_count": 26,
      "outputs": [
        {
          "output_type": "execute_result",
          "data": {
            "text/html": [
              "<div>\n",
              "<style scoped>\n",
              "    .dataframe tbody tr th:only-of-type {\n",
              "        vertical-align: middle;\n",
              "    }\n",
              "\n",
              "    .dataframe tbody tr th {\n",
              "        vertical-align: top;\n",
              "    }\n",
              "\n",
              "    .dataframe thead th {\n",
              "        text-align: right;\n",
              "    }\n",
              "</style>\n",
              "<table border=\"1\" class=\"dataframe\">\n",
              "  <thead>\n",
              "    <tr style=\"text-align: right;\">\n",
              "      <th></th>\n",
              "      <th>date</th>\n",
              "      <th>High</th>\n",
              "      <th>Low</th>\n",
              "      <th>Open</th>\n",
              "      <th>Close</th>\n",
              "      <th>Volume</th>\n",
              "      <th>Adj Close</th>\n",
              "    </tr>\n",
              "  </thead>\n",
              "  <tbody>\n",
              "    <tr>\n",
              "      <th>0</th>\n",
              "      <td>2019-04-22</td>\n",
              "      <td>2909.510010</td>\n",
              "      <td>2896.350098</td>\n",
              "      <td>2898.780029</td>\n",
              "      <td>2907.969971</td>\n",
              "      <td>2997950000</td>\n",
              "      <td>2907.969971</td>\n",
              "    </tr>\n",
              "    <tr>\n",
              "      <th>1</th>\n",
              "      <td>2019-04-23</td>\n",
              "      <td>2936.310059</td>\n",
              "      <td>2908.530029</td>\n",
              "      <td>2909.989990</td>\n",
              "      <td>2933.679932</td>\n",
              "      <td>3635030000</td>\n",
              "      <td>2933.679932</td>\n",
              "    </tr>\n",
              "    <tr>\n",
              "      <th>2</th>\n",
              "      <td>2019-04-24</td>\n",
              "      <td>2936.830078</td>\n",
              "      <td>2926.050049</td>\n",
              "      <td>2934.000000</td>\n",
              "      <td>2927.250000</td>\n",
              "      <td>3448960000</td>\n",
              "      <td>2927.250000</td>\n",
              "    </tr>\n",
              "    <tr>\n",
              "      <th>3</th>\n",
              "      <td>2019-04-25</td>\n",
              "      <td>2933.100098</td>\n",
              "      <td>2912.840088</td>\n",
              "      <td>2928.989990</td>\n",
              "      <td>2926.169922</td>\n",
              "      <td>3425280000</td>\n",
              "      <td>2926.169922</td>\n",
              "    </tr>\n",
              "    <tr>\n",
              "      <th>4</th>\n",
              "      <td>2019-04-26</td>\n",
              "      <td>2939.879883</td>\n",
              "      <td>2917.560059</td>\n",
              "      <td>2925.810059</td>\n",
              "      <td>2939.879883</td>\n",
              "      <td>3248500000</td>\n",
              "      <td>2939.879883</td>\n",
              "    </tr>\n",
              "  </tbody>\n",
              "</table>\n",
              "</div>"
            ],
            "text/plain": [
              "        date         High          Low  ...        Close      Volume    Adj Close\n",
              "0 2019-04-22  2909.510010  2896.350098  ...  2907.969971  2997950000  2907.969971\n",
              "1 2019-04-23  2936.310059  2908.530029  ...  2933.679932  3635030000  2933.679932\n",
              "2 2019-04-24  2936.830078  2926.050049  ...  2927.250000  3448960000  2927.250000\n",
              "3 2019-04-25  2933.100098  2912.840088  ...  2926.169922  3425280000  2926.169922\n",
              "4 2019-04-26  2939.879883  2917.560059  ...  2939.879883  3248500000  2939.879883\n",
              "\n",
              "[5 rows x 7 columns]"
            ]
          },
          "metadata": {
            "tags": []
          },
          "execution_count": 26
        }
      ]
    },
    {
      "cell_type": "markdown",
      "metadata": {
        "id": "d-MKTNaFASl8",
        "colab_type": "text"
      },
      "source": [
        "Merge the datasets on date"
      ]
    },
    {
      "cell_type": "code",
      "metadata": {
        "id": "dr2RA4Ewfxcl",
        "colab_type": "code",
        "outputId": "6248cf2f-d73e-46ec-84bf-9473b3cd57f3",
        "colab": {
          "base_uri": "https://localhost:8080/",
          "height": 300
        }
      },
      "source": [
        "covid_dowjones_merged = pd.merge(usCovidStatesDaily, dowjones, on='date', how='inner')\n",
        "covid_dowjones_merged = covid_dowjones_merged.fillna(0.0)\n",
        "covid_dowjones_merged.head()"
      ],
      "execution_count": 27,
      "outputs": [
        {
          "output_type": "execute_result",
          "data": {
            "text/html": [
              "<div>\n",
              "<style scoped>\n",
              "    .dataframe tbody tr th:only-of-type {\n",
              "        vertical-align: middle;\n",
              "    }\n",
              "\n",
              "    .dataframe tbody tr th {\n",
              "        vertical-align: top;\n",
              "    }\n",
              "\n",
              "    .dataframe thead th {\n",
              "        text-align: right;\n",
              "    }\n",
              "</style>\n",
              "<table border=\"1\" class=\"dataframe\">\n",
              "  <thead>\n",
              "    <tr style=\"text-align: right;\">\n",
              "      <th></th>\n",
              "      <th>date</th>\n",
              "      <th>state</th>\n",
              "      <th>positive</th>\n",
              "      <th>negative</th>\n",
              "      <th>hospitalizedCurrently</th>\n",
              "      <th>hospitalizedCumulative</th>\n",
              "      <th>inIcuCurrently</th>\n",
              "      <th>inIcuCumulative</th>\n",
              "      <th>onVentilatorCurrently</th>\n",
              "      <th>onVentilatorCumulative</th>\n",
              "      <th>recovered</th>\n",
              "      <th>death</th>\n",
              "      <th>deathIncrease</th>\n",
              "      <th>hospitalizedIncrease</th>\n",
              "      <th>negativeIncrease</th>\n",
              "      <th>positiveIncrease</th>\n",
              "      <th>totalTestResults</th>\n",
              "      <th>totalTestResultsIncrease</th>\n",
              "      <th>High</th>\n",
              "      <th>Low</th>\n",
              "      <th>Open</th>\n",
              "      <th>Close</th>\n",
              "      <th>Volume</th>\n",
              "      <th>Adj Close</th>\n",
              "    </tr>\n",
              "  </thead>\n",
              "  <tbody>\n",
              "    <tr>\n",
              "      <th>0</th>\n",
              "      <td>2020-02-03</td>\n",
              "      <td>WA</td>\n",
              "      <td>1.0</td>\n",
              "      <td>0.0</td>\n",
              "      <td>0.0</td>\n",
              "      <td>0.0</td>\n",
              "      <td>0.0</td>\n",
              "      <td>0.0</td>\n",
              "      <td>0.0</td>\n",
              "      <td>0.0</td>\n",
              "      <td>0.0</td>\n",
              "      <td>0.0</td>\n",
              "      <td>0.0</td>\n",
              "      <td>0.0</td>\n",
              "      <td>0.0</td>\n",
              "      <td>0.0</td>\n",
              "      <td>1</td>\n",
              "      <td>0.0</td>\n",
              "      <td>28630.390625</td>\n",
              "      <td>28319.650391</td>\n",
              "      <td>28319.650391</td>\n",
              "      <td>28399.810547</td>\n",
              "      <td>307910000</td>\n",
              "      <td>28399.810547</td>\n",
              "    </tr>\n",
              "    <tr>\n",
              "      <th>1</th>\n",
              "      <td>2020-02-04</td>\n",
              "      <td>WA</td>\n",
              "      <td>1.0</td>\n",
              "      <td>0.0</td>\n",
              "      <td>0.0</td>\n",
              "      <td>0.0</td>\n",
              "      <td>0.0</td>\n",
              "      <td>0.0</td>\n",
              "      <td>0.0</td>\n",
              "      <td>0.0</td>\n",
              "      <td>0.0</td>\n",
              "      <td>0.0</td>\n",
              "      <td>0.0</td>\n",
              "      <td>0.0</td>\n",
              "      <td>0.0</td>\n",
              "      <td>0.0</td>\n",
              "      <td>1</td>\n",
              "      <td>0.0</td>\n",
              "      <td>28904.880859</td>\n",
              "      <td>28696.740234</td>\n",
              "      <td>28696.740234</td>\n",
              "      <td>28807.630859</td>\n",
              "      <td>332750000</td>\n",
              "      <td>28807.630859</td>\n",
              "    </tr>\n",
              "    <tr>\n",
              "      <th>2</th>\n",
              "      <td>2020-02-05</td>\n",
              "      <td>WA</td>\n",
              "      <td>1.0</td>\n",
              "      <td>0.0</td>\n",
              "      <td>0.0</td>\n",
              "      <td>0.0</td>\n",
              "      <td>0.0</td>\n",
              "      <td>0.0</td>\n",
              "      <td>0.0</td>\n",
              "      <td>0.0</td>\n",
              "      <td>0.0</td>\n",
              "      <td>0.0</td>\n",
              "      <td>0.0</td>\n",
              "      <td>0.0</td>\n",
              "      <td>0.0</td>\n",
              "      <td>0.0</td>\n",
              "      <td>1</td>\n",
              "      <td>0.0</td>\n",
              "      <td>29308.890625</td>\n",
              "      <td>29000.849609</td>\n",
              "      <td>29048.730469</td>\n",
              "      <td>29290.849609</td>\n",
              "      <td>357540000</td>\n",
              "      <td>29290.849609</td>\n",
              "    </tr>\n",
              "    <tr>\n",
              "      <th>3</th>\n",
              "      <td>2020-02-06</td>\n",
              "      <td>WA</td>\n",
              "      <td>1.0</td>\n",
              "      <td>0.0</td>\n",
              "      <td>0.0</td>\n",
              "      <td>0.0</td>\n",
              "      <td>0.0</td>\n",
              "      <td>0.0</td>\n",
              "      <td>0.0</td>\n",
              "      <td>0.0</td>\n",
              "      <td>0.0</td>\n",
              "      <td>0.0</td>\n",
              "      <td>0.0</td>\n",
              "      <td>0.0</td>\n",
              "      <td>0.0</td>\n",
              "      <td>0.0</td>\n",
              "      <td>1</td>\n",
              "      <td>0.0</td>\n",
              "      <td>29408.050781</td>\n",
              "      <td>29246.929688</td>\n",
              "      <td>29388.580078</td>\n",
              "      <td>29379.769531</td>\n",
              "      <td>263700000</td>\n",
              "      <td>29379.769531</td>\n",
              "    </tr>\n",
              "    <tr>\n",
              "      <th>4</th>\n",
              "      <td>2020-02-07</td>\n",
              "      <td>WA</td>\n",
              "      <td>2.0</td>\n",
              "      <td>0.0</td>\n",
              "      <td>0.0</td>\n",
              "      <td>0.0</td>\n",
              "      <td>0.0</td>\n",
              "      <td>0.0</td>\n",
              "      <td>0.0</td>\n",
              "      <td>0.0</td>\n",
              "      <td>0.0</td>\n",
              "      <td>0.0</td>\n",
              "      <td>0.0</td>\n",
              "      <td>0.0</td>\n",
              "      <td>0.0</td>\n",
              "      <td>1.0</td>\n",
              "      <td>2</td>\n",
              "      <td>1.0</td>\n",
              "      <td>29286.919922</td>\n",
              "      <td>29056.980469</td>\n",
              "      <td>29286.919922</td>\n",
              "      <td>29102.509766</td>\n",
              "      <td>252860000</td>\n",
              "      <td>29102.509766</td>\n",
              "    </tr>\n",
              "  </tbody>\n",
              "</table>\n",
              "</div>"
            ],
            "text/plain": [
              "        date state  positive  ...         Close     Volume     Adj Close\n",
              "0 2020-02-03    WA       1.0  ...  28399.810547  307910000  28399.810547\n",
              "1 2020-02-04    WA       1.0  ...  28807.630859  332750000  28807.630859\n",
              "2 2020-02-05    WA       1.0  ...  29290.849609  357540000  29290.849609\n",
              "3 2020-02-06    WA       1.0  ...  29379.769531  263700000  29379.769531\n",
              "4 2020-02-07    WA       2.0  ...  29102.509766  252860000  29102.509766\n",
              "\n",
              "[5 rows x 24 columns]"
            ]
          },
          "metadata": {
            "tags": []
          },
          "execution_count": 27
        }
      ]
    },
    {
      "cell_type": "code",
      "metadata": {
        "id": "25YjO19QBzdE",
        "colab_type": "code",
        "outputId": "94382e8f-134a-42a4-fafa-fab76fb7d75a",
        "colab": {
          "base_uri": "https://localhost:8080/",
          "height": 317
        }
      },
      "source": [
        "covid_nasdaq_merged = pd.merge(usCovidStatesDaily, nasdaq, on='date', how='inner')\n",
        "covid_nasdaq_merged = covid_nasdaq_merged.fillna(0.0)\n",
        "covid_nasdaq_merged.head()"
      ],
      "execution_count": 28,
      "outputs": [
        {
          "output_type": "execute_result",
          "data": {
            "text/html": [
              "<div>\n",
              "<style scoped>\n",
              "    .dataframe tbody tr th:only-of-type {\n",
              "        vertical-align: middle;\n",
              "    }\n",
              "\n",
              "    .dataframe tbody tr th {\n",
              "        vertical-align: top;\n",
              "    }\n",
              "\n",
              "    .dataframe thead th {\n",
              "        text-align: right;\n",
              "    }\n",
              "</style>\n",
              "<table border=\"1\" class=\"dataframe\">\n",
              "  <thead>\n",
              "    <tr style=\"text-align: right;\">\n",
              "      <th></th>\n",
              "      <th>date</th>\n",
              "      <th>state</th>\n",
              "      <th>positive</th>\n",
              "      <th>negative</th>\n",
              "      <th>hospitalizedCurrently</th>\n",
              "      <th>hospitalizedCumulative</th>\n",
              "      <th>inIcuCurrently</th>\n",
              "      <th>inIcuCumulative</th>\n",
              "      <th>onVentilatorCurrently</th>\n",
              "      <th>onVentilatorCumulative</th>\n",
              "      <th>recovered</th>\n",
              "      <th>death</th>\n",
              "      <th>deathIncrease</th>\n",
              "      <th>hospitalizedIncrease</th>\n",
              "      <th>negativeIncrease</th>\n",
              "      <th>positiveIncrease</th>\n",
              "      <th>totalTestResults</th>\n",
              "      <th>totalTestResultsIncrease</th>\n",
              "      <th>High</th>\n",
              "      <th>Low</th>\n",
              "      <th>Open</th>\n",
              "      <th>Close</th>\n",
              "      <th>Volume</th>\n",
              "      <th>Adj Close</th>\n",
              "    </tr>\n",
              "  </thead>\n",
              "  <tbody>\n",
              "    <tr>\n",
              "      <th>0</th>\n",
              "      <td>2020-02-02</td>\n",
              "      <td>WA</td>\n",
              "      <td>1.0</td>\n",
              "      <td>0.0</td>\n",
              "      <td>0.0</td>\n",
              "      <td>0.0</td>\n",
              "      <td>0.0</td>\n",
              "      <td>0.0</td>\n",
              "      <td>0.0</td>\n",
              "      <td>0.0</td>\n",
              "      <td>0.0</td>\n",
              "      <td>0.0</td>\n",
              "      <td>0.0</td>\n",
              "      <td>0.0</td>\n",
              "      <td>0.0</td>\n",
              "      <td>0.0</td>\n",
              "      <td>1</td>\n",
              "      <td>0.0</td>\n",
              "      <td>9038.25</td>\n",
              "      <td>8975.00</td>\n",
              "      <td>8982.75</td>\n",
              "      <td>9029.50</td>\n",
              "      <td>459823.0</td>\n",
              "      <td>9029.50</td>\n",
              "    </tr>\n",
              "    <tr>\n",
              "      <th>1</th>\n",
              "      <td>2020-02-03</td>\n",
              "      <td>WA</td>\n",
              "      <td>1.0</td>\n",
              "      <td>0.0</td>\n",
              "      <td>0.0</td>\n",
              "      <td>0.0</td>\n",
              "      <td>0.0</td>\n",
              "      <td>0.0</td>\n",
              "      <td>0.0</td>\n",
              "      <td>0.0</td>\n",
              "      <td>0.0</td>\n",
              "      <td>0.0</td>\n",
              "      <td>0.0</td>\n",
              "      <td>0.0</td>\n",
              "      <td>0.0</td>\n",
              "      <td>0.0</td>\n",
              "      <td>1</td>\n",
              "      <td>0.0</td>\n",
              "      <td>9155.75</td>\n",
              "      <td>8975.00</td>\n",
              "      <td>8982.75</td>\n",
              "      <td>9114.25</td>\n",
              "      <td>898384.0</td>\n",
              "      <td>9114.25</td>\n",
              "    </tr>\n",
              "    <tr>\n",
              "      <th>2</th>\n",
              "      <td>2020-02-04</td>\n",
              "      <td>WA</td>\n",
              "      <td>1.0</td>\n",
              "      <td>0.0</td>\n",
              "      <td>0.0</td>\n",
              "      <td>0.0</td>\n",
              "      <td>0.0</td>\n",
              "      <td>0.0</td>\n",
              "      <td>0.0</td>\n",
              "      <td>0.0</td>\n",
              "      <td>0.0</td>\n",
              "      <td>0.0</td>\n",
              "      <td>0.0</td>\n",
              "      <td>0.0</td>\n",
              "      <td>0.0</td>\n",
              "      <td>0.0</td>\n",
              "      <td>1</td>\n",
              "      <td>0.0</td>\n",
              "      <td>9369.25</td>\n",
              "      <td>9073.00</td>\n",
              "      <td>9099.00</td>\n",
              "      <td>9355.00</td>\n",
              "      <td>680726.0</td>\n",
              "      <td>9355.00</td>\n",
              "    </tr>\n",
              "    <tr>\n",
              "      <th>3</th>\n",
              "      <td>2020-02-05</td>\n",
              "      <td>WA</td>\n",
              "      <td>1.0</td>\n",
              "      <td>0.0</td>\n",
              "      <td>0.0</td>\n",
              "      <td>0.0</td>\n",
              "      <td>0.0</td>\n",
              "      <td>0.0</td>\n",
              "      <td>0.0</td>\n",
              "      <td>0.0</td>\n",
              "      <td>0.0</td>\n",
              "      <td>0.0</td>\n",
              "      <td>0.0</td>\n",
              "      <td>0.0</td>\n",
              "      <td>0.0</td>\n",
              "      <td>0.0</td>\n",
              "      <td>1</td>\n",
              "      <td>0.0</td>\n",
              "      <td>9462.75</td>\n",
              "      <td>9317.75</td>\n",
              "      <td>9357.00</td>\n",
              "      <td>9381.50</td>\n",
              "      <td>563913.0</td>\n",
              "      <td>9381.50</td>\n",
              "    </tr>\n",
              "    <tr>\n",
              "      <th>4</th>\n",
              "      <td>2020-02-06</td>\n",
              "      <td>WA</td>\n",
              "      <td>1.0</td>\n",
              "      <td>0.0</td>\n",
              "      <td>0.0</td>\n",
              "      <td>0.0</td>\n",
              "      <td>0.0</td>\n",
              "      <td>0.0</td>\n",
              "      <td>0.0</td>\n",
              "      <td>0.0</td>\n",
              "      <td>0.0</td>\n",
              "      <td>0.0</td>\n",
              "      <td>0.0</td>\n",
              "      <td>0.0</td>\n",
              "      <td>0.0</td>\n",
              "      <td>0.0</td>\n",
              "      <td>1</td>\n",
              "      <td>0.0</td>\n",
              "      <td>9464.00</td>\n",
              "      <td>9362.50</td>\n",
              "      <td>9390.00</td>\n",
              "      <td>9455.50</td>\n",
              "      <td>729548.0</td>\n",
              "      <td>9455.50</td>\n",
              "    </tr>\n",
              "  </tbody>\n",
              "</table>\n",
              "</div>"
            ],
            "text/plain": [
              "        date state  positive  negative  ...     Open    Close    Volume  Adj Close\n",
              "0 2020-02-02    WA       1.0       0.0  ...  8982.75  9029.50  459823.0    9029.50\n",
              "1 2020-02-03    WA       1.0       0.0  ...  8982.75  9114.25  898384.0    9114.25\n",
              "2 2020-02-04    WA       1.0       0.0  ...  9099.00  9355.00  680726.0    9355.00\n",
              "3 2020-02-05    WA       1.0       0.0  ...  9357.00  9381.50  563913.0    9381.50\n",
              "4 2020-02-06    WA       1.0       0.0  ...  9390.00  9455.50  729548.0    9455.50\n",
              "\n",
              "[5 rows x 24 columns]"
            ]
          },
          "metadata": {
            "tags": []
          },
          "execution_count": 28
        }
      ]
    },
    {
      "cell_type": "code",
      "metadata": {
        "id": "y4pph_dbB6gA",
        "colab_type": "code",
        "outputId": "d90d6e8c-2a65-49f5-b8c0-f3deb9c74ae4",
        "colab": {
          "base_uri": "https://localhost:8080/",
          "height": 300
        }
      },
      "source": [
        "covid_snp500_merged = pd.merge(usCovidStatesDaily, snp500, on='date', how='inner')\n",
        "covid_snp500_merged = covid_snp500_merged.fillna(0.0)\n",
        "covid_snp500_merged.head()"
      ],
      "execution_count": 29,
      "outputs": [
        {
          "output_type": "execute_result",
          "data": {
            "text/html": [
              "<div>\n",
              "<style scoped>\n",
              "    .dataframe tbody tr th:only-of-type {\n",
              "        vertical-align: middle;\n",
              "    }\n",
              "\n",
              "    .dataframe tbody tr th {\n",
              "        vertical-align: top;\n",
              "    }\n",
              "\n",
              "    .dataframe thead th {\n",
              "        text-align: right;\n",
              "    }\n",
              "</style>\n",
              "<table border=\"1\" class=\"dataframe\">\n",
              "  <thead>\n",
              "    <tr style=\"text-align: right;\">\n",
              "      <th></th>\n",
              "      <th>date</th>\n",
              "      <th>state</th>\n",
              "      <th>positive</th>\n",
              "      <th>negative</th>\n",
              "      <th>hospitalizedCurrently</th>\n",
              "      <th>hospitalizedCumulative</th>\n",
              "      <th>inIcuCurrently</th>\n",
              "      <th>inIcuCumulative</th>\n",
              "      <th>onVentilatorCurrently</th>\n",
              "      <th>onVentilatorCumulative</th>\n",
              "      <th>recovered</th>\n",
              "      <th>death</th>\n",
              "      <th>deathIncrease</th>\n",
              "      <th>hospitalizedIncrease</th>\n",
              "      <th>negativeIncrease</th>\n",
              "      <th>positiveIncrease</th>\n",
              "      <th>totalTestResults</th>\n",
              "      <th>totalTestResultsIncrease</th>\n",
              "      <th>High</th>\n",
              "      <th>Low</th>\n",
              "      <th>Open</th>\n",
              "      <th>Close</th>\n",
              "      <th>Volume</th>\n",
              "      <th>Adj Close</th>\n",
              "    </tr>\n",
              "  </thead>\n",
              "  <tbody>\n",
              "    <tr>\n",
              "      <th>0</th>\n",
              "      <td>2020-02-03</td>\n",
              "      <td>WA</td>\n",
              "      <td>1.0</td>\n",
              "      <td>0.0</td>\n",
              "      <td>0.0</td>\n",
              "      <td>0.0</td>\n",
              "      <td>0.0</td>\n",
              "      <td>0.0</td>\n",
              "      <td>0.0</td>\n",
              "      <td>0.0</td>\n",
              "      <td>0.0</td>\n",
              "      <td>0.0</td>\n",
              "      <td>0.0</td>\n",
              "      <td>0.0</td>\n",
              "      <td>0.0</td>\n",
              "      <td>0.0</td>\n",
              "      <td>1</td>\n",
              "      <td>0.0</td>\n",
              "      <td>3268.439941</td>\n",
              "      <td>3235.659912</td>\n",
              "      <td>3235.659912</td>\n",
              "      <td>3248.919922</td>\n",
              "      <td>3757910000</td>\n",
              "      <td>3248.919922</td>\n",
              "    </tr>\n",
              "    <tr>\n",
              "      <th>1</th>\n",
              "      <td>2020-02-04</td>\n",
              "      <td>WA</td>\n",
              "      <td>1.0</td>\n",
              "      <td>0.0</td>\n",
              "      <td>0.0</td>\n",
              "      <td>0.0</td>\n",
              "      <td>0.0</td>\n",
              "      <td>0.0</td>\n",
              "      <td>0.0</td>\n",
              "      <td>0.0</td>\n",
              "      <td>0.0</td>\n",
              "      <td>0.0</td>\n",
              "      <td>0.0</td>\n",
              "      <td>0.0</td>\n",
              "      <td>0.0</td>\n",
              "      <td>0.0</td>\n",
              "      <td>1</td>\n",
              "      <td>0.0</td>\n",
              "      <td>3306.919922</td>\n",
              "      <td>3280.610107</td>\n",
              "      <td>3280.610107</td>\n",
              "      <td>3297.590088</td>\n",
              "      <td>3995320000</td>\n",
              "      <td>3297.590088</td>\n",
              "    </tr>\n",
              "    <tr>\n",
              "      <th>2</th>\n",
              "      <td>2020-02-05</td>\n",
              "      <td>WA</td>\n",
              "      <td>1.0</td>\n",
              "      <td>0.0</td>\n",
              "      <td>0.0</td>\n",
              "      <td>0.0</td>\n",
              "      <td>0.0</td>\n",
              "      <td>0.0</td>\n",
              "      <td>0.0</td>\n",
              "      <td>0.0</td>\n",
              "      <td>0.0</td>\n",
              "      <td>0.0</td>\n",
              "      <td>0.0</td>\n",
              "      <td>0.0</td>\n",
              "      <td>0.0</td>\n",
              "      <td>0.0</td>\n",
              "      <td>1</td>\n",
              "      <td>0.0</td>\n",
              "      <td>3337.580078</td>\n",
              "      <td>3313.750000</td>\n",
              "      <td>3324.909912</td>\n",
              "      <td>3334.689941</td>\n",
              "      <td>4117730000</td>\n",
              "      <td>3334.689941</td>\n",
              "    </tr>\n",
              "    <tr>\n",
              "      <th>3</th>\n",
              "      <td>2020-02-06</td>\n",
              "      <td>WA</td>\n",
              "      <td>1.0</td>\n",
              "      <td>0.0</td>\n",
              "      <td>0.0</td>\n",
              "      <td>0.0</td>\n",
              "      <td>0.0</td>\n",
              "      <td>0.0</td>\n",
              "      <td>0.0</td>\n",
              "      <td>0.0</td>\n",
              "      <td>0.0</td>\n",
              "      <td>0.0</td>\n",
              "      <td>0.0</td>\n",
              "      <td>0.0</td>\n",
              "      <td>0.0</td>\n",
              "      <td>0.0</td>\n",
              "      <td>1</td>\n",
              "      <td>0.0</td>\n",
              "      <td>3347.959961</td>\n",
              "      <td>3334.389893</td>\n",
              "      <td>3344.919922</td>\n",
              "      <td>3345.780029</td>\n",
              "      <td>3868370000</td>\n",
              "      <td>3345.780029</td>\n",
              "    </tr>\n",
              "    <tr>\n",
              "      <th>4</th>\n",
              "      <td>2020-02-07</td>\n",
              "      <td>WA</td>\n",
              "      <td>2.0</td>\n",
              "      <td>0.0</td>\n",
              "      <td>0.0</td>\n",
              "      <td>0.0</td>\n",
              "      <td>0.0</td>\n",
              "      <td>0.0</td>\n",
              "      <td>0.0</td>\n",
              "      <td>0.0</td>\n",
              "      <td>0.0</td>\n",
              "      <td>0.0</td>\n",
              "      <td>0.0</td>\n",
              "      <td>0.0</td>\n",
              "      <td>0.0</td>\n",
              "      <td>1.0</td>\n",
              "      <td>2</td>\n",
              "      <td>1.0</td>\n",
              "      <td>3341.419922</td>\n",
              "      <td>3322.120117</td>\n",
              "      <td>3335.540039</td>\n",
              "      <td>3327.709961</td>\n",
              "      <td>3730650000</td>\n",
              "      <td>3327.709961</td>\n",
              "    </tr>\n",
              "  </tbody>\n",
              "</table>\n",
              "</div>"
            ],
            "text/plain": [
              "        date state  positive  ...        Close      Volume    Adj Close\n",
              "0 2020-02-03    WA       1.0  ...  3248.919922  3757910000  3248.919922\n",
              "1 2020-02-04    WA       1.0  ...  3297.590088  3995320000  3297.590088\n",
              "2 2020-02-05    WA       1.0  ...  3334.689941  4117730000  3334.689941\n",
              "3 2020-02-06    WA       1.0  ...  3345.780029  3868370000  3345.780029\n",
              "4 2020-02-07    WA       2.0  ...  3327.709961  3730650000  3327.709961\n",
              "\n",
              "[5 rows x 24 columns]"
            ]
          },
          "metadata": {
            "tags": []
          },
          "execution_count": 29
        }
      ]
    },
    {
      "cell_type": "markdown",
      "metadata": {
        "id": "6uDWEFyfXpaE",
        "colab_type": "text"
      },
      "source": [
        "**Steps, Observations and findings:**\n",
        "\n",
        "After loading the Covid data, we filtered out data for 48 contiguous states of US and truncated unnecessary columns. We then applied Tukey's rule to remove outliers state wise based on inter-quantile range. For an iqr multiplier of 1.5, we were losing around 20% of our data to outliers. Hence we increased the multiplier further that started flattening the number of outliers detected around a range of 5 and above. At this value of the multiplier (5), we are removing around 5% outliers from our Covid data. We then ran sanity checks like checking if datatypes of all columns are correct, and fixed issues like converting date from string to datetime object. All NaN values were replaced with zeroes since we are dealing with numeric data. For consistency, we are filtering covid data for time period between 1st February to 1st May.\n",
        "\n",
        "Similarly, for Stock Market data (X dataset), we applied tukey's rule for outlier detection and removal. We were able to remove outliers optimally with an iqr multiplier of 5 for all 3 of our market datasets(NDX:7.52%, DJI:2.38%, SNP:3.17%). We also tested if the data had any NaN values. Luckily, no NaN values were present in the data. A few other sanity checks were performed, and fixes like changing name of date column and converting it's type to datetime were applied to the data.  "
      ]
    },
    {
      "cell_type": "markdown",
      "metadata": {
        "id": "jMq8OrT75kfx",
        "colab_type": "text"
      },
      "source": [
        "## **2. Data Visualization**\n",
        "---\n",
        "\n",
        "In this section, we visualize Covid and Stock Market datasets\n",
        "\n",
        "---\n"
      ]
    },
    {
      "cell_type": "markdown",
      "metadata": {
        "id": "iLgqWSIsfM-_",
        "colab_type": "text"
      },
      "source": [
        "**Visualizing Stock Market Prices for all the three exchanges**\n",
        "\n"
      ]
    },
    {
      "cell_type": "code",
      "metadata": {
        "id": "WFmtWryiklKz",
        "colab_type": "code",
        "outputId": "4dca3f85-6e66-494a-818e-4608ed6026c9",
        "colab": {
          "base_uri": "https://localhost:8080/",
          "height": 513
        }
      },
      "source": [
        "fig, ax = plt.subplots()\n",
        "fig.set_figheight(8)\n",
        "fig.set_figwidth(20)\n",
        "ndx = covid_nasdaq_merged.groupby(['date'])['Close'].median().reset_index() #Median Prices for each day\n",
        "snp = covid_snp500_merged.groupby(['date'])['Close'].median().reset_index()\n",
        "dji = covid_dowjones_merged.groupby(['date'])['Close'].median().reset_index()\n",
        "\n",
        "scaled_features = StandardScaler().fit_transform(ndx[['Close']].values) #scaling values to get meaningful correlation\n",
        "ndx['Close'] = scaled_features\n",
        "scaled_features = StandardScaler().fit_transform(snp[['Close']].values)\n",
        "snp['Close'] = scaled_features\n",
        "scaled_features = StandardScaler().fit_transform(dji[['Close']].values)\n",
        "dji['Close'] = scaled_features\n",
        "ndx.plot(x='date',y='Close',ax=ax,label=\"Nasdaq\",x_compat=True,title=\"Stock Market Indices\") #plots\n",
        "snp.plot(x='date',y='Close',ax=ax,label=\"SNP500\",x_compat=True,title=\"Stock Market Indices\")\n",
        "dji.plot(x='date',y='Close',ax=ax,label=\"Dow Jones\",x_compat=True,title=\"Stock Market Indices\")\n",
        "ax.set_xlabel(\"Date\")\n",
        "ax.set_ylabel(\"Scaled Index Close Price\")"
      ],
      "execution_count": 30,
      "outputs": [
        {
          "output_type": "execute_result",
          "data": {
            "text/plain": [
              "Text(0, 0.5, 'Scaled Index Close Price')"
            ]
          },
          "metadata": {
            "tags": []
          },
          "execution_count": 30
        },
        {
          "output_type": "display_data",
          "data": {
            "image/png": "[encoded data removed]",
            "text/plain": [
              "<Figure size 1440x576 with 1 Axes>"
            ]
          },
          "metadata": {
            "tags": [],
            "needs_background": "light"
          }
        }
      ]
    },
    {
      "cell_type": "markdown",
      "metadata": {
        "id": "qdta0oddfxmY",
        "colab_type": "text"
      },
      "source": [
        "Here, we have visualized the prices of three exchanges (Nasdaq, Snp500, Dow Jones). The prices are scaled using Standardscaler to find meaningful comparisons, since each of the three indices have completely different index prices. From the plot, we can clearly see that the three exchanges are correlated and they move in the same direction except for a few fluctuations. We can also see a dip in the market after Covid's foothold in the United States followed by a brief recovery."
      ]
    },
    {
      "cell_type": "markdown",
      "metadata": {
        "id": "i8hWUnp0iNJ4",
        "colab_type": "text"
      },
      "source": [
        "**Worst and least affected states**"
      ]
    },
    {
      "cell_type": "code",
      "metadata": {
        "id": "_DkjsxVlOrOR",
        "colab_type": "code",
        "outputId": "84231463-3c33-4611-a959-a2a421e058cb",
        "colab": {
          "base_uri": "https://localhost:8080/",
          "height": 513
        }
      },
      "source": [
        "fig, ax = plt.subplots(nrows=1, ncols=2)\n",
        "fig.set_figheight(8)\n",
        "fig.set_figwidth(20)\n",
        "usCovidStatesDailyViz = usCovidStatesDaily.groupby(['date','state'])['positive'].sum().reset_index()\n",
        "statedf = usCovidStatesDaily.groupby('state')['positive'].sum().reset_index()\n",
        "statedf = statedf.sort_values(['positive'],ascending=False).head(5)\n",
        "usStates = statedf['state'].unique()\n",
        "for i in range(0,len(usStates)):\n",
        "    state = usStates[i]\n",
        "    newdf = usCovidStatesDailyViz[usCovidStatesDailyViz['state']==state]\n",
        "    newdf.plot(x='date',y='positive',ax=ax[0],label=state,x_compat=True,title=\"Worst Affected States\")\n",
        "ax[0].set_xlabel(\"Date\")\n",
        "ax[0].set_ylabel(\"Total Positive Cases\")\n",
        "\n",
        "statedf = usCovidStatesDaily.groupby('state')['positive'].sum().reset_index()\n",
        "statedf = statedf.sort_values(['positive'],ascending=True).head(5)\n",
        "usStates = statedf['state'].unique()\n",
        "for i in range(0,len(usStates)):\n",
        "    state = usStates[i]\n",
        "    newdf = usCovidStatesDailyViz[usCovidStatesDailyViz['state']==state]\n",
        "    newdf.plot(x='date',y='positive',ax=ax[1],label=state,x_compat=True,title=\"Least Affected States\")\n",
        "ax[1].set_xlabel(\"Date\")\n",
        "ax[1].set_ylabel(\"Total Positive Cases\")"
      ],
      "execution_count": 31,
      "outputs": [
        {
          "output_type": "execute_result",
          "data": {
            "text/plain": [
              "Text(0, 0.5, 'Total Positive Cases')"
            ]
          },
          "metadata": {
            "tags": []
          },
          "execution_count": 31
        },
        {
          "output_type": "display_data",
          "data": {
            "image/png": "[encoded data removed]",
            "text/plain": [
              "<Figure size 1440x576 with 2 Axes>"
            ]
          },
          "metadata": {
            "tags": [],
            "needs_background": "light"
          }
        }
      ]
    },
    {
      "cell_type": "markdown",
      "metadata": {
        "id": "100d_e04i7hC",
        "colab_type": "text"
      },
      "source": [
        "Over here, we can see the five states worst and least affected by Covid-19. We can also see that for the worst affected states, the graph is started to flatten out, ie. the number of new daily cases are decreasing. Whereas for the least affected states like Maine (ME), we can see a huge spike signifying an exponential rise in cases."
      ]
    },
    {
      "cell_type": "markdown",
      "metadata": {
        "id": "DAFYKsIUg_5P",
        "colab_type": "text"
      },
      "source": [
        "**Visualizing total hospitalizations by date**"
      ]
    },
    {
      "cell_type": "code",
      "metadata": {
        "id": "odByVm-f27z7",
        "colab_type": "code",
        "outputId": "607472f9-8666-4995-f42a-e8fbb610bcae",
        "colab": {
          "base_uri": "https://localhost:8080/",
          "height": 466
        }
      },
      "source": [
        "pltdf = usCovidStatesDaily.copy()\n",
        "plotdf15 = pltdf.groupby(pltdf[\"date\"].dt.date)['hospitalizedCurrently','inIcuCurrently','onVentilatorCurrently'].sum() #Total hospitalizations for the day\n",
        "plotdf15 = plotdf15[(plotdf15.hospitalizedCurrently != 0) | (plotdf15.inIcuCurrently != 0) | (plotdf15.onVentilatorCurrently != 0) ] #remove dates where all 3 were 0\n",
        "fig = plt.figure()\n",
        "ax = plotdf15.plot(kind='bar', stacked=True, figsize=(26,6)) #plot\n",
        "plt.title(\"Total Hospitalizations by Date\")\n",
        "plt.xlabel(\"Date\")\n",
        "plt.ylabel(\"Total Hospitalized\")\n",
        "ax.legend([\"Normal Hospitalizations\", \"In ICU\",\"On Ventilators\"]) #legend\n",
        "plt.show()"
      ],
      "execution_count": 32,
      "outputs": [
        {
          "output_type": "stream",
          "text": [
            "/usr/local/lib/python3.6/dist-packages/ipykernel_launcher.py:2: FutureWarning:\n",
            "\n",
            "Indexing with multiple keys (implicitly converted to a tuple of keys) will be deprecated, use a list instead.\n",
            "\n"
          ],
          "name": "stderr"
        },
        {
          "output_type": "display_data",
          "data": {
            "text/plain": [
              "<Figure size 432x288 with 0 Axes>"
            ]
          },
          "metadata": {
            "tags": []
          }
        },
        {
          "output_type": "display_data",
          "data": {
            "image/png": "[encoded data removed]",
            "text/plain": [
              "<Figure size 1872x432 with 1 Axes>"
            ]
          },
          "metadata": {
            "tags": [],
            "needs_background": "light"
          }
        }
      ]
    },
    {
      "cell_type": "markdown",
      "metadata": {
        "id": "_0sITuOshlHn",
        "colab_type": "text"
      },
      "source": [
        "In this visualization, we have used a stacked bar chart to show daily hospitalizations. We are further splitting the data into normal hospitalizations, ICU hospitalizations, and ventilator hospitalizations. We can see that after a certain date the number of hospitalizations has remained constant. This could be due to the fact that the hospitals might have reached their maximum capacity of hospitalizations."
      ]
    },
    {
      "cell_type": "markdown",
      "metadata": {
        "id": "WKsqH2pJjoK-",
        "colab_type": "text"
      },
      "source": [
        "**Distribution of cases across states**"
      ]
    },
    {
      "cell_type": "code",
      "metadata": {
        "id": "R5RsKk8av9Bh",
        "colab_type": "code",
        "outputId": "9996ece4-8e85-410a-d25c-9f9c7692ad70",
        "colab": {
          "base_uri": "https://localhost:8080/",
          "height": 480
        }
      },
      "source": [
        "usCovidStatesDailyViz = usCovidStatesDaily.groupby(['state'])['positive'].sum().reset_index()\n",
        "usCovidStatesDailyViz = usCovidStatesDailyViz.sort_values(['positive'],ascending=False)\n",
        "top5df = usCovidStatesDailyViz[:9].copy()\n",
        "#others\n",
        "otherdf = pd.DataFrame(data = {\n",
        "    'state' : ['others'],\n",
        "    'positive' : [usCovidStatesDailyViz['positive'][9:].sum()]\n",
        "})\n",
        "\n",
        "#combining top 5 with others\n",
        "piedf = pd.concat([top5df,otherdf])\n",
        "\n",
        "usCovidStatesDailyViz.head()\n",
        "ax = piedf.plot(kind = 'pie', y = 'positive', labels = piedf['state'],figsize=(8,8), autopct='%.2f', textprops={'color':\"navy\",'size':\"medium\",\"backgroundcolor\":\"white\"})\n",
        "ax.set_xlabel(\"Percentage of Positive Cases by State\")\n",
        "ax.set_ylabel(\"\")\n",
        "ax.get_legend().remove()"
      ],
      "execution_count": 33,
      "outputs": [
        {
          "output_type": "display_data",
          "data": {
            "image/png": "[encoded data removed]",
            "text/plain": [
              "<Figure size 576x576 with 1 Axes>"
            ]
          },
          "metadata": {
            "tags": []
          }
        }
      ]
    },
    {
      "cell_type": "markdown",
      "metadata": {
        "id": "9OSRtOgcjwfZ",
        "colab_type": "text"
      },
      "source": [
        "Through this pie-chart, we can see the distribution of positive Covid cases across all the contiguous states. It can be seen that New York alone has more positive cases than 39 other states of the country. It also has more cases than the other top 6 worst hit states combined."
      ]
    },
    {
      "cell_type": "markdown",
      "metadata": {
        "id": "JwrZr9Tflznk",
        "colab_type": "text"
      },
      "source": [
        "**Comparison of positive cases, deaths and recovery**"
      ]
    },
    {
      "cell_type": "code",
      "metadata": {
        "id": "UxqPvB815rkx",
        "colab_type": "code",
        "outputId": "17e97b30-6cdf-4335-d408-ad13bbebd524",
        "colab": {
          "base_uri": "https://localhost:8080/",
          "height": 542
        }
      },
      "source": [
        "\"\"\"\n",
        "fig = go.Figure()\n",
        "fig.add_trace(go.Scatter(x=usCovidStatesDailyViz['date'], y=usCovidStatesDailyViz['positiveIncrease'], mode='lines', name='Confirmed'))\n",
        "fig.add_trace(go.Scatter(x=usCovidStatesDailyViz['date'], y=usCovidStatesDailyViz['deathIncrease'], mode='lines', name='Deaths'))\n",
        "fig.add_trace(go.Scatter(x=usCovidStatesDailyViz['date'], y=usCovidStatesDailyViz['hospitalizedIncrease'], mode='lines', name='Recovered'))\n",
        "\n",
        "fig.update_layout(xaxis_title=\"\", yaxis_title=\"Cases Count in Log Scale\", title = 'Positive, Deaths & Hospitalized Daily Increase in USA', yaxis_type='log')\n",
        "fig.update_layout(legend=dict(x=0, y=1, traceorder=\"normal\", bordercolor=\"silver\", borderwidth=1))\n",
        "fig.update_layout(margin={\"r\":0,\"l\":0,\"b\":0})\n",
        "fig.show()\n",
        "\"\"\"\n",
        "usCovidStatesDailyViz = usCovidDaily.copy(deep=True)\n",
        "fig = go.Figure()\n",
        "fig.add_trace(go.Scatter(x=usCovidStatesDailyViz['date'], y=usCovidStatesDailyViz['positive'], mode='lines', name='Confirmed'))\n",
        "fig.add_trace(go.Scatter(x=usCovidStatesDailyViz['date'], y=usCovidStatesDailyViz['death'], mode='lines', name='Deaths'))\n",
        "fig.add_trace(go.Scatter(x=usCovidStatesDailyViz['date'], y=usCovidStatesDailyViz['recovered'], mode='lines', name='Recovered'))\n",
        "\n",
        "fig.update_layout(xaxis_title=\"\", yaxis_title=\"Cases Count in Log Scale\", title = 'Positive, Deaths & Recovered Cases in USA',width=850)\n",
        "fig.update_layout(legend=dict(x=0, y=1, traceorder=\"normal\", bordercolor=\"silver\", borderwidth=1))\n",
        "fig.update_layout(margin={\"r\":0,\"l\":0,\"b\":0})\n",
        "fig.show()\n"
      ],
      "execution_count": 34,
      "outputs": [
        {
          "output_type": "display_data",
          "data": {
            "text/html": [
              "<html>\n",
              "<head><meta charset=\"utf-8\" /></head>\n",
              "<body>\n",
              "    <div>\n",
              "            <script src=\"https://cdnjs.cloudflare.com/ajax/libs/mathjax/2.7.5/MathJax.js?config=TeX-AMS-MML_SVG\"></script><script type=\"text/javascript\">if (window.MathJax) {MathJax.Hub.Config({SVG: {font: \"STIX-Web\"}});}</script>\n",
              "                <script type=\"text/javascript\">window.PlotlyConfig = {MathJaxConfig: 'local'};</script>\n",
              "        <script src=\"https://cdn.plot.ly/plotly-latest.min.js\"></script>    \n",
              "            <div id=\"dd5b4757-0158-4669-9685-5ec36f2a569d\" class=\"plotly-graph-div\" style=\"height:525px; width:850px;\"></div>\n",
              "            <script type=\"text/javascript\">\n",
              "                \n",
              "                    window.PLOTLYENV=window.PLOTLYENV || {};\n",
              "                    \n",
              "                if (document.getElementById(\"dd5b4757-0158-4669-9685-5ec36f2a569d\")) {\n",
              "                    Plotly.newPlot(\n",
              "                        'dd5b4757-0158-4669-9685-5ec36f2a569d',\n",
              "                        [{\"mode\": \"lines\", \"name\": \"Confirmed\", \"type\": \"scatter\", \"x\": [\"2020-02-01T00:00:00\", \"2020-02-02T00:00:00\", \"2020-02-03T00:00:00\", \"2020-02-04T00:00:00\", \"2020-02-05T00:00:00\", \"2020-02-06T00:00:00\", \"2020-02-07T00:00:00\", \"2020-02-08T00:00:00\", \"2020-02-09T00:00:00\", \"2020-02-10T00:00:00\", \"2020-02-11T00:00:00\", \"2020-02-12T00:00:00\", \"2020-02-13T00:00:00\", \"2020-02-14T00:00:00\", \"2020-02-15T00:00:00\", \"2020-02-16T00:00:00\", \"2020-02-17T00:00:00\", \"2020-02-18T00:00:00\", \"2020-02-19T00:00:00\", \"2020-02-20T00:00:00\", \"2020-02-21T00:00:00\", \"2020-02-22T00:00:00\", \"2020-02-23T00:00:00\", \"2020-02-24T00:00:00\", \"2020-02-25T00:00:00\", \"2020-02-26T00:00:00\", \"2020-02-27T00:00:00\", \"2020-02-28T00:00:00\", \"2020-02-29T00:00:00\", \"2020-03-01T00:00:00\", \"2020-03-02T00:00:00\", \"2020-03-03T00:00:00\", \"2020-03-04T00:00:00\", \"2020-03-05T00:00:00\", \"2020-03-06T00:00:00\", \"2020-03-07T00:00:00\", \"2020-03-08T00:00:00\", \"2020-03-09T00:00:00\", \"2020-03-10T00:00:00\", \"2020-03-11T00:00:00\", \"2020-03-12T00:00:00\", \"2020-03-13T00:00:00\", \"2020-03-14T00:00:00\", \"2020-03-15T00:00:00\", \"2020-03-16T00:00:00\", \"2020-03-17T00:00:00\", \"2020-03-18T00:00:00\", \"2020-03-19T00:00:00\", \"2020-03-20T00:00:00\", \"2020-03-21T00:00:00\", \"2020-03-22T00:00:00\", \"2020-03-23T00:00:00\", \"2020-03-24T00:00:00\", \"2020-03-25T00:00:00\", \"2020-03-26T00:00:00\", \"2020-03-27T00:00:00\", \"2020-03-28T00:00:00\", \"2020-03-29T00:00:00\", \"2020-03-30T00:00:00\", \"2020-03-31T00:00:00\", \"2020-04-01T00:00:00\", \"2020-04-02T00:00:00\", \"2020-04-03T00:00:00\", \"2020-04-04T00:00:00\", \"2020-04-05T00:00:00\", \"2020-04-06T00:00:00\", \"2020-04-07T00:00:00\", \"2020-04-08T00:00:00\", \"2020-04-09T00:00:00\", \"2020-04-10T00:00:00\", \"2020-04-11T00:00:00\", \"2020-04-12T00:00:00\", \"2020-04-13T00:00:00\", \"2020-04-14T00:00:00\", \"2020-04-15T00:00:00\", \"2020-04-16T00:00:00\", \"2020-04-17T00:00:00\", \"2020-04-18T00:00:00\", \"2020-04-19T00:00:00\", \"2020-04-20T00:00:00\", \"2020-04-21T00:00:00\", \"2020-04-22T00:00:00\", \"2020-04-23T00:00:00\", \"2020-04-24T00:00:00\", \"2020-04-25T00:00:00\", \"2020-04-26T00:00:00\", \"2020-04-27T00:00:00\", \"2020-04-28T00:00:00\", \"2020-04-29T00:00:00\", \"2020-04-30T00:00:00\"], \"y\": [1.0, 1.0, 1.0, 1.0, 1.0, 1.0, 2.0, 2.0, 2.0, 2.0, 2.0, 2.0, 2.0, 2.0, 2.0, 2.0, 2.0, 2.0, 2.0, 2.0, 2.0, 2.0, 2.0, 2.0, 2.0, 2.0, 2.0, 9.0, 18.0, 40.0, 53.0, 94.0, 207.0, 275.0, 387.0, 537.0, 719.0, 1010.0, 1273.0, 1665.0, 2130.0, 2991.0, 3728.0, 4823.0, 6080.0, 8175.0, 10756.0, 14929.0, 20637.0, 27060.0, 36110.0, 46635.0, 56592.0, 68335.0, 85488.0, 102164.0, 120180.0, 139764.0, 159610.0, 179583.0, 205091.0, 221702.0, 261963.0, 292467.0, 319053.0, 345465.0, 387636.0, 419563.0, 455199.0, 430238.0, 519267.0, 548181.0, 563172.0, 590203.0, 620675.0, 657418.0, 688568.0, 708001.0, 746547.0, 767038.0, 796505.0, 784631.0, 857389.0, 878627.0, 897228.0, 943544.0, 954434.0, 992168.0, 961797.0, 1038311.0]}, {\"mode\": \"lines\", \"name\": \"Deaths\", \"type\": \"scatter\", \"x\": [\"2020-02-01T00:00:00\", \"2020-02-02T00:00:00\", \"2020-02-03T00:00:00\", \"2020-02-04T00:00:00\", \"2020-02-05T00:00:00\", \"2020-02-06T00:00:00\", \"2020-02-07T00:00:00\", \"2020-02-08T00:00:00\", \"2020-02-09T00:00:00\", \"2020-02-10T00:00:00\", \"2020-02-11T00:00:00\", \"2020-02-12T00:00:00\", \"2020-02-13T00:00:00\", \"2020-02-14T00:00:00\", \"2020-02-15T00:00:00\", \"2020-02-16T00:00:00\", \"2020-02-17T00:00:00\", \"2020-02-18T00:00:00\", \"2020-02-19T00:00:00\", \"2020-02-20T00:00:00\", \"2020-02-21T00:00:00\", \"2020-02-22T00:00:00\", \"2020-02-23T00:00:00\", \"2020-02-24T00:00:00\", \"2020-02-25T00:00:00\", \"2020-02-26T00:00:00\", \"2020-02-27T00:00:00\", \"2020-02-28T00:00:00\", \"2020-02-29T00:00:00\", \"2020-03-01T00:00:00\", \"2020-03-02T00:00:00\", \"2020-03-03T00:00:00\", \"2020-03-04T00:00:00\", \"2020-03-05T00:00:00\", \"2020-03-06T00:00:00\", \"2020-03-07T00:00:00\", \"2020-03-08T00:00:00\", \"2020-03-09T00:00:00\", \"2020-03-10T00:00:00\", \"2020-03-11T00:00:00\", \"2020-03-12T00:00:00\", \"2020-03-13T00:00:00\", \"2020-03-14T00:00:00\", \"2020-03-15T00:00:00\", \"2020-03-16T00:00:00\", \"2020-03-17T00:00:00\", \"2020-03-18T00:00:00\", \"2020-03-19T00:00:00\", \"2020-03-20T00:00:00\", \"2020-03-21T00:00:00\", \"2020-03-22T00:00:00\", \"2020-03-23T00:00:00\", \"2020-03-24T00:00:00\", \"2020-03-25T00:00:00\", \"2020-03-26T00:00:00\", \"2020-03-27T00:00:00\", \"2020-03-28T00:00:00\", \"2020-03-29T00:00:00\", \"2020-03-30T00:00:00\", \"2020-03-31T00:00:00\", \"2020-04-01T00:00:00\", \"2020-04-02T00:00:00\", \"2020-04-03T00:00:00\", \"2020-04-04T00:00:00\", \"2020-04-05T00:00:00\", \"2020-04-06T00:00:00\", \"2020-04-07T00:00:00\", \"2020-04-08T00:00:00\", \"2020-04-09T00:00:00\", \"2020-04-10T00:00:00\", \"2020-04-11T00:00:00\", \"2020-04-12T00:00:00\", \"2020-04-13T00:00:00\", \"2020-04-14T00:00:00\", \"2020-04-15T00:00:00\", \"2020-04-16T00:00:00\", \"2020-04-17T00:00:00\", \"2020-04-18T00:00:00\", \"2020-04-19T00:00:00\", \"2020-04-20T00:00:00\", \"2020-04-21T00:00:00\", \"2020-04-22T00:00:00\", \"2020-04-23T00:00:00\", \"2020-04-24T00:00:00\", \"2020-04-25T00:00:00\", \"2020-04-26T00:00:00\", \"2020-04-27T00:00:00\", \"2020-04-28T00:00:00\", \"2020-04-29T00:00:00\", \"2020-04-30T00:00:00\"], \"y\": [0.0, 0.0, 0.0, 0.0, 0.0, 0.0, 0.0, 0.0, 0.0, 0.0, 0.0, 0.0, 0.0, 0.0, 0.0, 0.0, 0.0, 0.0, 0.0, 0.0, 0.0, 0.0, 0.0, 0.0, 0.0, 2.0, 2.0, 4.0, 5.0, 8.0, 11.0, 14.0, 16.0, 20.0, 26.0, 27.0, 31.0, 35.0, 37.0, 43.0, 51.0, 55.0, 63.0, 77.0, 98.0, 120.0, 145.0, 189.0, 252.0, 301.0, 434.0, 516.0, 720.0, 939.0, 1214.0, 1561.0, 1973.0, 2472.0, 2979.0, 3724.0, 4654.0, 5409.0, 6919.0, 8202.0, 9462.0, 10638.0, 12669.0, 14626.0, 16575.0, 16560.0, 20573.0, 22119.0, 23327.0, 25680.0, 28248.0, 30504.0, 32546.0, 34143.0, 36114.0, 37633.0, 40331.0, 40823.0, 44163.0, 45522.0, 46471.0, 48388.0, 49318.0, 51862.0, 51959.0, 56502.0]}, {\"mode\": \"lines\", \"name\": \"Recovered\", \"type\": \"scatter\", \"x\": [\"2020-02-01T00:00:00\", \"2020-02-02T00:00:00\", \"2020-02-03T00:00:00\", \"2020-02-04T00:00:00\", \"2020-02-05T00:00:00\", \"2020-02-06T00:00:00\", \"2020-02-07T00:00:00\", \"2020-02-08T00:00:00\", \"2020-02-09T00:00:00\", \"2020-02-10T00:00:00\", \"2020-02-11T00:00:00\", \"2020-02-12T00:00:00\", \"2020-02-13T00:00:00\", \"2020-02-14T00:00:00\", \"2020-02-15T00:00:00\", \"2020-02-16T00:00:00\", \"2020-02-17T00:00:00\", \"2020-02-18T00:00:00\", \"2020-02-19T00:00:00\", \"2020-02-20T00:00:00\", \"2020-02-21T00:00:00\", \"2020-02-22T00:00:00\", \"2020-02-23T00:00:00\", \"2020-02-24T00:00:00\", \"2020-02-25T00:00:00\", \"2020-02-26T00:00:00\", \"2020-02-27T00:00:00\", \"2020-02-28T00:00:00\", \"2020-02-29T00:00:00\", \"2020-03-01T00:00:00\", \"2020-03-02T00:00:00\", \"2020-03-03T00:00:00\", \"2020-03-04T00:00:00\", \"2020-03-05T00:00:00\", \"2020-03-06T00:00:00\", \"2020-03-07T00:00:00\", \"2020-03-08T00:00:00\", \"2020-03-09T00:00:00\", \"2020-03-10T00:00:00\", \"2020-03-11T00:00:00\", \"2020-03-12T00:00:00\", \"2020-03-13T00:00:00\", \"2020-03-14T00:00:00\", \"2020-03-15T00:00:00\", \"2020-03-16T00:00:00\", \"2020-03-17T00:00:00\", \"2020-03-18T00:00:00\", \"2020-03-19T00:00:00\", \"2020-03-20T00:00:00\", \"2020-03-21T00:00:00\", \"2020-03-22T00:00:00\", \"2020-03-23T00:00:00\", \"2020-03-24T00:00:00\", \"2020-03-25T00:00:00\", \"2020-03-26T00:00:00\", \"2020-03-27T00:00:00\", \"2020-03-28T00:00:00\", \"2020-03-29T00:00:00\", \"2020-03-30T00:00:00\", \"2020-03-31T00:00:00\", \"2020-04-01T00:00:00\", \"2020-04-02T00:00:00\", \"2020-04-03T00:00:00\", \"2020-04-04T00:00:00\", \"2020-04-05T00:00:00\", \"2020-04-06T00:00:00\", \"2020-04-07T00:00:00\", \"2020-04-08T00:00:00\", \"2020-04-09T00:00:00\", \"2020-04-10T00:00:00\", \"2020-04-11T00:00:00\", \"2020-04-12T00:00:00\", \"2020-04-13T00:00:00\", \"2020-04-14T00:00:00\", \"2020-04-15T00:00:00\", \"2020-04-16T00:00:00\", \"2020-04-17T00:00:00\", \"2020-04-18T00:00:00\", \"2020-04-19T00:00:00\", \"2020-04-20T00:00:00\", \"2020-04-21T00:00:00\", \"2020-04-22T00:00:00\", \"2020-04-23T00:00:00\", \"2020-04-24T00:00:00\", \"2020-04-25T00:00:00\", \"2020-04-26T00:00:00\", \"2020-04-27T00:00:00\", \"2020-04-28T00:00:00\", \"2020-04-29T00:00:00\", \"2020-04-30T00:00:00\"], \"y\": [0.0, 0.0, 0.0, 0.0, 0.0, 0.0, 0.0, 0.0, 0.0, 0.0, 0.0, 0.0, 0.0, 0.0, 0.0, 0.0, 0.0, 0.0, 0.0, 0.0, 0.0, 0.0, 0.0, 0.0, 0.0, 0.0, 0.0, 0.0, 0.0, 0.0, 0.0, 0.0, 0.0, 0.0, 0.0, 0.0, 0.0, 0.0, 0.0, 0.0, 0.0, 0.0, 0.0, 0.0, 0.0, 0.0, 0.0, 0.0, 0.0, 0.0, 0.0, 0.0, 0.0, 140.0, 45.0, 2338.0, 3075.0, 3971.0, 4383.0, 5352.0, 6679.0, 8261.0, 10352.0, 12285.0, 13860.0, 15867.0, 16821.0, 20342.0, 24242.0, 27092.0, 30736.0, 33191.0, 33030.0, 37855.0, 41039.0, 46930.0, 51237.0, 57658.0, 65985.0, 68260.0, 71092.0, 87633.0, 95360.0, 98326.0, 104129.0, 112371.0, 116793.0, 135963.0, 137464.0, 148992.0]}],\n",
              "                        {\"legend\": {\"bordercolor\": \"silver\", \"borderwidth\": 1, \"traceorder\": \"normal\", \"x\": 0, \"y\": 1}, \"margin\": {\"b\": 0, \"l\": 0, \"r\": 0}, \"template\": {\"data\": {\"bar\": [{\"error_x\": {\"color\": \"#2a3f5f\"}, \"error_y\": {\"color\": \"#2a3f5f\"}, \"marker\": {\"line\": {\"color\": \"#E5ECF6\", \"width\": 0.5}}, \"type\": \"bar\"}], \"barpolar\": [{\"marker\": {\"line\": {\"color\": \"#E5ECF6\", \"width\": 0.5}}, \"type\": \"barpolar\"}], \"carpet\": [{\"aaxis\": {\"endlinecolor\": \"#2a3f5f\", \"gridcolor\": \"white\", \"linecolor\": \"white\", \"minorgridcolor\": \"white\", \"startlinecolor\": \"#2a3f5f\"}, \"baxis\": {\"endlinecolor\": \"#2a3f5f\", \"gridcolor\": \"white\", \"linecolor\": \"white\", \"minorgridcolor\": \"white\", \"startlinecolor\": \"#2a3f5f\"}, \"type\": \"carpet\"}], \"choropleth\": [{\"colorbar\": {\"outlinewidth\": 0, \"ticks\": \"\"}, \"type\": \"choropleth\"}], \"contour\": [{\"colorbar\": {\"outlinewidth\": 0, \"ticks\": \"\"}, \"colorscale\": [[0.0, \"#0d0887\"], [0.1111111111111111, \"#46039f\"], [0.2222222222222222, \"#7201a8\"], [0.3333333333333333, \"#9c179e\"], [0.4444444444444444, \"#bd3786\"], [0.5555555555555556, \"#d8576b\"], [0.6666666666666666, \"#ed7953\"], [0.7777777777777778, \"#fb9f3a\"], [0.8888888888888888, \"#fdca26\"], [1.0, \"#f0f921\"]], \"type\": \"contour\"}], \"contourcarpet\": [{\"colorbar\": {\"outlinewidth\": 0, \"ticks\": \"\"}, \"type\": \"contourcarpet\"}], \"heatmap\": [{\"colorbar\": {\"outlinewidth\": 0, \"ticks\": \"\"}, \"colorscale\": [[0.0, \"#0d0887\"], [0.1111111111111111, \"#46039f\"], [0.2222222222222222, \"#7201a8\"], [0.3333333333333333, \"#9c179e\"], [0.4444444444444444, \"#bd3786\"], [0.5555555555555556, \"#d8576b\"], [0.6666666666666666, \"#ed7953\"], [0.7777777777777778, \"#fb9f3a\"], [0.8888888888888888, \"#fdca26\"], [1.0, \"#f0f921\"]], \"type\": \"heatmap\"}], \"heatmapgl\": [{\"colorbar\": {\"outlinewidth\": 0, \"ticks\": \"\"}, \"colorscale\": [[0.0, \"#0d0887\"], [0.1111111111111111, \"#46039f\"], [0.2222222222222222, \"#7201a8\"], [0.3333333333333333, \"#9c179e\"], [0.4444444444444444, \"#bd3786\"], [0.5555555555555556, \"#d8576b\"], [0.6666666666666666, \"#ed7953\"], [0.7777777777777778, \"#fb9f3a\"], [0.8888888888888888, \"#fdca26\"], [1.0, \"#f0f921\"]], \"type\": \"heatmapgl\"}], \"histogram\": [{\"marker\": {\"colorbar\": {\"outlinewidth\": 0, \"ticks\": \"\"}}, \"type\": \"histogram\"}], \"histogram2d\": [{\"colorbar\": {\"outlinewidth\": 0, \"ticks\": \"\"}, \"colorscale\": [[0.0, \"#0d0887\"], [0.1111111111111111, \"#46039f\"], [0.2222222222222222, \"#7201a8\"], [0.3333333333333333, \"#9c179e\"], [0.4444444444444444, \"#bd3786\"], [0.5555555555555556, \"#d8576b\"], [0.6666666666666666, \"#ed7953\"], [0.7777777777777778, \"#fb9f3a\"], [0.8888888888888888, \"#fdca26\"], [1.0, \"#f0f921\"]], \"type\": \"histogram2d\"}], \"histogram2dcontour\": [{\"colorbar\": {\"outlinewidth\": 0, \"ticks\": \"\"}, \"colorscale\": [[0.0, \"#0d0887\"], [0.1111111111111111, \"#46039f\"], [0.2222222222222222, \"#7201a8\"], [0.3333333333333333, \"#9c179e\"], [0.4444444444444444, \"#bd3786\"], [0.5555555555555556, \"#d8576b\"], [0.6666666666666666, \"#ed7953\"], [0.7777777777777778, \"#fb9f3a\"], [0.8888888888888888, \"#fdca26\"], [1.0, \"#f0f921\"]], \"type\": \"histogram2dcontour\"}], \"mesh3d\": [{\"colorbar\": {\"outlinewidth\": 0, \"ticks\": \"\"}, \"type\": \"mesh3d\"}], \"parcoords\": [{\"line\": {\"colorbar\": {\"outlinewidth\": 0, \"ticks\": \"\"}}, \"type\": \"parcoords\"}], \"pie\": [{\"automargin\": true, \"type\": \"pie\"}], \"scatter\": [{\"marker\": {\"colorbar\": {\"outlinewidth\": 0, \"ticks\": \"\"}}, \"type\": \"scatter\"}], \"scatter3d\": [{\"line\": {\"colorbar\": {\"outlinewidth\": 0, \"ticks\": \"\"}}, \"marker\": {\"colorbar\": {\"outlinewidth\": 0, \"ticks\": \"\"}}, \"type\": \"scatter3d\"}], \"scattercarpet\": [{\"marker\": {\"colorbar\": {\"outlinewidth\": 0, \"ticks\": \"\"}}, \"type\": \"scattercarpet\"}], \"scattergeo\": [{\"marker\": {\"colorbar\": {\"outlinewidth\": 0, \"ticks\": \"\"}}, \"type\": \"scattergeo\"}], \"scattergl\": [{\"marker\": {\"colorbar\": {\"outlinewidth\": 0, \"ticks\": \"\"}}, \"type\": \"scattergl\"}], \"scattermapbox\": [{\"marker\": {\"colorbar\": {\"outlinewidth\": 0, \"ticks\": \"\"}}, \"type\": \"scattermapbox\"}], \"scatterpolar\": [{\"marker\": {\"colorbar\": {\"outlinewidth\": 0, \"ticks\": \"\"}}, \"type\": \"scatterpolar\"}], \"scatterpolargl\": [{\"marker\": {\"colorbar\": {\"outlinewidth\": 0, \"ticks\": \"\"}}, \"type\": \"scatterpolargl\"}], \"scatterternary\": [{\"marker\": {\"colorbar\": {\"outlinewidth\": 0, \"ticks\": \"\"}}, \"type\": \"scatterternary\"}], \"surface\": [{\"colorbar\": {\"outlinewidth\": 0, \"ticks\": \"\"}, \"colorscale\": [[0.0, \"#0d0887\"], [0.1111111111111111, \"#46039f\"], [0.2222222222222222, \"#7201a8\"], [0.3333333333333333, \"#9c179e\"], [0.4444444444444444, \"#bd3786\"], [0.5555555555555556, \"#d8576b\"], [0.6666666666666666, \"#ed7953\"], [0.7777777777777778, \"#fb9f3a\"], [0.8888888888888888, \"#fdca26\"], [1.0, \"#f0f921\"]], \"type\": \"surface\"}], \"table\": [{\"cells\": {\"fill\": {\"color\": \"#EBF0F8\"}, \"line\": {\"color\": \"white\"}}, \"header\": {\"fill\": {\"color\": \"#C8D4E3\"}, \"line\": {\"color\": \"white\"}}, \"type\": \"table\"}]}, \"layout\": {\"annotationdefaults\": {\"arrowcolor\": \"#2a3f5f\", \"arrowhead\": 0, \"arrowwidth\": 1}, \"coloraxis\": {\"colorbar\": {\"outlinewidth\": 0, \"ticks\": \"\"}}, \"colorscale\": {\"diverging\": [[0, \"#8e0152\"], [0.1, \"#c51b7d\"], [0.2, \"#de77ae\"], [0.3, \"#f1b6da\"], [0.4, \"#fde0ef\"], [0.5, \"#f7f7f7\"], [0.6, \"#e6f5d0\"], [0.7, \"#b8e186\"], [0.8, \"#7fbc41\"], [0.9, \"#4d9221\"], [1, \"#276419\"]], \"sequential\": [[0.0, \"#0d0887\"], [0.1111111111111111, \"#46039f\"], [0.2222222222222222, \"#7201a8\"], [0.3333333333333333, \"#9c179e\"], [0.4444444444444444, \"#bd3786\"], [0.5555555555555556, \"#d8576b\"], [0.6666666666666666, \"#ed7953\"], [0.7777777777777778, \"#fb9f3a\"], [0.8888888888888888, \"#fdca26\"], [1.0, \"#f0f921\"]], \"sequentialminus\": [[0.0, \"#0d0887\"], [0.1111111111111111, \"#46039f\"], [0.2222222222222222, \"#7201a8\"], [0.3333333333333333, \"#9c179e\"], [0.4444444444444444, \"#bd3786\"], [0.5555555555555556, \"#d8576b\"], [0.6666666666666666, \"#ed7953\"], [0.7777777777777778, \"#fb9f3a\"], [0.8888888888888888, \"#fdca26\"], [1.0, \"#f0f921\"]]}, \"colorway\": [\"#636efa\", \"#EF553B\", \"#00cc96\", \"#ab63fa\", \"#FFA15A\", \"#19d3f3\", \"#FF6692\", \"#B6E880\", \"#FF97FF\", \"#FECB52\"], \"font\": {\"color\": \"#2a3f5f\"}, \"geo\": {\"bgcolor\": \"white\", \"lakecolor\": \"white\", \"landcolor\": \"#E5ECF6\", \"showlakes\": true, \"showland\": true, \"subunitcolor\": \"white\"}, \"hoverlabel\": {\"align\": \"left\"}, \"hovermode\": \"closest\", \"mapbox\": {\"style\": \"light\"}, \"paper_bgcolor\": \"white\", \"plot_bgcolor\": \"#E5ECF6\", \"polar\": {\"angularaxis\": {\"gridcolor\": \"white\", \"linecolor\": \"white\", \"ticks\": \"\"}, \"bgcolor\": \"#E5ECF6\", \"radialaxis\": {\"gridcolor\": \"white\", \"linecolor\": \"white\", \"ticks\": \"\"}}, \"scene\": {\"xaxis\": {\"backgroundcolor\": \"#E5ECF6\", \"gridcolor\": \"white\", \"gridwidth\": 2, \"linecolor\": \"white\", \"showbackground\": true, \"ticks\": \"\", \"zerolinecolor\": \"white\"}, \"yaxis\": {\"backgroundcolor\": \"#E5ECF6\", \"gridcolor\": \"white\", \"gridwidth\": 2, \"linecolor\": \"white\", \"showbackground\": true, \"ticks\": \"\", \"zerolinecolor\": \"white\"}, \"zaxis\": {\"backgroundcolor\": \"#E5ECF6\", \"gridcolor\": \"white\", \"gridwidth\": 2, \"linecolor\": \"white\", \"showbackground\": true, \"ticks\": \"\", \"zerolinecolor\": \"white\"}}, \"shapedefaults\": {\"line\": {\"color\": \"#2a3f5f\"}}, \"ternary\": {\"aaxis\": {\"gridcolor\": \"white\", \"linecolor\": \"white\", \"ticks\": \"\"}, \"baxis\": {\"gridcolor\": \"white\", \"linecolor\": \"white\", \"ticks\": \"\"}, \"bgcolor\": \"#E5ECF6\", \"caxis\": {\"gridcolor\": \"white\", \"linecolor\": \"white\", \"ticks\": \"\"}}, \"title\": {\"x\": 0.05}, \"xaxis\": {\"automargin\": true, \"gridcolor\": \"white\", \"linecolor\": \"white\", \"ticks\": \"\", \"title\": {\"standoff\": 15}, \"zerolinecolor\": \"white\", \"zerolinewidth\": 2}, \"yaxis\": {\"automargin\": true, \"gridcolor\": \"white\", \"linecolor\": \"white\", \"ticks\": \"\", \"title\": {\"standoff\": 15}, \"zerolinecolor\": \"white\", \"zerolinewidth\": 2}}}, \"title\": {\"text\": \"Positive, Deaths & Recovered Cases in USA\"}, \"width\": 850, \"xaxis\": {\"title\": {\"text\": \"\"}}, \"yaxis\": {\"title\": {\"text\": \"Cases Count in Log Scale\"}}},\n",
              "                        {\"responsive\": true}\n",
              "                    ).then(function(){\n",
              "                            \n",
              "var gd = document.getElementById('dd5b4757-0158-4669-9685-5ec36f2a569d');\n",
              "var x = new MutationObserver(function (mutations, observer) {{\n",
              "        var display = window.getComputedStyle(gd).display;\n",
              "        if (!display || display === 'none') {{\n",
              "            console.log([gd, 'removed!']);\n",
              "            Plotly.purge(gd);\n",
              "            observer.disconnect();\n",
              "        }}\n",
              "}});\n",
              "\n",
              "// Listen for the removal of the full notebook cells\n",
              "var notebookContainer = gd.closest('#notebook-container');\n",
              "if (notebookContainer) {{\n",
              "    x.observe(notebookContainer, {childList: true});\n",
              "}}\n",
              "\n",
              "// Listen for the clearing of the current output cell\n",
              "var outputEl = gd.closest('.output');\n",
              "if (outputEl) {{\n",
              "    x.observe(outputEl, {childList: true});\n",
              "}}\n",
              "\n",
              "                        })\n",
              "                };\n",
              "                \n",
              "            </script>\n",
              "        </div>\n",
              "</body>\n",
              "</html>"
            ]
          },
          "metadata": {
            "tags": []
          }
        }
      ]
    },
    {
      "cell_type": "markdown",
      "metadata": {
        "id": "XpctgF9jmtC0",
        "colab_type": "text"
      },
      "source": [
        "We have created this interactive plot to perform time based analysis of positive cases, deaths and recoveries. We can hover mouse to any point on the line graphs to view the corresponding count for the given date. From the graph, we can also notice that the cases were in three digits till mid march (probably due to lack of testing) and then exploded there onwards. Both recovery and deaths also follow a similar pattern with some time lag."
      ]
    },
    {
      "cell_type": "markdown",
      "metadata": {
        "id": "hcgi4TKwfMOx",
        "colab_type": "text"
      },
      "source": [
        "**Visualising testing**"
      ]
    },
    {
      "cell_type": "code",
      "metadata": {
        "id": "eAWwVvm4XdoZ",
        "colab_type": "code",
        "outputId": "5abbc9ee-a961-427d-eaea-041997d3e30c",
        "colab": {
          "base_uri": "https://localhost:8080/",
          "height": 489
        }
      },
      "source": [
        "pltdf = usCovidStatesDaily.copy()\n",
        "plotdf15 = pltdf.groupby(pltdf[\"date\"].dt.week)['positiveIncrease','totalTestResultsIncrease'].sum() #Total hospitalizations for the day\n",
        "plotdf15 = plotdf15[(plotdf15.positiveIncrease != 0) | (plotdf15.totalTestResultsIncrease != 0) ] #remove dates where all 3 were 0\n",
        "ax = plotdf15.plot.bar( y=['totalTestResultsIncrease','positiveIncrease'],rot=0,figsize=(10,6),label=['Daily Tests','Daily Positive'])\n",
        "ax.set_title(\"Tests done by week\", fontsize=15)\n",
        "ax.set_xlabel(\"Weeks since outbreak\")\n",
        "ax.set_ylabel(\"Count\")"
      ],
      "execution_count": 35,
      "outputs": [
        {
          "output_type": "stream",
          "text": [
            "/usr/local/lib/python3.6/dist-packages/ipykernel_launcher.py:2: FutureWarning:\n",
            "\n",
            "Indexing with multiple keys (implicitly converted to a tuple of keys) will be deprecated, use a list instead.\n",
            "\n"
          ],
          "name": "stderr"
        },
        {
          "output_type": "execute_result",
          "data": {
            "text/plain": [
              "Text(0, 0.5, 'Count')"
            ]
          },
          "metadata": {
            "tags": []
          },
          "execution_count": 35
        },
        {
          "output_type": "display_data",
          "data": {
            "image/png": "[encoded data removed]",
            "text/plain": [
              "<Figure size 720x432 with 1 Axes>"
            ]
          },
          "metadata": {
            "tags": [],
            "needs_background": "light"
          }
        }
      ]
    },
    {
      "cell_type": "markdown",
      "metadata": {
        "id": "u1A4HO_rfT-1",
        "colab_type": "text"
      },
      "source": [
        "In this plot, we can see how the testing that was lagging in the initial weeks of outbreak increased exponentially in the coming weeks. We can also see a corresponding increase in positive cases as testing increased."
      ]
    },
    {
      "cell_type": "markdown",
      "metadata": {
        "id": "oOO0PFWMlC8n",
        "colab_type": "text"
      },
      "source": [
        "**Visualising Total Positive cases and deaths**"
      ]
    },
    {
      "cell_type": "code",
      "metadata": {
        "id": "L0eGPGdUjKGj",
        "colab_type": "code",
        "outputId": "92e5bf4b-6c1c-41e0-d6e3-1421cec0a1ff",
        "colab": {
          "base_uri": "https://localhost:8080/",
          "height": 881
        }
      },
      "source": [
        "f, ax = plt.subplots(figsize = (18,15))\n",
        "sns.set_color_codes(\"pastel\")\n",
        "sns.barplot(x = usCovidStatesDaily['positive'], y =usCovidStatesDaily['state'], data = usCovidStatesDaily,\n",
        "            label = 'Positive', color = 'b')\n",
        "sns.set_color_codes(\"muted\")\n",
        "sns.barplot(x = usCovidStatesDaily['death'], y = usCovidStatesDaily['state'], data = usCovidStatesDaily,\n",
        "            label = 'Deaths', color = 'b')\n",
        "ax.set_xscale('log')\n",
        "ax.legend(ncol = 2, loc = 'upper right',frameon=True)\n",
        "ax.set(ylabel=\"State\",\n",
        "       xlabel=\"Total count\")\n",
        "plt.show()"
      ],
      "execution_count": 36,
      "outputs": [
        {
          "output_type": "display_data",
          "data": {
            "image/png": "[encoded data removed]",
            "text/plain": [
              "<Figure size 1296x1080 with 1 Axes>"
            ]
          },
          "metadata": {
            "tags": [],
            "needs_background": "light"
          }
        }
      ]
    },
    {
      "cell_type": "markdown",
      "metadata": {
        "id": "kP2FRHTVlRU1",
        "colab_type": "text"
      },
      "source": [
        "In this visualization, we see the state wise cumulative positive cases and relative deaths. We have log scaled count since a few states have very high cases and deaths as compared to others"
      ]
    },
    {
      "cell_type": "markdown",
      "metadata": {
        "id": "JIdsmmUBqvHE",
        "colab_type": "text"
      },
      "source": [
        "# **3. Required Inferences**\n",
        "---\n",
        "\n",
        "In this section, we implement the required inferences\n",
        "\n",
        "---"
      ]
    },
    {
      "cell_type": "markdown",
      "metadata": {
        "id": "bF3AVe9gIU2C",
        "colab_type": "text"
      },
      "source": [
        "##**3.1 Predicting Fatality and Cases using Linear Regression** \n",
        "\n",
        "\n"
      ]
    },
    {
      "cell_type": "markdown",
      "metadata": {
        "id": "ZsT7MZcXvVYE",
        "colab_type": "text"
      },
      "source": [
        "**Autoregression for p = 3 and p = 5**"
      ]
    },
    {
      "cell_type": "code",
      "metadata": {
        "id": "Iu8Rg_TVIYgf",
        "colab_type": "code",
        "outputId": "73348668-22ae-4a9f-fd8b-6207b24c2fd5",
        "colab": {
          "base_uri": "https://localhost:8080/",
          "height": 920
        }
      },
      "source": [
        "def data_prep():\n",
        "  try:\n",
        "    data=usCovidDaily[['date','deathIncrease','positiveIncrease']]\n",
        "    data=data[(data['date']>'2020-02-29')&(data['date']<'2020-04-01')].reset_index(drop=True) #data between 1st March and 1st April\n",
        "  except FileNotFoundError as e:\n",
        "    print(\"Load files from colab\")\n",
        "  return data\n",
        "\n",
        "###################################################################################################################################################\n",
        "def MAPE(a,b,N): #MAPE\n",
        "  return 100*sum(abs(a-b)/abs(a))/N\n",
        "\n",
        "def MSE(a,b,N): #MSE\n",
        "  return sum((a-b)**2)/N\n",
        "\n",
        "def AR(data,p=3,col='death'):\n",
        "  \"\"\"\n",
        "  beta = (X*X.T)^-1 X.T*y \n",
        "  data : dataset\n",
        "  p : AR(p) factor\n",
        "  col : death or positive Default: death\n",
        "\n",
        "  \"\"\"\n",
        "  s=21\n",
        "  data=data.iloc[0:s+7] #28 days of data\n",
        "  dates = data['date'][-7:]\n",
        "  data=data[col]\n",
        "  samples=len(data)-p\n",
        "  beta=np.zeros(shape=(samples,)) #Initialize weights to 0\n",
        "  y=beta\n",
        "  X=np.zeros(shape=(samples,p+1)) \n",
        "  N=len(X)\n",
        "\n",
        "  #Generate the data for training and testing\n",
        "  for i in range(p,len(data)):\n",
        "    row = [1]+[data[i-k] for k in range(1,p+1)]\n",
        "    X[i-p,:]=row\n",
        "    y[i-p]=data[i]\n",
        "  \n",
        "  y_pred=[]\n",
        "  N=len(X)-7\n",
        "  true_val=[]\n",
        "  for i in range(7):\n",
        "    X_test = X[N+i,:]\n",
        "    y_test = y[N+i]\n",
        "    X_train = X[:N+i,:]\n",
        "    y_train = y[:N+i]\n",
        "    true_val.append(y_test)\n",
        "    a=np.linalg.inv(np.matmul(X_train.T,X_train)) # (X.T * X)^-1\n",
        "    b=np.matmul(a,X_train.T) #(X.T * X)^-1 * X.T \n",
        "    beta = np.matmul(b,y_train) #(X.T * X)^-1 * X.T * y\n",
        "    y_hat=np.matmul(X_test,beta) #Prediction for N+i data samples\n",
        "    y_pred.append(y_hat)\n",
        "  \n",
        "  y_hat = np.array(y_pred)\n",
        "  \n",
        "  mape = MAPE(np.array(true_val),y_hat,7)\n",
        "  mse = MSE(np.array(true_val),y_hat,7)\n",
        "  print('Value of p:'+str(p))\n",
        "  d=pd.DataFrame()\n",
        "  d['True Values']=true_val\n",
        "  d['Prediction']=y_hat\n",
        "  print(d)\n",
        "  print(\"---------------------------------\")\n",
        "  print(\"MSE = \" +str(mse))\n",
        "  print(\"MAPE = \"+str(mape))\n",
        "  print(\"---------------------------------\")\n",
        "\n",
        "  return dates,y_hat,np.array(true_val)\n",
        "  \n",
        "def genereate_AR_predictions(col):\n",
        "  print(\"Data feature to be predicted:\"+str(col))\n",
        "  dates,y_h1,y=AR(data,3,col)\n",
        "  dates,y_h2,y=AR(data,5,col)\n",
        "  #plt.figure(figsize=(8,6))\n",
        "  #plt.plot(dates,y_h1)\n",
        "  #plt.plot(dates,y_h2)\n",
        "  #plt.plot(dates,y)\n",
        "  #plt.xlabel('Date')\n",
        "  #plt.ylabel(type)\n",
        "  #plt.legend(['prediction p=3','prediction p=5','true value'])\n",
        "\n",
        "data=data_prep()\n",
        "genereate_AR_predictions('deathIncrease')\n",
        "genereate_AR_predictions('positiveIncrease')"
      ],
      "execution_count": 37,
      "outputs": [
        {
          "output_type": "stream",
          "text": [
            "Data feature to be predicted:deathIncrease\n",
            "Value of p:3\n",
            "   True Values  Prediction\n",
            "0        129.0   69.081311\n",
            "1         82.0  149.191845\n",
            "2        204.0  210.231030\n",
            "3        224.0  188.053978\n",
            "4        275.0  254.066079\n",
            "5        363.0  494.878796\n",
            "6        414.0  460.013452\n",
            "---------------------------------\n",
            "MSE = 4197.631331559175\n",
            "MAPE = 28.93551011697028\n",
            "---------------------------------\n",
            "Value of p:5\n",
            "   True Values  Prediction\n",
            "0        129.0   76.934138\n",
            "1         82.0  122.683701\n",
            "2        204.0  266.498170\n",
            "3        224.0  228.138392\n",
            "4        275.0  226.139916\n",
            "5        363.0  493.173435\n",
            "6        414.0  615.703223\n",
            "---------------------------------\n",
            "MSE = 9757.969424200011\n",
            "MAPE = 32.115370831283926\n",
            "---------------------------------\n",
            "Data feature to be predicted:positiveIncrease\n",
            "Value of p:3\n",
            "   True Values    Prediction\n",
            "0       8913.0  10063.404522\n",
            "1      10614.0  11980.446454\n",
            "2      10062.0  13969.719025\n",
            "3      12041.0  10684.167977\n",
            "4      17153.0  14921.892133\n",
            "5      17963.0  20413.018604\n",
            "6      18515.0  18926.174817\n",
            "---------------------------------\n",
            "MSE = 4493052.256960851\n",
            "MAPE = 14.964713669461618\n",
            "---------------------------------\n",
            "Value of p:5\n",
            "   True Values    Prediction\n",
            "0       8913.0  10118.108355\n",
            "1      10614.0  12005.485155\n",
            "2      10062.0  15461.524815\n",
            "3      12041.0  10532.548725\n",
            "4      17153.0  10536.132720\n",
            "5      17963.0  15926.695580\n",
            "6      18515.0  17381.509754\n",
            "---------------------------------\n",
            "MSE = 12004725.570066463\n",
            "MAPE = 21.264935103402475\n",
            "---------------------------------\n"
          ],
          "name": "stdout"
        }
      ]
    },
    {
      "cell_type": "markdown",
      "metadata": {
        "id": "WryvRCAJwTWM",
        "colab_type": "text"
      },
      "source": [
        "**EWMA for alpha = 0.5 and alpha = 0.8**"
      ]
    },
    {
      "cell_type": "code",
      "metadata": {
        "id": "3UbFlzkge9qG",
        "colab_type": "code",
        "outputId": "81f0fa03-4f19-4b38-ccca-eff94403b3d6",
        "colab": {
          "base_uri": "https://localhost:8080/",
          "height": 953
        }
      },
      "source": [
        "###################################################################################################################################################\n",
        "\n",
        "def EWMA(alpha,X,col='deathIncrease'):\n",
        "  \"\"\"\n",
        "  alpha : confidence\n",
        "  X : Time series data\n",
        "  col : death or positive Default: death\n",
        "  \"\"\"\n",
        "  s=21\n",
        "  X=X.iloc[0:s+7] #28 Days of data\n",
        "  N=len(X)\n",
        "  test = X.iloc[s:s+7]\n",
        "  y_hat=np.zeros(shape=(N))\n",
        "  y_hat[0]=X[col][0] #y_hat_1 = y_1\n",
        "  for i in range(1,N):\n",
        "    y_hat[i] = alpha * X[col][i-1] + (1-alpha)*y_hat[i-1] #y_t+1|t = alpha*y_t + (1-alpha)*y_hat_t|t-1\n",
        "  mse=MSE(X[col][s:s+7],y_hat[s:s+7],7) #calculate mse\n",
        "  print('Value of alpha:'+str(alpha))\n",
        "  d=pd.DataFrame()\n",
        "  d['True Values']=X[col][s:s+7] #True values\n",
        "  d['Prediction']=y_hat[s:s+7] #Predicted Values\n",
        "  print(d)\n",
        "  print(\"---------------------------------\")\n",
        "  print('Mean Squared error = '+str(mse))\n",
        "  mape = MAPE(np.array(X[col][s:s+7]),np.array(y_hat[s:s+7]),7)  #calculate mape\n",
        "  print('MAPE = '+str(mape))\n",
        "  print(\"---------------------------------\")\n",
        "  dates = X['date'][s:s+7]\n",
        "  return dates,X[col][s:s+7],y_hat[s:s+7]\n",
        "  \n",
        "def generate_EWMA_predictions(col):\n",
        "  print(\"Data feature to be predicted:\"+str(col))\n",
        "  dates,y_t,y_h1 = EWMA(0.5,data,col)\n",
        "  print(\"---------------------------------\")\n",
        "  dates,y_t,y_h2 = EWMA(0.8,data,col)\n",
        "  #plt.figure(figsize=(8,6))\n",
        "  #plt.plot(dates,y_h1)\n",
        "  #plt.plot(dates,y_h2)\n",
        "  #plt.plot(dates,y_t)\n",
        "  #plt.xlabel('Date')\n",
        "  #plt.ylabel(type)\n",
        "  #plt.legend(['prediction alpha=0.5','prediction alpha=0.8','true value'])\n",
        "\n",
        "######################################################################################################################################################\n",
        "\n",
        "generate_EWMA_predictions('deathIncrease')\n",
        "generate_EWMA_predictions('positiveIncrease')"
      ],
      "execution_count": 38,
      "outputs": [
        {
          "output_type": "stream",
          "text": [
            "Data feature to be predicted:deathIncrease\n",
            "Value of alpha:0.5\n",
            "    True Values  Prediction\n",
            "21        129.0   49.488697\n",
            "22         82.0   89.244349\n",
            "23        204.0   85.622174\n",
            "24        224.0  144.811087\n",
            "25        275.0  184.405544\n",
            "26        363.0  229.702772\n",
            "27        414.0  296.351386\n",
            "---------------------------------\n",
            "Mean Squared error = 9496.489202602814\n",
            "MAPE = 37.41910819592096\n",
            "---------------------------------\n",
            "---------------------------------\n",
            "Value of alpha:0.8\n",
            "    True Values  Prediction\n",
            "21        129.0   52.482347\n",
            "22         82.0  113.696469\n",
            "23        204.0   88.339294\n",
            "24        224.0  180.867859\n",
            "25        275.0  215.373572\n",
            "26        363.0  263.074714\n",
            "27        414.0  343.014943\n",
            "---------------------------------\n",
            "Mean Squared error = 5810.949996222759\n",
            "MAPE = 34.32545706724126\n",
            "---------------------------------\n",
            "Data feature to be predicted:positiveIncrease\n",
            "Value of alpha:0.5\n",
            "    True Values    Prediction\n",
            "21       8913.0   5434.964435\n",
            "22      10614.0   7173.982217\n",
            "23      10062.0   8893.991109\n",
            "24      12041.0   9477.995554\n",
            "25      17153.0  10759.497777\n",
            "26      17963.0  13956.248889\n",
            "27      18515.0  15959.624444\n",
            "---------------------------------\n",
            "Mean Squared error = 13617794.238714287\n",
            "MAPE = 25.386659017378296\n",
            "---------------------------------\n",
            "---------------------------------\n",
            "Value of alpha:0.8\n",
            "    True Values    Prediction\n",
            "21       8913.0   6228.004159\n",
            "22      10614.0   8376.000832\n",
            "23      10062.0  10166.400166\n",
            "24      12041.0  10082.880033\n",
            "25      17153.0  11649.376007\n",
            "26      17963.0  16052.275201\n",
            "27      18515.0  17580.855040\n",
            "---------------------------------\n",
            "Mean Squared error = 7268049.894944829\n",
            "MAPE = 16.611049727163465\n",
            "---------------------------------\n"
          ],
          "name": "stdout"
        }
      ]
    },
    {
      "cell_type": "markdown",
      "metadata": {
        "id": "qPPFuu8FOsq_",
        "colab_type": "text"
      },
      "source": [
        "## **3.2 Hypothesis Testing**"
      ]
    },
    {
      "cell_type": "code",
      "metadata": {
        "id": "VgB240NwOrz_",
        "colab_type": "code",
        "colab": {}
      },
      "source": [
        "#Get second last week covid data (17-23rd April)\n",
        "secondlastweekdf = usCovidDaily[(usCovidDaily['date'] > '2020-04-16') & (usCovidDaily['date'] < '2020-04-24')].reset_index(drop=True)\n",
        "mean_deaths_secondlastweek = secondlastweekdf['deathIncrease'].mean() #daily mean deaths\n",
        "mean_cases_secondlastweek = secondlastweekdf['positiveIncrease'].mean() #daily mean positive\n",
        "#Get last week's covid data (24-30th April)\n",
        "lastweekdf = usCovidDaily[(usCovidDaily['date'] > '2020-04-23') & (usCovidDaily['date'] < '2020-05-01')].reset_index(drop=True)\n",
        "mean_deaths_lastweek = lastweekdf['deathIncrease'].mean() #daily mean deaths\n",
        "mean_cases_lastweek = lastweekdf['positiveIncrease'].mean() #daily mean positive"
      ],
      "execution_count": 0,
      "outputs": []
    },
    {
      "cell_type": "markdown",
      "metadata": {
        "id": "2yWF0W_iVofO",
        "colab_type": "text"
      },
      "source": [
        "**One sample Walds test**"
      ]
    },
    {
      "cell_type": "code",
      "metadata": {
        "id": "ZN-nBpuOWn7a",
        "colab_type": "code",
        "outputId": "62091c08-7268-49bb-d937-7193e4a65926",
        "colab": {
          "base_uri": "https://localhost:8080/",
          "height": 167
        }
      },
      "source": [
        "def OneSampleWalds(TrueMean,Estimator,sampledistribution):\n",
        "  #MLE Estimator is the sample mean for poisson distribution\n",
        "  n = len(sampledistribution)\n",
        "  se_hat = math.sqrt(Estimator/n) # root(sample_mean/n)\n",
        "  w = (Estimator-TrueMean)/se_hat #formula for wald's statistic\n",
        "  return abs(w)\n",
        "\n",
        "print(\"One sample walds test for number of Deaths:\")\n",
        "print(\"Null Hypothesis: The mean for second last week is same as the mean of last week for number of deaths\")\n",
        "W = OneSampleWalds(mean_deaths_secondlastweek,mean_deaths_lastweek,lastweekdf)\n",
        "print(\"|W| = \",W)\n",
        "z_alphaby2 = 1.96 # since alpha is 0.05\n",
        "if(W>z_alphaby2): #compare with critical value\n",
        "  print(\"We Reject the Null Hypothesis\")\n",
        "else:\n",
        "  print(\"We Accept the Null Hypothesis\")  \n",
        "\n",
        "print(\"\")\n",
        "print(\"One sample walds test for number of Cases:\")\n",
        "print(\"Null Hypothesis: The mean for second last week is same as the mean of last week for number of cases\")\n",
        "W = OneSampleWalds(mean_cases_secondlastweek,mean_cases_lastweek,lastweekdf)\n",
        "print(\"|W| = \",W)\n",
        "z_alphaby2 = 1.96 # since alpha is 0.05\n",
        "if(W>z_alphaby2): #compare with critical value\n",
        "  print(\"We Reject the Null Hypothesis\")\n",
        "else:\n",
        "  print(\"We Accept the Null Hypothesis\")"
      ],
      "execution_count": 40,
      "outputs": [
        {
          "output_type": "stream",
          "text": [
            "One sample walds test for number of Deaths:\n",
            "Null Hypothesis: The mean for second last week is same as the mean of last week for number of deaths\n",
            "|W| =  12.151367225319705\n",
            "We Reject the Null Hypothesis\n",
            "\n",
            "One sample walds test for number of Cases:\n",
            "Null Hypothesis: The mean for second last week is same as the mean of last week for number of cases\n",
            "|W| =  8.161871441285172\n",
            "We Reject the Null Hypothesis\n"
          ],
          "name": "stdout"
        }
      ]
    },
    {
      "cell_type": "markdown",
      "metadata": {
        "id": "Ces6Mb1E2Syf",
        "colab_type": "text"
      },
      "source": [
        "Applicability:\n",
        "\n",
        "One sample Wald's test is not applicable since MLE is an asymptotically normal estimator of lambda for poisson distribution if n (number of samples) is large, which is not the case here (n<30)."
      ]
    },
    {
      "cell_type": "markdown",
      "metadata": {
        "id": "ygu2sP6fkKeh",
        "colab_type": "text"
      },
      "source": [
        "**One Sample T-test**\n"
      ]
    },
    {
      "cell_type": "code",
      "metadata": {
        "id": "qmxwb_5PkJ56",
        "colab_type": "code",
        "outputId": "5045eae5-3070-4ae3-ae0a-2064b18031b0",
        "colab": {
          "base_uri": "https://localhost:8080/",
          "height": 167
        }
      },
      "source": [
        "def FindSampleStdDev(sampledistro): #find the sample std dev\n",
        "  x_mean = sampledistro.mean()  #sample mean\n",
        "  squaredsum=0\n",
        "  for i in range(0,len(sampledistro)):\n",
        "    diff = sampledistro[i]-x_mean\n",
        "    squaredsum = squaredsum + (diff*diff)\n",
        "  stddev = math.sqrt(squaredsum/len(sampledistro)) #stddev\n",
        "  return stddev\n",
        "\n",
        "def OneSampleTtest(TrueMean,SampleMean,sampledistribution):\n",
        "  n = len(sampledistribution) #no. of samples\n",
        "  samplestddev = FindSampleStdDev(sampledistribution)\n",
        "  T = (SampleMean - TrueMean)/(samplestddev/math.sqrt(n)) #T-test formula\n",
        "  return abs(T)\n",
        "\n",
        "print(\"One sample T-test for number of Deaths:\")\n",
        "print(\"Null Hypothesis: The mean for second last week is same as the mean of last week for number of deaths\")\n",
        "T = OneSampleTtest(mean_deaths_secondlastweek,mean_deaths_lastweek,lastweekdf[['deathIncrease']].values)\n",
        "print(\"|T| = \",T)\n",
        "T_alphaby2 = 2.447 # since n-1 = 6 and alpha is 0.05 #Critical value for T distribution\n",
        "if(T>T_alphaby2): #Condition to reject\n",
        "  print(\"We Reject the Null Hypothesis\")\n",
        "else:\n",
        "  print(\"We Accept the Null Hypothesis\")  \n",
        "  \n",
        "print(\"\")\n",
        "print(\"One sample T-test for number of Cases:\")\n",
        "print(\"Null Hypothesis: The mean for second last week is same as the mean of last week for number of cases\")\n",
        "T = OneSampleTtest(mean_deaths_secondlastweek,mean_deaths_lastweek,lastweekdf[['positiveIncrease']].values)\n",
        "print(\"|T| = \",T)\n",
        "T_alphaby2 = 2.447 # since n-1 = 6 and alpha is 0.05\n",
        "if(T>T_alphaby2):\n",
        "  print(\"We Reject the Null Hypothesis\")\n",
        "else:\n",
        "  print(\"We Accept the Null Hypothesis\")  "
      ],
      "execution_count": 41,
      "outputs": [
        {
          "output_type": "stream",
          "text": [
            "One sample T-test for number of Deaths:\n",
            "Null Hypothesis: The mean for second last week is same as the mean of last week for number of deaths\n",
            "|T| =  1.213348941203299\n",
            "We Accept the Null Hypothesis\n",
            "\n",
            "One sample T-test for number of Cases:\n",
            "Null Hypothesis: The mean for second last week is same as the mean of last week for number of cases\n",
            "|T| =  0.11137227914507308\n",
            "We Accept the Null Hypothesis\n"
          ],
          "name": "stdout"
        }
      ]
    },
    {
      "cell_type": "markdown",
      "metadata": {
        "id": "34GCwNDd3L1c",
        "colab_type": "text"
      },
      "source": [
        "Applicability:\n",
        "\n",
        "One sample T-test is may or may not be applicable since we do not know if the sample data is normally distributed. It would be applicable if the sample data would be normally distributed"
      ]
    },
    {
      "cell_type": "markdown",
      "metadata": {
        "id": "iL53uPJ_sCGx",
        "colab_type": "text"
      },
      "source": [
        "**Z-test**"
      ]
    },
    {
      "cell_type": "code",
      "metadata": {
        "id": "EdBS4-FfsEUx",
        "colab_type": "code",
        "outputId": "cb10f097-cd2a-4d94-a0e3-28e82f48a0d3",
        "colab": {
          "base_uri": "https://localhost:8080/",
          "height": 167
        }
      },
      "source": [
        "def Ztest(TrueMean,SampleMean,wholedistribution,n):\n",
        "  truesigma = FindSampleStdDev(wholedistribution)\n",
        "  Z = (SampleMean - TrueMean)/(truesigma/math.sqrt(n))\n",
        "  return abs(Z)\n",
        "\n",
        "print(\"Z-test for number of Deaths:\")\n",
        "print(\"Null Hypothesis: The mean for second last week is same as the mean of last week for number of deaths\")\n",
        "Z = Ztest(mean_deaths_secondlastweek,mean_deaths_lastweek,usCovidDaily[['deathIncrease']].values,len(lastweekdf))\n",
        "print(\"|Z| = \",Z)\n",
        "Z_alphaby2 = 1.96 # since alpha is 0.05\n",
        "if(Z>Z_alphaby2):\n",
        "  print(\"We Reject the Null Hypothesis\")\n",
        "else:\n",
        "  print(\"We Accept the Null Hypothesis\")  \n",
        "\n",
        "print(\"\")\n",
        "print(\"Z-test for number of Cases:\")\n",
        "print(\"Null Hypothesis: The mean for second last week is same as the mean of last week for number of cases\")\n",
        "Z = Ztest(mean_deaths_secondlastweek,mean_deaths_lastweek,usCovidDaily[['positiveIncrease']].values,len(lastweekdf))\n",
        "print(\"|Z| = \",Z)\n",
        "Z_alphaby2 = 1.96 # since alpha is 0.05\n",
        "if(Z>Z_alphaby2):\n",
        "  print(\"We Reject the Null Hypothesis\")\n",
        "else:\n",
        "  print(\"We Accept the Null Hypothesis\")  \n"
      ],
      "execution_count": 42,
      "outputs": [
        {
          "output_type": "stream",
          "text": [
            "Z-test for number of Deaths:\n",
            "Null Hypothesis: The mean for second last week is same as the mean of last week for number of deaths\n",
            "|Z| =  0.6081520507116286\n",
            "We Accept the Null Hypothesis\n",
            "\n",
            "Z-test for number of Cases:\n",
            "Null Hypothesis: The mean for second last week is same as the mean of last week for number of cases\n",
            "|Z| =  0.03915746001885016\n",
            "We Accept the Null Hypothesis\n"
          ],
          "name": "stdout"
        }
      ]
    },
    {
      "cell_type": "markdown",
      "metadata": {
        "id": "zRaiGkaK4dte",
        "colab_type": "text"
      },
      "source": [
        "Applicability:\n",
        "\n",
        "Z-test may or may not be applicable since we don't know if the sample data is normally distributed. Also the number of samples is not very large (infinity). It would be applicable if the sample data were normally distributed"
      ]
    },
    {
      "cell_type": "markdown",
      "metadata": {
        "id": "-4DxOde3x0fD",
        "colab_type": "text"
      },
      "source": [
        "**Two Sample Walds Test**"
      ]
    },
    {
      "cell_type": "code",
      "metadata": {
        "id": "UuDGSArdx2zD",
        "colab_type": "code",
        "outputId": "c8b14a21-c5c8-46fe-a631-8f2a0e71cca6",
        "colab": {
          "base_uri": "https://localhost:8080/",
          "height": 167
        }
      },
      "source": [
        "def TwoSampleWalds(Mean_1,Mean_2,n):\n",
        "  #MLE Estimator is the sample mean for poisson distribution\n",
        "  se_hat = math.sqrt( (Mean_1/n) + (Mean_2/n) ) #estimator for std error\n",
        "  w = (Mean_1-Mean_2)/se_hat #formula for two sample walds\n",
        "  #print(Estimator-TrueMean)\n",
        "  return abs(w)\n",
        "\n",
        "print(\"Two sample walds test for number of Deaths:\")\n",
        "print(\"Null Hypothesis: The mean for second last week is same as the mean of last week for number of deaths\")\n",
        "W = TwoSampleWalds(mean_deaths_secondlastweek,mean_deaths_lastweek,len(lastweekdf))\n",
        "print(\"|W| = \",W)\n",
        "z_alphaby2 = 1.96 # since alpha is 0.05 # critical value\n",
        "if(W>z_alphaby2): #condition to reject\n",
        "  print(\"We Reject the Null Hypothesis\")\n",
        "else:\n",
        "  print(\"We Accept the Null Hypothesis\")  \n",
        "\n",
        "print(\"\")\n",
        "print(\"Two sample walds test for number of Cases:\")\n",
        "print(\"Null Hypothesis: The mean for second last week is same as the mean of last week for number of cases\")\n",
        "W = TwoSampleWalds(mean_cases_secondlastweek,mean_cases_lastweek,len(lastweekdf))\n",
        "print(\"|W| = \",W)\n",
        "z_alphaby2 = 1.96 # since alpha is 0.05\n",
        "if(W>z_alphaby2): #condition to reject\n",
        "  print(\"We Reject the Null Hypothesis\")\n",
        "else:\n",
        "  print(\"We Accept the Null Hypothesis\")  "
      ],
      "execution_count": 43,
      "outputs": [
        {
          "output_type": "stream",
          "text": [
            "Two sample walds test for number of Deaths:\n",
            "Null Hypothesis: The mean for second last week is same as the mean of last week for number of deaths\n",
            "|W| =  8.363821241961688\n",
            "We Reject the Null Hypothesis\n",
            "\n",
            "Two sample walds test for number of Cases:\n",
            "Null Hypothesis: The mean for second last week is same as the mean of last week for number of cases\n",
            "|W| =  5.744548642464007\n",
            "We Reject the Null Hypothesis\n"
          ],
          "name": "stdout"
        }
      ]
    },
    {
      "cell_type": "markdown",
      "metadata": {
        "id": "qAZQ-VlV5z9T",
        "colab_type": "text"
      },
      "source": [
        "Applicability:\n",
        "\n",
        "Two sample Wald's test is not applicable here since MLE is an asymptotically normal estimator if n (number of samples) is large, which is not the case here (n<30)."
      ]
    },
    {
      "cell_type": "markdown",
      "metadata": {
        "id": "RGNUHk6E0elS",
        "colab_type": "text"
      },
      "source": [
        "**Two sample paired t-test**"
      ]
    },
    {
      "cell_type": "code",
      "metadata": {
        "id": "1nZGh03i0hkU",
        "colab_type": "code",
        "outputId": "ecdb1956-308d-4bb4-f435-838336868cee",
        "colab": {
          "base_uri": "https://localhost:8080/",
          "height": 167
        }
      },
      "source": [
        "def TwoSamplePairedTtest(Xarr,Yarr):\n",
        "  samplemeanx = Xarr.mean() #sample mean for X\n",
        "  samplemeany = Yarr.mean() #sample mean for Y\n",
        "  D = Xarr - Yarr # D = X-Y distribution\n",
        "  samplestddev = FindSampleStdDev(D) #Std dev of D\n",
        "  n = len(Xarr) \n",
        "  T = (samplemeanx - samplemeany)/(samplestddev/math.sqrt(n)) #formula for t-test\n",
        "  return abs(T)\n",
        "\n",
        "print(\"Two sample paired t-test for number of Deaths:\")\n",
        "print(\"Null Hypothesis: The mean for second last week is same as the mean of last week for number of deaths\")\n",
        "T = TwoSamplePairedTtest(secondlastweekdf[['deathIncrease']].values,lastweekdf[['deathIncrease']].values)\n",
        "print(\"|T| = \",T)\n",
        "T_alphaby2 = 2.447 # since n-1 = 6 and alpha is 0.05\n",
        "if(T>T_alphaby2): #condition to reject\n",
        "  print(\"We Reject the Null Hypothesis\")\n",
        "else:\n",
        "  print(\"We Accept the Null Hypothesis\")  \n",
        "\n",
        "print(\"\")\n",
        "print(\"Two sample paired t-test for number of Cases:\")\n",
        "print(\"Null Hypothesis: The mean for second last week is same as the mean of last week for number of cases\")\n",
        "T = TwoSamplePairedTtest(secondlastweekdf[['positiveIncrease']].values,lastweekdf[['positiveIncrease']].values)\n",
        "print(\"|T| = \",T)\n",
        "T_alphaby2 = 2.447 # since n-1 = 6 and alpha is 0.05\n",
        "if(T>T_alphaby2):\n",
        "  print(\"We Reject the Null Hypothesis\")\n",
        "else:\n",
        "  print(\"We Accept the Null Hypothesis\")  "
      ],
      "execution_count": 44,
      "outputs": [
        {
          "output_type": "stream",
          "text": [
            "Two sample paired t-test for number of Deaths:\n",
            "Null Hypothesis: The mean for second last week is same as the mean of last week for number of deaths\n",
            "|T| =  1.5489744117536948\n",
            "We Accept the Null Hypothesis\n",
            "\n",
            "Two sample paired t-test for number of Cases:\n",
            "Null Hypothesis: The mean for second last week is same as the mean of last week for number of cases\n",
            "|T| =  0.38403186060996586\n",
            "We Accept the Null Hypothesis\n"
          ],
          "name": "stdout"
        }
      ]
    },
    {
      "cell_type": "markdown",
      "metadata": {
        "id": "reucjF4O667t",
        "colab_type": "text"
      },
      "source": [
        "Applicability:\n",
        "\n",
        "We know that both samples have same sample size. But we do not know if D = X - Y is normally distributed.\n",
        "\n",
        "Hence, Two sample paired T-test may or may not be applicable"
      ]
    },
    {
      "cell_type": "markdown",
      "metadata": {
        "id": "wb--o8JC5u8n",
        "colab_type": "text"
      },
      "source": [
        "**Two sample unpaired t-test**"
      ]
    },
    {
      "cell_type": "code",
      "metadata": {
        "id": "BjWeIZb55uaK",
        "colab_type": "code",
        "outputId": "83a285ac-f9b5-441b-9dc7-bf72df64632a",
        "colab": {
          "base_uri": "https://localhost:8080/",
          "height": 167
        }
      },
      "source": [
        "def TwoSampleUnPairedTtest(Xarr,Yarr):\n",
        "  samplemeanx = Xarr.mean() #sample mean for X\n",
        "  samplemeany = Yarr.mean() #sample mean for Y\n",
        "  D = Xarr - Yarr # D = X-Y distribution\n",
        "  samplestddev_x = FindSampleStdDev(Xarr)  #Std dev of X\n",
        "  samplestddev_y = FindSampleStdDev(Yarr)  #Std dev of Y\n",
        "  n = len(Xarr) #no. of samples in X\n",
        "  m = len(Yarr) #no. of samples in Y\n",
        "  denominator = (samplestddev_x*samplestddev_x/n) + (samplestddev_y*samplestddev_y/m)\n",
        "  T = (samplemeanx - samplemeany)/math.sqrt(denominator) #formula for unpaired t-test\n",
        "  return abs(T)\n",
        "\n",
        "print(\"Two sample unpaired t-test for number of Deaths:\")\n",
        "print(\"Null Hypothesis: The mean for second last week is same as the mean of last week for number of deaths\")\n",
        "T = TwoSampleUnPairedTtest(secondlastweekdf[['deathIncrease']].values,lastweekdf[['deathIncrease']].values)\n",
        "print(\"|T| = \",T)\n",
        "T_alphaby2 = 2.179 # since n+m-2 = 12 and alpha is 0.05\n",
        "if(T>T_alphaby2):\n",
        "  print(\"We Reject the Null Hypothesis\")\n",
        "else:\n",
        "  print(\"We Accept the Null Hypothesis\")  \n",
        "\n",
        "print(\"\")\n",
        "print(\"Two sample unpaired t-test for number of Cases:\")\n",
        "print(\"Null Hypothesis: The mean for second last week is same as the mean of last week for number of cases\")\n",
        "T = TwoSampleUnPairedTtest(secondlastweekdf[['positiveIncrease']].values,lastweekdf[['positiveIncrease']].values)\n",
        "print(\"|T| = \",T)\n",
        "T_alphaby2 = 2.179 # since n+m-2 = 12 and alpha is 0.05\n",
        "if(T>T_alphaby2):\n",
        "  print(\"We Reject the Null Hypothesis\")\n",
        "else:\n",
        "  print(\"We Accept the Null Hypothesis\")  "
      ],
      "execution_count": 45,
      "outputs": [
        {
          "output_type": "stream",
          "text": [
            "Two sample unpaired t-test for number of Deaths:\n",
            "Null Hypothesis: The mean for second last week is same as the mean of last week for number of deaths\n",
            "|T| =  0.9968516573485795\n",
            "We Accept the Null Hypothesis\n",
            "\n",
            "Two sample unpaired t-test for number of Cases:\n",
            "Null Hypothesis: The mean for second last week is same as the mean of last week for number of cases\n",
            "|T| =  0.260095928754951\n",
            "We Accept the Null Hypothesis\n"
          ],
          "name": "stdout"
        }
      ]
    },
    {
      "cell_type": "markdown",
      "metadata": {
        "id": "M_Vq3tSN73Pd",
        "colab_type": "text"
      },
      "source": [
        "Applicability:\n",
        "\n",
        "Two sample unpaired T-test is not applicable since the two samples are not independent. We also do not know if the samples are normally distributed."
      ]
    },
    {
      "cell_type": "markdown",
      "metadata": {
        "id": "ia2e0xO1HJCt",
        "colab_type": "text"
      },
      "source": [
        "## **3.3 Equality of distributions**"
      ]
    },
    {
      "cell_type": "markdown",
      "metadata": {
        "id": "J5dQjAIzHxA7",
        "colab_type": "text"
      },
      "source": [
        "**2 Sample K-S Test**"
      ]
    },
    {
      "cell_type": "code",
      "metadata": {
        "id": "rJT9g8pPHodu",
        "colab_type": "code",
        "outputId": "c6bfa148-3c80-492c-adea-78cfdfe125a8",
        "colab": {
          "base_uri": "https://localhost:8080/",
          "height": 167
        }
      },
      "source": [
        "def GetKeyInY(Ykeylist,Yvaluelist,x,y1,y2): #Map a point in one distribution to another and find local max difference\n",
        "    if(x<Ykeylist[0]): #second distribution has cdf zero at this point\n",
        "        return max(y1,y2),0\n",
        "    i=0\n",
        "    #print(i,len(Ykeylist))\n",
        "    while((i<len(Ykeylist)) and Ykeylist[i]<=x): #iterate till we reach a point just greater in second distribution\n",
        "        i = i+1\n",
        "    if(i>=len(Ykeylist)): #second distribution has cdf 1 at this point\n",
        "      return max(abs(Yvaluelist[i-1]-y1),abs(Yvaluelist[i-1]-y2)),Ykeylist[len(Ykeylist)-1]\n",
        "    diff1= abs(Yvaluelist[i-1]-y1)  #diff between left of point and ecdf\n",
        "    diff2= abs(Yvaluelist[i-1]-y2)  #diff between right of point and ecdf\n",
        "    #print(diff1,\",\",diff2)\n",
        "    if(diff1>diff2):\n",
        "        return diff1,i-1\n",
        "    else:\n",
        "        return diff2,i-1\n",
        "\n",
        "def GetMaxDif(Xkeylist,Xvaluelist,Ykeylist,Yvaluelist): #Calculates maximum difference between the two estimators\n",
        "    maxdiff=0\n",
        "    for i in range(0,len(Xkeylist)): #iterate through one of the distributions\n",
        "        x = Xkeylist[i] # x in first distro\n",
        "        y1 = Xvaluelist[i] # y to right of current element in first distro\n",
        "        if(i>0):\n",
        "          y2 = Xvaluelist[i-1] # y to left of current element for first distro\n",
        "        else:\n",
        "          y2=0\n",
        "        diff,index = GetKeyInY(Ykeylist,Yvaluelist,x,y1,y2) #Get local maximum difference for this point (left and right)\n",
        "        #print(\"i:\",i,\",\",x,\",\",diff,\",\",Ykeylist[index])\n",
        "        if(diff>maxdiff): #Check for global maximum difference and store\n",
        "            maxdiff = max(maxdiff,diff)\n",
        "    return maxdiff\n",
        "\n",
        "def GetProb(X):     #calculates the cdf for points\n",
        "    X = list(map(float, X))\n",
        "    X.sort()\n",
        "    numele = len(X)\n",
        "    prob = {}\n",
        "    start = 0\n",
        "    for i in X:\n",
        "        start = start + 1/numele #keep adding probability to calculate cdf\n",
        "        if i in prob.keys():\n",
        "            count = prob[i]\n",
        "            count = count + 1/numele\n",
        "            prob[i] = count\n",
        "        else:\n",
        "            prob[i] = start\n",
        "    keylist = list(prob.keys())\n",
        "    valuelist = list(prob.values())\n",
        "    return keylist,valuelist #2 arrays, one for elements and second for their cdf respectively\n",
        "\n",
        "def TwoSampleKS(X,Y):\n",
        "\n",
        "    Xkeylist,Xvaluelist = GetProb(X) #cdf for points\n",
        "    Ykeylist,Yvaluelist = GetProb(Y) #cdf for points\n",
        "    diff = GetMaxDif(Xkeylist,Xvaluelist,Ykeylist,Yvaluelist) #get max difference \n",
        "    return round(diff,4)\n",
        "\n",
        "print(\"Two sample K-S test for number of Deaths:\")\n",
        "print(\"Null Hypothesis: The distribution for second last week is same as the distribution of last week for number of deaths\")\n",
        "D = TwoSampleKS(secondlastweekdf[['deathIncrease']].values,lastweekdf[['deathIncrease']].values)\n",
        "print(\"Max Difference = \",D)\n",
        "criticalval = 0.05\n",
        "if(D>criticalval):\n",
        "  print(\"We Reject the Null Hypothesis\")\n",
        "else:\n",
        "  print(\"We Accept the Null Hypothesis\")  \n",
        "\n",
        "print(\"\")\n",
        "print(\"Two sample K-S test for number of Cases:\")\n",
        "print(\"Null Hypothesis: The distribution for second last week is same as the distribution of last week for number of cases\")\n",
        "D = TwoSampleKS(secondlastweekdf[['positiveIncrease']].values,lastweekdf[['positiveIncrease']].values)\n",
        "print(\"Max Difference = \",D)\n",
        "criticalval = 0.05\n",
        "if(D>criticalval):\n",
        "  print(\"We Reject the Null Hypothesis\")\n",
        "else:\n",
        "  print(\"We Accept the Null Hypothesis\")  \n"
      ],
      "execution_count": 46,
      "outputs": [
        {
          "output_type": "stream",
          "text": [
            "Two sample K-S test for number of Deaths:\n",
            "Null Hypothesis: The distribution for second last week is same as the distribution of last week for number of deaths\n",
            "Max Difference =  0.4286\n",
            "We Reject the Null Hypothesis\n",
            "\n",
            "Two sample K-S test for number of Cases:\n",
            "Null Hypothesis: The distribution for second last week is same as the distribution of last week for number of cases\n",
            "Max Difference =  0.2857\n",
            "We Reject the Null Hypothesis\n"
          ],
          "name": "stdout"
        }
      ]
    },
    {
      "cell_type": "markdown",
      "metadata": {
        "id": "-I0UHO_XDKiZ",
        "colab_type": "text"
      },
      "source": [
        "Applicability:\n",
        "\n",
        "K-S test is applicable here since it has no assumptions"
      ]
    },
    {
      "cell_type": "markdown",
      "metadata": {
        "id": "BZuBuRjZZwrl",
        "colab_type": "text"
      },
      "source": [
        "**Permutation Test**"
      ]
    },
    {
      "cell_type": "code",
      "metadata": {
        "id": "iBqoolqUZ1HD",
        "colab_type": "code",
        "outputId": "5ed588c3-77fe-4529-8909-f0ef9adc17cd",
        "colab": {
          "base_uri": "https://localhost:8080/",
          "height": 167
        }
      },
      "source": [
        "def FindMean(arr): #Find mean of a list\n",
        "    n = len(arr)\n",
        "    sum=0\n",
        "    for i in arr:\n",
        "        sum = sum+float(i)\n",
        "    mean = sum/n\n",
        "    return mean\n",
        "\n",
        "def PermutationTest(X,Y,noofpermutations=None):\n",
        "    if(noofpermutations==None):\n",
        "      noofpermutations = 900000 #Number of permutations kept high since 14! causes overflow\n",
        "    lenx = len(X) # no. of samples in X\n",
        "    leny= len(Y)  # no. of samples in Y\n",
        "    mergedlist = X + Y  \n",
        "    meanx = statistics.mean(X) #mean of X\n",
        "    meany = statistics.mean(Y)  #mean of Y\n",
        "    T_obs = abs(meanx-meany)  #T_obs\n",
        "    count=0\n",
        "    for i in range(noofpermutations):\n",
        "        random.shuffle(mergedlist)         \n",
        "        x_i = mergedlist[:lenx] #permuted X\n",
        "        y_i = mergedlist[lenx:] #permuted Y\n",
        "        mean_x = FindMean(x_i)  \n",
        "        mean_y = FindMean(y_i)\n",
        "        T_i = abs(mean_x-mean_y) #T_i\n",
        "        if(T_i>T_obs):\n",
        "            count = count+1\n",
        "    p_value = count/noofpermutations  #p-value\n",
        "    return p_value\n",
        "\n",
        "print(\"Permutation test for number of Deaths:\")\n",
        "print(\"Null Hypothesis: The distribution for second last week is same as the distribution of last week for number of deaths\")\n",
        "pvalue = PermutationTest(secondlastweekdf['deathIncrease'].tolist(),lastweekdf['deathIncrease'].tolist())\n",
        "print(\"p-value = \",pvalue)\n",
        "criticalval = 0.05 #critical value\n",
        "if(pvalue<=criticalval):\n",
        "  print(\"We Reject the Null Hypothesis\")\n",
        "else:\n",
        "  print(\"We Accept the Null Hypothesis\")  \n",
        "\n",
        "print(\"\")\n",
        "print(\"Permutation test for number of Cases:\")\n",
        "print(\"Null Hypothesis: The distribution for second last week is same as the distribution of last week for number of cases\")\n",
        "pvalue = PermutationTest(secondlastweekdf['positiveIncrease'].tolist(),lastweekdf['positiveIncrease'].tolist())\n",
        "print(\"p-value = \",pvalue)\n",
        "criticalval = 0.05 #critical value\n",
        "if(pvalue<=criticalval):\n",
        "  print(\"We Reject the Null Hypothesis\")\n",
        "else:\n",
        "  print(\"We Accept the Null Hypothesis\")  "
      ],
      "execution_count": 47,
      "outputs": [
        {
          "output_type": "stream",
          "text": [
            "Permutation test for number of Deaths:\n",
            "Null Hypothesis: The distribution for second last week is same as the distribution of last week for number of deaths\n",
            "p-value =  0.37099\n",
            "We Accept the Null Hypothesis\n",
            "\n",
            "Permutation test for number of Cases:\n",
            "Null Hypothesis: The distribution for second last week is same as the distribution of last week for number of cases\n",
            "p-value =  0.8298722222222222\n",
            "We Accept the Null Hypothesis\n"
          ],
          "name": "stdout"
        }
      ]
    },
    {
      "cell_type": "markdown",
      "metadata": {
        "id": "xGT_tUusD-TF",
        "colab_type": "text"
      },
      "source": [
        "Applicability:\n",
        "\n",
        "Permutation test is applicable here since it has no assumptions"
      ]
    },
    {
      "cell_type": "markdown",
      "metadata": {
        "id": "pJCT4xXmeW1R",
        "colab_type": "text"
      },
      "source": [
        "**1 Sample K-S Test for Poisson distribution**"
      ]
    },
    {
      "cell_type": "code",
      "metadata": {
        "id": "xX0pQ4D9eWTO",
        "colab_type": "code",
        "outputId": "ddb33fe8-834e-4335-9ab3-f227ea2af318",
        "colab": {
          "base_uri": "https://localhost:8080/",
          "height": 201
        }
      },
      "source": [
        "def GetMME_Poisson(Xarr):\n",
        "  # mme for lambda is sample mean\n",
        "  lambdahat = FindMean(Xarr) #sample mean\n",
        "  print(\"lambda:\",lambdahat)\n",
        "  Yarr = []  #Corresponding CDF for the distribution\n",
        "  for i in range(0,len(Xarr)):\n",
        "    cdfx = poisson.cdf(Xarr[i], lambdahat)\n",
        "    Yarr.append(cdfx)\n",
        "  return Yarr\n",
        "\n",
        "def OneSampleKS(X,Y,Y_prob):\n",
        "    Xkeylist,Xvaluelist = GetProb(X) #Get cdf for data points in X\n",
        "    Ykeylist = Y \n",
        "    Yvaluelist = Y_prob \n",
        "    diff = GetMaxDif(Xkeylist,Xvaluelist,Ykeylist,Yvaluelist) #get max difference\n",
        "    return round(diff,4)\n",
        "\n",
        "print(\"1 Sample K-S test for number of Deaths:\")\n",
        "print(\"Null Hypothesis: The distribution for second last week is poisson which is same as the distribution of last week for number of deaths\")\n",
        "secondlastweekmme_poisson = GetMME_Poisson(secondlastweekdf['deathIncrease'].tolist())\n",
        "D = OneSampleKS(lastweekdf[['deathIncrease']].values,secondlastweekdf[['deathIncrease']].values,secondlastweekmme_poisson)\n",
        "print(\"Max Difference = \",D)\n",
        "criticalval = 0.05\n",
        "if(D>criticalval):\n",
        "  print(\"We Reject the Null Hypothesis\")\n",
        "else:\n",
        "  print(\"We Accept the Null Hypothesis\")  \n",
        "\n",
        "print(\"\")\n",
        "print(\"1 Sample K-S test for number of Cases:\")\n",
        "print(\"Null Hypothesis: The distribution for second last week is poisson which same as the distribution of last week for number of cases\")\n",
        "secondlastweekmme_poisson = GetMME_Poisson(secondlastweekdf['positiveIncrease'].tolist()) #get distribution using MME estimator\n",
        "D = OneSampleKS(lastweekdf[['positiveIncrease']].values,secondlastweekdf[['positiveIncrease']].values,secondlastweekmme_poisson)\n",
        "print(\"Max Difference = \",D)\n",
        "criticalval = 0.05\n",
        "if(D>criticalval):\n",
        "  print(\"We Reject the Null Hypothesis\")\n",
        "else:\n",
        "  print(\"We Accept the Null Hypothesis\")  "
      ],
      "execution_count": 48,
      "outputs": [
        {
          "output_type": "stream",
          "text": [
            "1 Sample K-S test for number of Deaths:\n",
            "Null Hypothesis: The distribution for second last week is poisson which is same as the distribution of last week for number of deaths\n",
            "lambda: 1909.5714285714287\n",
            "Max Difference =  1.0\n",
            "We Reject the Null Hypothesis\n",
            "\n",
            "1 Sample K-S test for number of Cases:\n",
            "Null Hypothesis: The distribution for second last week is poisson which same as the distribution of last week for number of cases\n",
            "lambda: 27779.428571428572\n",
            "Max Difference =  0.7143\n",
            "We Reject the Null Hypothesis\n"
          ],
          "name": "stdout"
        }
      ]
    },
    {
      "cell_type": "markdown",
      "metadata": {
        "id": "p7FoC5AvE05S",
        "colab_type": "text"
      },
      "source": [
        "Applicability:\n",
        "\n",
        "1-sided K-S test is applicable here since it has no assumptions"
      ]
    },
    {
      "cell_type": "markdown",
      "metadata": {
        "id": "Od96BgeRqLRR",
        "colab_type": "text"
      },
      "source": [
        "**1 Sample K-S Test for Geometric distribution**"
      ]
    },
    {
      "cell_type": "code",
      "metadata": {
        "id": "8At1N0ffqO2Z",
        "colab_type": "code",
        "outputId": "2971fccf-bb09-47ff-fbc0-09b218d22b4e",
        "colab": {
          "base_uri": "https://localhost:8080/",
          "height": 201
        }
      },
      "source": [
        "def GetMME_Geometric(Xarr):\n",
        "  # mme estimator for p is inverse of sample mean\n",
        "  phat = 1/FindMean(Xarr)\n",
        "  print(\"p:\",phat)\n",
        "  Yarr = [] #calculate cdf for the distribution\n",
        "  for i in range(0,len(Xarr)):\n",
        "    cdfx = geom.cdf(Xarr[i], phat)\n",
        "    Yarr.append(cdfx)\n",
        "  #print(Yarr)\n",
        "  return Yarr\n",
        "\n",
        "print(\"1 Sample K-S test for number of Deaths:\")\n",
        "print(\"Null Hypothesis: The distribution for second last week is geometric which is same as the distribution of last week for number of deaths\")\n",
        "secondlastweekmme_geometric = GetMME_Geometric(secondlastweekdf['deathIncrease'].tolist()) #get cdf distribution using MME\n",
        "D = OneSampleKS(lastweekdf[['deathIncrease']].values,secondlastweekdf[['deathIncrease']].values,secondlastweekmme_geometric)\n",
        "print(\"Max Difference = \",D)\n",
        "criticalval = 0.05 #critical value\n",
        "if(D>criticalval):\n",
        "  print(\"We Reject the Null Hypothesis\")\n",
        "else:\n",
        "  print(\"We Accept the Null Hypothesis\")  \n",
        "\n",
        "print(\"\")\n",
        "print(\"1 Sample K-S test for number of Cases:\")\n",
        "print(\"Null Hypothesis: The distribution for second last week is geometric which is same as the distribution of last week for number of cases\")\n",
        "secondlastweekmme_geometric = GetMME_Geometric(secondlastweekdf['positiveIncrease'].tolist())\n",
        "D = OneSampleKS(lastweekdf[['positiveIncrease']].values,secondlastweekdf[['positiveIncrease']].values,secondlastweekmme_geometric)\n",
        "print(\"Max Difference = \",D)\n",
        "criticalval = 0.05\n",
        "if(D>criticalval):\n",
        "  print(\"We Reject the Null Hypothesis\")\n",
        "else:\n",
        "  print(\"We Accept the Null Hypothesis\")  "
      ],
      "execution_count": 49,
      "outputs": [
        {
          "output_type": "stream",
          "text": [
            "1 Sample K-S test for number of Deaths:\n",
            "Null Hypothesis: The distribution for second last week is geometric which is same as the distribution of last week for number of deaths\n",
            "p: 0.0005236777137727238\n",
            "Max Difference =  0.5714\n",
            "We Reject the Null Hypothesis\n",
            "\n",
            "1 Sample K-S test for number of Cases:\n",
            "Null Hypothesis: The distribution for second last week is geometric which is same as the distribution of last week for number of cases\n",
            "p: 3.59978606985642e-05\n",
            "Max Difference =  0.7143\n",
            "We Reject the Null Hypothesis\n"
          ],
          "name": "stdout"
        }
      ]
    },
    {
      "cell_type": "markdown",
      "metadata": {
        "id": "xp6sfoEqzOIW",
        "colab_type": "text"
      },
      "source": [
        "**1 Sample K-S Test for Binomial distribution**"
      ]
    },
    {
      "cell_type": "code",
      "metadata": {
        "id": "C04i6DMizQHq",
        "colab_type": "code",
        "outputId": "b742ee70-a95d-43b4-b501-82bb2c921c53",
        "colab": {
          "base_uri": "https://localhost:8080/",
          "height": 234
        }
      },
      "source": [
        "def GetMME_Binomial(Xarr):\n",
        "  samplemean = FindMean(Xarr) #sample mean\n",
        "  n=len(Xarr)\n",
        "  sum = 0\n",
        "  for i in range(0,n):\n",
        "    sum = sum + ((Xarr[i]-samplemean)**2)\n",
        "  variance = sum/n\n",
        "  n_hat = (samplemean**2)/(samplemean-variance) #mme for n\n",
        "  print(\"n:\",n_hat)\n",
        "  p_hat = samplemean/n_hat #mme for p\n",
        "  print(\"p:\",p_hat)\n",
        "  Yarr = [] #calculate cdf for the sample\n",
        "  for i in range(0,len(Xarr)):\n",
        "    cdfx = prob = binom.cdf(Xarr[i], n_hat, p_hat)\n",
        "    Yarr.append(cdfx)\n",
        "  #print(Yarr)\n",
        "  return Yarr  \n",
        "\n",
        "print(\"1 Sample K-S test for number of Deaths:\")\n",
        "print(\"Null Hypothesis: The distribution for second last week is binomial which is same as the distribution of last week for number of deaths\")\n",
        "secondlastweekmme_binomial = GetMME_Binomial(secondlastweekdf['deathIncrease'].tolist())\n",
        "D = OneSampleKS(lastweekdf[['deathIncrease']].values,secondlastweekdf[['deathIncrease']].values,secondlastweekmme_binomial)\n",
        "print(\"Max Difference = \",D)\n",
        "criticalval = 0.05\n",
        "if(D>criticalval):\n",
        "  print(\"We Reject the Null Hypothesis\")\n",
        "else:\n",
        "  print(\"We Accept the Null Hypothesis\")  \n",
        "\n",
        "print(\"\")\n",
        "print(\"1 Sample K-S test for number of Cases:\")\n",
        "print(\"Null Hypothesis: The distribution for second last week is binomial which is same as the distribution of last week for number of cases\")\n",
        "secondlastweekmme_binomial = GetMME_Binomial(secondlastweekdf['positiveIncrease'].tolist())\n",
        "D = OneSampleKS(lastweekdf[['positiveIncrease']].values,secondlastweekdf[['positiveIncrease']].values,secondlastweekmme_binomial)\n",
        "print(\"Max Difference = \",D)\n",
        "criticalval = 0.05\n",
        "if(D>criticalval):\n",
        "  print(\"We Reject the Null Hypothesis\")\n",
        "else:\n",
        "  print(\"We Accept the Null Hypothesis\")  "
      ],
      "execution_count": 50,
      "outputs": [
        {
          "output_type": "stream",
          "text": [
            "1 Sample K-S test for number of Deaths:\n",
            "Null Hypothesis: The distribution for second last week is binomial which is same as the distribution of last week for number of deaths\n",
            "n: -44.9534692277637\n",
            "p: -42.478844489093596\n",
            "Max Difference =  0.5714\n",
            "We Reject the Null Hypothesis\n",
            "\n",
            "1 Sample K-S test for number of Cases:\n",
            "Null Hypothesis: The distribution for second last week is binomial which is same as the distribution of last week for number of cases\n",
            "n: -121.32284988066395\n",
            "p: -228.97111796131628\n",
            "Max Difference =  0.7143\n",
            "We Reject the Null Hypothesis\n"
          ],
          "name": "stdout"
        }
      ]
    },
    {
      "cell_type": "markdown",
      "metadata": {
        "id": "WTQdUQJVFykV",
        "colab_type": "text"
      },
      "source": [
        "We are getting negative values of estimators for n and p in this case using MME. Hence, it does not make sene to calculate CDF using these values for the binomial distribution."
      ]
    },
    {
      "cell_type": "markdown",
      "metadata": {
        "id": "m3JlE1zviV9y",
        "colab_type": "text"
      },
      "source": [
        "## **3.4 Required Inferences - Pearson Correlation**"
      ]
    },
    {
      "cell_type": "code",
      "metadata": {
        "id": "x3CqQwBn0z3L",
        "colab_type": "code",
        "colab": {}
      },
      "source": [
        "def average(x):\n",
        "    assert len(x) > 0\n",
        "    return float(sum(x)) / len(x)\n",
        "\n",
        "def pearson_def(x, y): #calculate the pearson correlation\n",
        "    assert len(x) == len(y)\n",
        "    n = len(x)\n",
        "    assert n > 0\n",
        "    avg_x = average(x) #mean of x\n",
        "    avg_y = average(y)  #mean of y\n",
        "    diffprod = 0\n",
        "    xdiff2 = 0\n",
        "    ydiff2 = 0\n",
        "    for idx in range(n):\n",
        "        xdiff = x[idx] - avg_x\n",
        "        ydiff = y[idx] - avg_y\n",
        "        diffprod += xdiff * ydiff\n",
        "        xdiff2 += xdiff * xdiff\n",
        "        ydiff2 += ydiff * ydiff\n",
        "    return diffprod / math.sqrt(xdiff2 * ydiff2)"
      ],
      "execution_count": 0,
      "outputs": []
    },
    {
      "cell_type": "code",
      "metadata": {
        "id": "CGPQIEiAlDdn",
        "colab_type": "code",
        "colab": {}
      },
      "source": [
        "setOfCovidFeatures = ['positiveIncrease', 'deathIncrease']\n",
        "setOfXFeatures = [ 'Close']\n",
        "\n",
        "def pearsonHelper(df):\n",
        "  for covidFeature in setOfCovidFeatures:\n",
        "    for xFeature in setOfXFeatures:\n",
        "        corr = pearson_def(df[covidFeature], df[xFeature])\n",
        "        if corr < -0.5: #Threshold for good negative correlation\n",
        "          print(\"Correlation :: \" + covidFeature + \" v/s \" + xFeature + \" = \" + str(corr) + \" || Negative Linear Correlation!\")\n",
        "        elif corr > 0.5:  #Threshold for good positive correlation\n",
        "          print(\"Correlation :: \" + covidFeature + \" v/s \" + xFeature + \" = \" + str(corr) + \" || Positive Linear Correlation!\")\n",
        "        else: #no correlation\n",
        "          print(\"Correlation :: \" + covidFeature + \" v/s \" + xFeature + \" = \" + str(corr) + \" || No Correlation!\")\n",
        "\n",
        "def computePearsonForGivenIndex(index): #get pearson correlation for each stock market index\n",
        "  start_date = '2020-03-31' #filter data for a month\n",
        "  end_date = '2020-05-01'\n",
        "  if index == \"dowjones\":  #dji index \n",
        "    covid_dj_onemonth_df = covid_dowjones_merged[(covid_dowjones_merged['date'] > start_date ) & (covid_dowjones_merged['date'] < end_date)].reset_index(drop=True)\n",
        "    #print(covid_dj_onemonth_df.head())\n",
        "    pearsonHelper(covid_dj_onemonth_df)\n",
        "  elif index == \"nasdaq\": #ndx\n",
        "    covid_ndx_onemonth_df = covid_nasdaq_merged[(covid_nasdaq_merged['date'] > start_date ) & (covid_nasdaq_merged['date'] < end_date)].reset_index(drop=True)\n",
        "    pearsonHelper(covid_ndx_onemonth_df)\n",
        "  else: #snp\n",
        "    covid_sp_onemonth_df = covid_snp500_merged[(covid_snp500_merged['date'] > start_date ) & (covid_snp500_merged['date'] < end_date)].reset_index(drop=True)\n",
        "    pearsonHelper(covid_sp_onemonth_df)\n",
        "\n",
        "  "
      ],
      "execution_count": 0,
      "outputs": []
    },
    {
      "cell_type": "markdown",
      "metadata": {
        "id": "P40v6aAFtCrq",
        "colab_type": "text"
      },
      "source": [
        "**Pearson Correlation Analysis for Dowjones**\n",
        "\n"
      ]
    },
    {
      "cell_type": "code",
      "metadata": {
        "id": "Eqxi9celoRTv",
        "colab_type": "code",
        "outputId": "2b366810-2a1f-4d4e-af9b-e22912267620",
        "colab": {
          "base_uri": "https://localhost:8080/",
          "height": 50
        }
      },
      "source": [
        "computePearsonForGivenIndex(\"dowjones\") "
      ],
      "execution_count": 53,
      "outputs": [
        {
          "output_type": "stream",
          "text": [
            "Correlation :: positiveIncrease v/s Close = 0.00976053251788004 || No Correlation!\n",
            "Correlation :: deathIncrease v/s Close = 0.07876932312430697 || No Correlation!\n"
          ],
          "name": "stdout"
        }
      ]
    },
    {
      "cell_type": "markdown",
      "metadata": {
        "id": "tJ-h6nZx1ezr",
        "colab_type": "text"
      },
      "source": [
        "Findings:\n",
        "\n",
        "First let us put some meaning to all the corresponding column names here - \n",
        "\n",
        "Covid Data Set - \n",
        "1. deathIncrease :- Daily number of deaths\n",
        "2. positiveIncrease:- Daily positive cases\n",
        "\n",
        "X Data Set (Stock Market Prices)- \n",
        "1. Close :- Close value of the Given Index\n",
        "\n",
        "From the above correlation statistics\n",
        "\n",
        "-- There seems to be no correlation between #deaths and Close Price of X (DowJones Index) or #cases and Close Price of X (DowJones Index) "
      ]
    },
    {
      "cell_type": "markdown",
      "metadata": {
        "id": "A8D5H7CHtQ4J",
        "colab_type": "text"
      },
      "source": [
        " **Pearson Correlation for Nasdaq**\n",
        "\n"
      ]
    },
    {
      "cell_type": "code",
      "metadata": {
        "id": "RZSx7DBbtJqr",
        "colab_type": "code",
        "outputId": "98e58178-69a7-480a-e19f-11c76605ddc2",
        "colab": {
          "base_uri": "https://localhost:8080/",
          "height": 50
        }
      },
      "source": [
        "computePearsonForGivenIndex(\"nasdaq\") "
      ],
      "execution_count": 54,
      "outputs": [
        {
          "output_type": "stream",
          "text": [
            "Correlation :: positiveIncrease v/s Close = -0.029097837544274377 || No Correlation!\n",
            "Correlation :: deathIncrease v/s Close = -0.017657238491642448 || No Correlation!\n"
          ],
          "name": "stdout"
        }
      ]
    },
    {
      "cell_type": "markdown",
      "metadata": {
        "id": "hgZ5BfH93ISB",
        "colab_type": "text"
      },
      "source": [
        "**Findings**\n",
        "\n",
        "From the above correlation statistics - \n",
        "\n",
        "-- There seems to be no correlation between #deaths and Close Price of X (Nasdaq Index) or #cases and Close Price of X (Nasdaq Index) "
      ]
    },
    {
      "cell_type": "markdown",
      "metadata": {
        "id": "Whklu7bkttUY",
        "colab_type": "text"
      },
      "source": [
        "**Pearson Correlation Analysis for SNP500**\n",
        "\n"
      ]
    },
    {
      "cell_type": "code",
      "metadata": {
        "id": "XOWiazIxtWfD",
        "colab_type": "code",
        "outputId": "f1090c73-d46b-43a2-bb72-3ba54a512498",
        "colab": {
          "base_uri": "https://localhost:8080/",
          "height": 50
        }
      },
      "source": [
        "computePearsonForGivenIndex(\"snp500\") "
      ],
      "execution_count": 55,
      "outputs": [
        {
          "output_type": "stream",
          "text": [
            "Correlation :: positiveIncrease v/s Close = 0.0077769785264223635 || No Correlation!\n",
            "Correlation :: deathIncrease v/s Close = 0.07890937891635293 || No Correlation!\n"
          ],
          "name": "stdout"
        }
      ]
    },
    {
      "cell_type": "markdown",
      "metadata": {
        "id": "eIP8Sjsj4MUJ",
        "colab_type": "text"
      },
      "source": [
        "**Findings**\n",
        "\n",
        "From the above correlation statistics - \n",
        "\n",
        "-- There seems to be no correlation between #deaths and Close Price of X (SNP500 Index) or #cases and Close Price of X (SNP500 Index) "
      ]
    },
    {
      "cell_type": "markdown",
      "metadata": {
        "id": "ZBQwsgPZBbw-",
        "colab_type": "text"
      },
      "source": [
        "## **3.5 Bayesian Inference**"
      ]
    },
    {
      "cell_type": "markdown",
      "metadata": {
        "id": "v2F5AWlBfmDZ",
        "colab_type": "text"
      },
      "source": [
        "Given: X1, X2,..Xn ~ poisson(lambda), lambda ~ exp(1/B) \n",
        "We calculated lambda_mme and equated it to the mean of exp distribution. \n",
        "Taking 1/B = L, we get L = 1/lambda_mme.\n",
        "We calculated the posterior for all 4 weeks and got the same distribution pattern for all posteriors. This pattern is Gamma distribution with:\n",
        "alpha = sum of data till now + 1  \n",
        "beta = len(data till now) + L\n",
        "\n"
      ]
    },
    {
      "cell_type": "code",
      "metadata": {
        "id": "sK29Yo8FBn48",
        "colab_type": "code",
        "outputId": "17772c85-b838-40ba-f27c-7872abd55f70",
        "colab": {
          "base_uri": "https://localhost:8080/",
          "height": 780
        }
      },
      "source": [
        "usCovidStatesDailyBay = usCovidStatesDaily.groupby(['date']).sum()\n",
        "month_data = usCovidStatesDailyBay.iloc[20:48] #Data for a month\n",
        "\n",
        "def calculate_mme_poisson(d): #mme is sample mean\n",
        "  i_sum = 0.0\n",
        "  for i in d:\n",
        "    i_sum += i\n",
        "  return i_sum/float(len(d))\n",
        "\n",
        "week1 = month_data.iloc[0:7,]\n",
        "week2 = month_data.iloc[7:14,]\n",
        "week3 = month_data.iloc[14:21,]\n",
        "week4 = month_data.iloc[21:28,]\n",
        "weekData = [list(week1['death'].values),list(week2['death'].values),list(week3['death'].values),list(week4['death'].values)]\n",
        "# calculating lambda_mme\n",
        "mme_lambda = calculate_mme_poisson(weekData[0])\n",
        "B = (1/mme_lambda)\n",
        "print(\"Initial prior:\",B)\n",
        "\n",
        "# calculating and alpha and beta\n",
        "alpha_list = []\n",
        "beta_list = []\n",
        "\n",
        "\n",
        "#initialize n and s to 0 to keep track of previous n and sum.\n",
        "n = 0\n",
        "s = 0\n",
        "for i in range(0,len(weekData)):\n",
        "  s =  s + sum(weekData[i]) \n",
        "  a = s + 1\n",
        "  n = n + len(weekData[i]) \n",
        "  b = n + B\n",
        "  alpha_list.append(a)\n",
        "  beta_list.append(b)\n",
        "\n",
        "x = np.linspace(0, 45, 100)\n",
        "fig, ax = plt.subplots(figsize=(10, 7))\n",
        "for i in range(len(alpha_list)):\n",
        "  y = gamma.pdf(x,alpha_list[i],scale = 1/beta_list[i])\n",
        "  #calculating the MAP\n",
        "  max_y = max(y)\n",
        "  max_x = x[y.argmax()]\n",
        "  plt.plot(x,gamma.pdf(x,alpha_list[i],scale = 1/beta_list[i]), label = \"Week \"+str(i+1))\n",
        "  print(\"Week\",i+1)\n",
        "  print(\"MAP value:\",max_x)\n",
        "  print(\"Posterior Distribution Alpha - \", alpha_list[i])\n",
        "  print(\"Posterior Distribution Beta - \", beta_list[i])\n",
        "  print(\"-------------------------------------------------\")\n",
        "\n",
        "plt.legend()\n",
        "plt.show()"
      ],
      "execution_count": 56,
      "outputs": [
        {
          "output_type": "stream",
          "text": [
            "Initial prior: 1.75\n",
            "Week 1\n",
            "MAP value: 0.45454545454545453\n",
            "Posterior Distribution Alpha -  5.0\n",
            "Posterior Distribution Beta -  8.75\n",
            "-------------------------------------------------\n",
            "Week 2\n",
            "MAP value: 5.0\n",
            "Posterior Distribution Alpha -  83.0\n",
            "Posterior Distribution Beta -  15.75\n",
            "-------------------------------------------------\n",
            "Week 3\n",
            "MAP value: 14.545454545454545\n",
            "Posterior Distribution Alpha -  333.0\n",
            "Posterior Distribution Beta -  22.75\n",
            "-------------------------------------------------\n",
            "Week 4\n",
            "MAP value: 36.36363636363636\n",
            "Posterior Distribution Alpha -  1080.0\n",
            "Posterior Distribution Beta -  29.75\n",
            "-------------------------------------------------\n"
          ],
          "name": "stdout"
        },
        {
          "output_type": "display_data",
          "data": {
            "image/png": "[encoded data removed]",
            "text/plain": [
              "<Figure size 720x504 with 1 Axes>"
            ]
          },
          "metadata": {
            "tags": [],
            "needs_background": "light"
          }
        }
      ]
    },
    {
      "cell_type": "markdown",
      "metadata": {
        "id": "4RGZ8325JHqc",
        "colab_type": "text"
      },
      "source": [
        "# **4. Own Inferences**\n",
        "---\n",
        "\n",
        "In this section, we implement our own inferences\n",
        "\n",
        "---"
      ]
    },
    {
      "cell_type": "markdown",
      "metadata": {
        "id": "wFopf2iXoBl0",
        "colab_type": "text"
      },
      "source": [
        "## **4.1 Checking if closing non-essential businesses on 20th March had any effect on new cases in New York**"
      ]
    },
    {
      "cell_type": "markdown",
      "metadata": {
        "id": "XiiQ5uWdKYUS",
        "colab_type": "text"
      },
      "source": [
        "In this inference, we check if the enforcement of closing non-essential businesses had any impact in New York. The reason this inference is useful, is because it helps us know whether such a costly measure to close economy is actually effective or not. Other states in the US are following New York's covid trajectory, and such an inference would help determine policies in those states.\n",
        "\n",
        "For our task, we are using paired T-test to check if the sample means of positive cases before and after enforcement of lockdown are same or different. Since the policy was passed on 20th March, and Covid patients take approximately one-two weeks to show symptoms, we have maintained a time lag to compare samples. The sample data before shutdown is taken for the time slice between 12th March to 3rd April (3 weeks), and the sample data after shutdown is taken for the time slice between 4th April and 24th April (3 weeks) respectively.\n",
        "\n",
        "We are using paired T-test since both the samples are dependent, and have same sample size. We are making an assumption that the difference sample D is normally distributed"
      ]
    },
    {
      "cell_type": "code",
      "metadata": {
        "id": "25d5q50robht",
        "colab_type": "code",
        "outputId": "5d1463d9-9023-4938-9dcb-2b241e95648d",
        "colab": {
          "base_uri": "https://localhost:8080/",
          "height": 84
        }
      },
      "source": [
        "NyStatedata = usCovidStatesDaily[usCovidStatesDaily['state']=='NY'] #filter data by state and time slices\n",
        "databeforelockdown = NyStatedata[(NyStatedata['date'] > '2020-03-12' ) & (NyStatedata['date'] < '2020-04-03')].reset_index(drop=True)\n",
        "dataafterlockdown = NyStatedata[(NyStatedata['date'] > '2020-04-02' ) & (NyStatedata['date'] < '2020-04-24')].reset_index(drop=True)\n",
        "\n",
        "print(\"Two sample paired t-test for number of Cases:\")\n",
        "print(\"Null Hypothesis: The means of positive cases before lockdown and after lockdown are same\")\n",
        "\n",
        "T = TwoSamplePairedTtest(databeforelockdown[['positiveIncrease']].values,dataafterlockdown[['positiveIncrease']].values)\n",
        "print(\"|T| = \",T)\n",
        "T_alphaby2 = 2.086 # since n-1 = 20 and alpha is 0.05\n",
        "if(T>T_alphaby2):\n",
        "  print(\"We Reject the Null Hypothesis\")\n",
        "else:\n",
        "  print(\"We Accept the Null Hypothesis\")  "
      ],
      "execution_count": 57,
      "outputs": [
        {
          "output_type": "stream",
          "text": [
            "Two sample paired t-test for number of Cases:\n",
            "Null Hypothesis: The means of positive cases before lockdown and after lockdown are same\n",
            "|T| =  3.5246392349826396\n",
            "We Reject the Null Hypothesis\n"
          ],
          "name": "stdout"
        }
      ]
    },
    {
      "cell_type": "markdown",
      "metadata": {
        "id": "YBk25xB6Mfmd",
        "colab_type": "text"
      },
      "source": [
        "The paired T-test rejects the null hypothesis. This indeed means that the means of new positive cases before and after shutdown in New York are different."
      ]
    },
    {
      "cell_type": "markdown",
      "metadata": {
        "id": "yF7aavGt0aVM",
        "colab_type": "text"
      },
      "source": [
        "## **4.2 Check if Stock Market Prices are Independent of Covid**"
      ]
    },
    {
      "cell_type": "markdown",
      "metadata": {
        "id": "q7xCaSijNiHu",
        "colab_type": "text"
      },
      "source": [
        "In this inference, we test if the stock market prices are actually dependent on Covid. Since stock market prices are dependent on various factors, it is necessary to evaluate how weighting the covid outbreak is towards driving market prices. Or if it's not dependent, it would mean that the market prices are weighed more by sentiment than by actual data.\n",
        "\n",
        "In order to analyse this, we are using the Chi-square test of independence. We are considering index prices for three markets (Nasdaq, Dow Jones, SNP500) pre and post covid outbreak. "
      ]
    },
    {
      "cell_type": "code",
      "metadata": {
        "id": "eccA7WzU-KAv",
        "colab_type": "code",
        "outputId": "2f0753de-d406-4267-aa7a-88753a843498",
        "colab": {
          "base_uri": "https://localhost:8080/",
          "height": 351
        }
      },
      "source": [
        "#Filter data for the markets pre and post covid (pre: before 1st February, post:after 1st February)\n",
        "dowjones_pre =  dowjones[(dowjones['date'] > '2019-10-31' ) & (dowjones['date'] < '2020-02-01')].reset_index(drop=True)\n",
        "dowjones_post =  dowjones[(dowjones['date'] > '2020-01-31' ) & (dowjones['date'] < '2020-05-01')].reset_index(drop=True)\n",
        "nasdaq_pre =  nasdaq[(nasdaq['date'] > '2019-10-31' ) & (nasdaq['date'] < '2020-02-01')].reset_index(drop=True)\n",
        "nasdaq_post =  nasdaq[(nasdaq['date'] > '2020-01-31' ) & (nasdaq['date'] < '2020-05-01')].reset_index(drop=True)\n",
        "snp500_pre =  snp500[(snp500['date'] > '2019-10-31' ) & (snp500['date'] < '2020-02-01')].reset_index(drop=True)\n",
        "snp500_post =  snp500[(snp500['date'] > '2020-01-31' ) & (snp500['date'] < '2020-05-01')].reset_index(drop=True)\n",
        "#Get mean index prices\n",
        "dowjones_pre_price = int(dowjones_pre['Close'].mean())\n",
        "nasdaq_pre_price = int(nasdaq_pre['Close'].mean())\n",
        "snp500_pre_price = int(snp500_pre['Close'].mean())\n",
        "dowjones_post_price = int(dowjones_post['Close'].mean())\n",
        "nasdaq_post_price = int(nasdaq_post['Close'].mean())\n",
        "snp500_post_price = int(snp500_post['Close'].mean())\n",
        "print(\"Using Chi-square test:\")\n",
        "print(\"Null hypothesis: Stock Market Prices are independent of Covid\\n\") #null hypothesis\n",
        "observedvalues = [] \n",
        "total_r1 = dowjones_pre_price+nasdaq_pre_price+snp500_pre_price \n",
        "total_r2 =dowjones_post_price+nasdaq_post_price+snp500_post_price\n",
        "pre_indexvals = [\"Pre-covid index prices\",dowjones_pre_price,nasdaq_pre_price,snp500_pre_price,total_r1]\n",
        "post_indexvals = [\"Post-covid index prices\",dowjones_post_price,nasdaq_post_price,snp500_post_price,total_r2 ]\n",
        "header = [\"\",\"Dow Jones\",\"Nasdaq\",\"Snp500\",\"Total_R\"]\n",
        "total_c = [\"Total_C\",dowjones_pre_price+dowjones_post_price,nasdaq_pre_price+nasdaq_post_price,snp500_pre_price+snp500_post_price,total_r1+total_r2]\n",
        "observedvalues=[header,pre_indexvals,post_indexvals,total_c] #store observed values in this\n",
        "#pre_indexvals.append()\n",
        "print(\"Observed Values:\")\n",
        "observeddf = pd.DataFrame(np.matrix(observedvalues))\n",
        "print(observeddf)\n",
        "\n",
        "expectedvalues = copy.deepcopy(observedvalues) #calculate expected values\n",
        "for r in range(1,3):\n",
        "  for c in range(1,4):\n",
        "    expectedvalues[r][c] = round(expectedvalues[r][4]*expectedvalues[3][c]/expectedvalues[3][4],2)\n",
        "expecteddf = pd.DataFrame(np.matrix(expectedvalues))\n",
        "\n",
        "print()\n",
        "print(\"Expected Values:\")\n",
        "print(expecteddf)\n",
        "q_obs =0  #calculate Q_OBS\n",
        "for r in range(1,4):\n",
        "  for c in range(1,3):\n",
        "    numerator = (expectedvalues[r][c]-observedvalues[r][c])**2\n",
        "    term = numerator/expectedvalues[r][c]\n",
        "    q_obs = q_obs + term\n",
        "print(\"\\nQ_Obs: \",q_obs)\n",
        "pvalue = 1 - stats.chi2.cdf(q_obs, 2) #p-value for the corresponding chi square statistic with df=(3-1)*(2-1)=2\n",
        "print(\"p-value: \",pvalue)\n",
        "alpha = 0.05\n",
        "if(pvalue<=alpha):\n",
        "  print(\"We reject null hypothesis\")\n",
        "else:\n",
        "  print(\"We accept the null hypothesis\")"
      ],
      "execution_count": 58,
      "outputs": [
        {
          "output_type": "stream",
          "text": [
            "Using Chi-square test:\n",
            "Null hypothesis: Stock Market Prices are independent of Covid\n",
            "\n",
            "Observed Values:\n",
            "                         0          1       2       3        4\n",
            "0                           Dow Jones  Nasdaq  Snp500  Total_R\n",
            "1   Pre-covid index prices      28289    8627    3187    40103\n",
            "2  Post-covid index prices      25085    8687    2940    36712\n",
            "3                  Total_C      53374   17314    6127    76815\n",
            "\n",
            "Expected Values:\n",
            "                         0          1        2        3        4\n",
            "0                           Dow Jones   Nasdaq   Snp500  Total_R\n",
            "1   Pre-covid index prices    27865.1  9039.16  3198.74    40103\n",
            "2  Post-covid index prices    25508.9  8274.84  2928.26    36712\n",
            "3                  Total_C      53374    17314     6127    76815\n",
            "\n",
            "Q_Obs:  52.8153940238725\n",
            "p-value:  3.3985037006800667e-12\n",
            "We reject null hypothesis\n"
          ],
          "name": "stdout"
        }
      ]
    },
    {
      "cell_type": "markdown",
      "metadata": {
        "id": "0t-NUU1bPpQi",
        "colab_type": "text"
      },
      "source": [
        "From the Chi-square test of independence, we can infer than the distributions of stock market prices and Covid-19 are independent. \n",
        "\n",
        "We can thus say that the market volatility is presumably because of sentiment rather than figures (Covid positive cases/deaths)"
      ]
    },
    {
      "cell_type": "markdown",
      "metadata": {
        "id": "Rk8jaKm1MHSM",
        "colab_type": "text"
      },
      "source": [
        "##**4.3 Check if distributions of hospitalizations and positive cases are same for two worst affected states (NY and NJ)**"
      ]
    },
    {
      "cell_type": "markdown",
      "metadata": {
        "id": "rhdu0vQqQSf5",
        "colab_type": "text"
      },
      "source": [
        "With this inference, we are testing if the distributions of positive cases and hospitalizations were same for the two worst affected states in US: New York and New Jersey.\n",
        "\n",
        "Both the states had different proactive measures implemented towards dealing with the outbreak. By analysing and comparing the distributions, we can evaluate if the containment policies actually have any effect on growth of positive cases or hospitalizations.\n",
        "\n",
        "In this inference, we are using two sample K-S test to check equivalence of distributions for both number of daily hospitalizations and deaths."
      ]
    },
    {
      "cell_type": "code",
      "metadata": {
        "id": "-VBwWEHXITx_",
        "colab_type": "code",
        "outputId": "ce5868d9-790c-4db4-aa33-8a4f11dc4aa2",
        "colab": {
          "base_uri": "https://localhost:8080/",
          "height": 167
        }
      },
      "source": [
        "NyStatedata = usCovidStatesDaily[usCovidStatesDaily['state']=='NY']\n",
        "NJStatedata = usCovidStatesDaily[usCovidStatesDaily['state']=='NJ']\n",
        "\n",
        "print(\"Two sample K-S test for number of hospitalizations for NY and NJ:\")\n",
        "print(\"Null Hypothesis: The distributions for hospitalizations is same in NY and NJ\")\n",
        "D = TwoSampleKS(NyStatedata[['hospitalizedCurrently']].values,NJStatedata[['hospitalizedCurrently']].values)\n",
        "print(\"Max Difference = \",D)\n",
        "criticalval = 0.05\n",
        "if(D>criticalval):\n",
        "  print(\"We Reject the Null Hypothesis\")\n",
        "else:\n",
        "  print(\"We Accept the Null Hypothesis\")  \n",
        "\n",
        "print(\"\")\n",
        "print(\"Two sample K-S test for number of positive cases for NY and NJ:\")\n",
        "print(\"Null Hypothesis: The distributions for positive cases is same in NY and NJ\")\n",
        "D = TwoSampleKS(NyStatedata[['positiveIncrease']].values,NJStatedata[['positiveIncrease']].values)\n",
        "print(\"Max Difference = \",D)\n",
        "criticalval = 0.05\n",
        "if(D>criticalval):\n",
        "  print(\"We Reject the Null Hypothesis\")\n",
        "else:\n",
        "  print(\"We Accept the Null Hypothesis\")  "
      ],
      "execution_count": 59,
      "outputs": [
        {
          "output_type": "stream",
          "text": [
            "Two sample K-S test for number of hospitalizations for NY and NJ:\n",
            "Null Hypothesis: The distributions for hospitalizations is same in NY and NJ\n",
            "Max Difference =  0.569\n",
            "We Reject the Null Hypothesis\n",
            "\n",
            "Two sample K-S test for number of positive cases for NY and NJ:\n",
            "Null Hypothesis: The distributions for positive cases is same in NY and NJ\n",
            "Max Difference =  0.6379\n",
            "We Reject the Null Hypothesis\n"
          ],
          "name": "stdout"
        }
      ]
    },
    {
      "cell_type": "markdown",
      "metadata": {
        "id": "y0P-UyaXRdNv",
        "colab_type": "text"
      },
      "source": [
        "For both hospitalizations and deaths, K-S test rejects the null hypothesis that the respective distributions are same for New York and New Jersey.\n",
        "\n",
        "Given the distributions are different, this means that even though they had a similar outbreak timeline and shared borders, mitigation policies in each state did shape the course of outbreak differently in both the states."
      ]
    }
  ]
}